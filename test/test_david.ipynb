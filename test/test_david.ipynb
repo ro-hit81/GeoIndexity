{
 "cells": [
  {
   "cell_type": "code",
   "execution_count": 1,
   "id": "80a59db0-a7f7-4aff-aa41-893addd32d3b",
   "metadata": {
    "ExecuteTime": {
     "end_time": "2024-07-07T12:28:38.273297Z",
     "start_time": "2024-07-07T12:28:38.265385Z"
    }
   },
   "outputs": [],
   "source": [
    "import ee\n",
    "\n",
    "import pandas as pd \n",
    "import matplotlib.pyplot as plt\n",
    "import sys \n",
    "sys.path.append('../geoindexity')"
   ]
  },
  {
   "cell_type": "code",
   "execution_count": 2,
   "id": "b7b12582-c7f9-4366-891e-26f9aef1a28f",
   "metadata": {
    "ExecuteTime": {
     "end_time": "2024-07-07T10:59:32.734642Z",
     "start_time": "2024-07-07T10:59:30.290484Z"
    }
   },
   "outputs": [],
   "source": [
    "# In order to use GEE (its EO data collections AND computing resources) we have to authentificate\n",
    "# and to initialize the project we want to work in. \n",
    "ee.Authenticate()\n",
    "ee.Initialize()"
   ]
  },
  {
   "cell_type": "code",
   "execution_count": 3,
   "id": "eebdbdfa-c0f8-4a04-8c18-46c376e55fa6",
   "metadata": {},
   "outputs": [],
   "source": [
    "class time_series:\n",
    "    \"\"\"\n",
    "    The core geoindexity time series object. \n",
    "    ...\n",
    "\n",
    "    Attributes\n",
    "    ----------\n",
    "    aoi : list\n",
    "        [xmin, ymin, xmax, ymax]\n",
    "    startdate : str\n",
    "        'yyyy-mm-dd'\n",
    "    enddate : str\n",
    "        'yyyy-mm-dd'\n",
    "    product: str \n",
    "        GEE data set: 'S1', 'S2_TOA', 'S2_SR' \n",
    "    cloudcover: int \n",
    "        percentage cloudcover threshold for series\n",
    "    collection: ee.imagecollection.ImageCollection \n",
    "        the actual image collection as input for index \n",
    "        time-series\n",
    "\n",
    "    Methods\n",
    "    -------\n",
    "    fetch_data(self):\n",
    "        Fetches GEE Image collection based on the following time_series attributes:\n",
    "        product, aoi, startdate, enddate, cloudcover\n",
    "\n",
    "    \"\"\"\n",
    "    def __init__(self, aoi, startdate, enddate, product, cloudcover):\n",
    "        data_dict = {'S1': 'COPERNICUS/S1_GRD', \n",
    "             'S2_TOA': 'COPERNICUS/S2_HARMONIZED',\n",
    "             'S2_SR': 'COPERNICUS/S2_SR_HARMONIZED'}\n",
    "        \n",
    "        self.aoi = ee.Geometry.Rectangle(aoi)\n",
    "        self.startdate = startdate\n",
    "        self.enddate = enddate\n",
    "        self.product = data_dict[product] \n",
    "        self.cloudcover = cloudcover\n",
    "        self.collection = None\n",
    "\n",
    "    def __len__(self): \n",
    "        if self.collection != None:\n",
    "            return self.collection.size().getInfo()\n",
    "        else: \n",
    "            return 0\n",
    "\n",
    "    def fetch_data(self): \n",
    "        \"\"\"\n",
    "        Fetches GEE Image collection based on the following time_series attributes:\n",
    "        product, aoi, startdate, enddate, cloudcover\n",
    "        ...\n",
    "        Images with cloud percentage <= cloudcover are used for the collection\n",
    "        \"\"\"\n",
    "        ee_collection = ee.ImageCollection(self.product)\n",
    "        self.collection = ee_collection.filterBounds(self.aoi).filterDate(self.startdate, self.enddate).filter(ee.Filter.lte('CLOUDY_PIXEL_PERCENTAGE', self.cloudcover))    "
   ]
  },
  {
   "cell_type": "code",
   "execution_count": 4,
   "id": "45d77eba-307f-415b-b4a0-c8e51110cf21",
   "metadata": {},
   "outputs": [],
   "source": [
    "aoi = [-2.9,\n",
    "       47.48,\n",
    "       -2.6,\n",
    "       47.63\n",
    "      ]\n",
    "\n",
    "ts = time_series(aoi,\n",
    "            startdate='2023-06-01',\n",
    "            enddate='2023-08-30', \n",
    "            product= 'S2_SR', \n",
    "            cloudcover=10)"
   ]
  },
  {
   "cell_type": "code",
   "execution_count": 5,
   "id": "aa2aae27-197a-4084-a18f-2230043782e1",
   "metadata": {},
   "outputs": [
    {
     "data": {
      "text/plain": [
       "0"
      ]
     },
     "execution_count": 5,
     "metadata": {},
     "output_type": "execute_result"
    }
   ],
   "source": [
    "len(ts) "
   ]
  },
  {
   "cell_type": "code",
   "execution_count": 6,
   "id": "398d85eb-2c4f-4769-8d56-5919b5308480",
   "metadata": {},
   "outputs": [],
   "source": [
    "ts.fetch_data()"
   ]
  },
  {
   "cell_type": "code",
   "execution_count": 7,
   "id": "d6ad2f51-3b3f-47ad-b682-23729b4fc25b",
   "metadata": {},
   "outputs": [
    {
     "data": {
      "text/plain": [
       "7"
      ]
     },
     "execution_count": 7,
     "metadata": {},
     "output_type": "execute_result"
    }
   ],
   "source": [
    "len(ts)"
   ]
  },
  {
   "cell_type": "code",
   "execution_count": 8,
   "id": "5492e8d6-6b30-4d0b-bbad-877215e75530",
   "metadata": {},
   "outputs": [
    {
     "data": {
      "text/plain": [
       "ee.imagecollection.ImageCollection"
      ]
     },
     "execution_count": 8,
     "metadata": {},
     "output_type": "execute_result"
    }
   ],
   "source": [
    "type(ts.collection)"
   ]
  },
  {
   "cell_type": "markdown",
   "id": "9faa365edc4c56c9",
   "metadata": {
    "collapsed": false,
    "jupyter": {
     "outputs_hidden": false
    }
   },
   "source": [
    "## Testing 26/06"
   ]
  },
  {
   "cell_type": "code",
   "execution_count": 9,
   "id": "f2b8f42bf4f74cbb",
   "metadata": {
    "ExecuteTime": {
     "end_time": "2024-07-07T10:59:37.720802Z",
     "start_time": "2024-07-07T10:59:37.689293Z"
    },
    "collapsed": false,
    "jupyter": {
     "outputs_hidden": false
    }
   },
   "outputs": [],
   "source": [
    "from config import *"
   ]
  },
  {
   "cell_type": "code",
   "execution_count": 10,
   "id": "b29343436fe64ca6",
   "metadata": {
    "ExecuteTime": {
     "end_time": "2024-07-07T11:50:00.316650Z",
     "start_time": "2024-07-07T11:50:00.302025Z"
    },
    "collapsed": false,
    "jupyter": {
     "outputs_hidden": false
    }
   },
   "outputs": [],
   "source": [
    "class Sentinel:\n",
    "    \"\"\"\n",
    "    A class that represents the user speci\n",
    "    \"\"\"\n",
    "    def __init__(self, roi, start_date, end_date, properties=None):\n",
    "        self.roi = roi\n",
    "        self.start_date = start_date\n",
    "        self.end_date = end_date\n",
    "        self.collection_id= 'COPERNICUS/S2_SR_HARMONIZED'\n",
    "        self.properties = properties or {}\n",
    "\n",
    "    def bound(self):\n",
    "        return ee.Geometry.Rectangle(self.roi)\n",
    "\n",
    "    def select_product(self):\n",
    "        image_collection = ee.ImageCollection(self.collection_id)\n",
    "        image_collection = image_collection.filterDate(self.start_date, self.end_date)\n",
    "        image_collection = image_collection.filterBounds(self.bound())\n",
    "        if self.properties:\n",
    "            valid_properties = {\"CLOUDY_PIXEL_PERCENTAGE\": int, \"CLOUDY_SHADOW_PERCENTAGE\": int, \"DARK_FEATURES_PERCENTAGE\": int}\n",
    "            for property_name, value in self.properties.items():\n",
    "                if property_name not in valid_properties:\n",
    "                    raise KeyError(f\"Invalid property name: {property_name}. Supported properties: {', '.join(valid_properties.keys())}.\")\n",
    "                image_collection=image_collection.filter(ee.Filter.lte(property_name, value))\n",
    "        return image_collection\n",
    "\n",
    "    def number_of_images(self):\n",
    "        print(f'Total Sentinel images collected: {self.select_product().size().getInfo()}')"
   ]
  },
  {
   "cell_type": "code",
   "execution_count": 11,
   "id": "8451a40ee6d0c39f",
   "metadata": {
    "ExecuteTime": {
     "end_time": "2024-07-07T11:50:00.905743Z",
     "start_time": "2024-07-07T11:50:00.895852Z"
    },
    "collapsed": false,
    "jupyter": {
     "outputs_hidden": false
    }
   },
   "outputs": [],
   "source": [
    "class Landsat8:\n",
    "    \"\"\"\n",
    "    A class that represents the user speci\n",
    "    \"\"\"\n",
    "    def __init__(self, roi, start_date, end_date, properties=None):\n",
    "        self.roi = roi\n",
    "        self.start_date = start_date\n",
    "        self.end_date = end_date\n",
    "        self.collection_id= 'LANDSAT/LC08/C02/T1_L2'\n",
    "        self.properties = properties or {}\n",
    "\n",
    "    def bound(self):\n",
    "        return ee.Geometry.Rectangle(self.roi)\n",
    "\n",
    "    def select_product(self):\n",
    "        image_collection = ee.ImageCollection(self.collection_id)\n",
    "        image_collection = image_collection.filterDate(self.start_date, self.end_date)\n",
    "        image_collection = image_collection.filterBounds(self.bound())\n",
    "        if self.properties:\n",
    "            valid_properties = {\"CLOUDY_PIXEL_PERCENTAGE\": int, \"CLOUDY_SHADOW_PERCENTAGE\": int, \"DARK_FEATURES_PERCENTAGE\": int}\n",
    "            for property_name, value in self.properties.items():\n",
    "                if property_name not in valid_properties:\n",
    "                    raise KeyError(f\"Invalid property name: {property_name}. Supported properties: {', '.join(valid_properties.keys())}.\")\n",
    "                image_collection=image_collection.filter(ee.Filter.lte(property_name, value))\n",
    "        return image_collection"
   ]
  },
  {
   "cell_type": "code",
   "execution_count": 12,
   "id": "f4dde800ee6d7d2d",
   "metadata": {
    "ExecuteTime": {
     "end_time": "2024-07-07T12:34:05.121427Z",
     "start_time": "2024-07-07T12:34:05.098572Z"
    },
    "collapsed": false,
    "jupyter": {
     "outputs_hidden": false
    }
   },
   "outputs": [],
   "source": [
    "class Geoindexity:\n",
    "    \"\"\"\n",
    "    The core geoindexity time series object. \n",
    "    ...\n",
    "\n",
    "    Attributes\n",
    "    ----------\n",
    "    aoi : list\n",
    "        [xmin, ymin, xmax, ymax]\n",
    "    startdate : str\n",
    "        'yyyy-mm-dd''\n",
    "    enddate : str\n",
    "        'yyyy-mm-dd'\n",
    "    collection: str \n",
    "        default: 'Sentinel', 'Landsat' \n",
    "    properties: dict \n",
    "        percentage cloudcover threshold for series\n",
    "\n",
    "    Methods\n",
    "    -------\n",
    "    fetch_data(self):\n",
    "        Fetches GEE Image collection based on the following time_series attributes:\n",
    "        product, aoi, startdate, enddate, cloudcover\n",
    "\n",
    "    \"\"\"\n",
    "    # Will be changed accordingly to the config file parameters\n",
    "\n",
    "    def __init__(self, roi, start_date, end_date, collection_id='Sentinel', properties=None): # collection argument as identifier between Sentinel and Landsat? \n",
    "        self.roi = roi\n",
    "        self.start_date = start_date\n",
    "        self.end_date = end_date\n",
    "        self.collection_id = collection_id\n",
    "        self.properties = properties\n",
    "        self.reducer = None \n",
    "        self.df = None \n",
    "\n",
    "        if self.collection_id == 'Sentinel':\n",
    "            self.collection = Sentinel(roi=self.roi,\n",
    "                                       start_date=self.start_date,\n",
    "                                       end_date=self.end_date,\n",
    "                                       properties=self.properties\n",
    "                                       ).select_product()\n",
    "\n",
    "        if self.collection_id == 'Landsat8':\n",
    "            self.collection = Landsat8(roi=self.roi,\n",
    "                                       start_date=self.start_date,\n",
    "                                       end_date=self.end_date,\n",
    "                                       properties=self.properties\n",
    "                                       ).select_product()\n",
    "\n",
    "    def __len__(self):\n",
    "        return self.collection.size().getInfo()\n",
    "\n",
    "    def bound(self):\n",
    "        return ee.Geometry.Rectangle(self.roi)\n",
    "\n",
    "    def add_ndvi(self, image):\n",
    "        if self.collection_id == 'Sentinel':\n",
    "            ndvi = image.expression(\n",
    "                '((nir-red)/(nir+red))',\n",
    "                {'nir': image.select('B4'),\n",
    "                 'red': image.select('B8')}\n",
    "            ).rename('NDVI')\n",
    "        elif self.collection == 'Landsat8':\n",
    "            ndvi = image.expression(\n",
    "                '((nir - red)/(nir + red))',\n",
    "                {'nir': image.select('SR_B5'),\n",
    "                 'red': image.select('SR_B4')}\n",
    "            ).rename('NDVI')\n",
    "\n",
    "        return image.addBands(ndvi)\n",
    "\n",
    "\n",
    "    def add_evi(self, image):\n",
    "        if self.collection == 'Sentinel':\n",
    "            evi = image.expression(\n",
    "                '2.4*((nir-red)/(nir+ 6*red - 7.5* blue +1))',\n",
    "                {'nir': image.select('SR_B8'),\n",
    "                 'red': image.select('SR_B4'),\n",
    "                 'blue': image.select('SR_B2')}\n",
    "            ).rename('EVI')\n",
    "\n",
    "\n",
    "        elif self.collection == 'Landsat8':\n",
    "            evi = image.expression(\n",
    "                '(2.5 * (nir–red) / (nir + 6 * red – 7.5 * blue + 1)', # Change to Landsat8 here!\n",
    "                {'nir': image.select('SR_B5'),\n",
    "                 'red': image.select('SR_B4'),\n",
    "                 'blue': image.select('SR_B2')}\n",
    "            ).rename('EVI')\n",
    "\n",
    "        return image.addBands(evi)\n",
    "\n",
    "    def ndvi_collection(self):\n",
    "        self.collection = self.collection.map(self.add_ndvi)\n",
    "\n",
    "    def evi_collection(self):\n",
    "        self.collection = self.collection.map(self.add_evi)\n",
    "\n",
    "    def reduce_ndvi_mean(self):\n",
    "        aoi = self.bound()\n",
    "\n",
    "        def aoi_ndvi_mean(image, aoi=aoi):\n",
    "            # Extract the date from the image metadata\n",
    "            date = ee.Date(image.get('system:time_start')).format(\"YYYY-MM-dd\", 'UTC')\n",
    "        \n",
    "            # Calculate the mean NDVI value within the AOI\n",
    "            mean = image.select('NDVI').reduceRegion(\n",
    "                reducer=ee.Reducer.mean(),\n",
    "                geometry=aoi\n",
    "            ).get('NDVI')\n",
    "        \n",
    "            # Return the date and mean NDVI as a feature\n",
    "            return ee.Feature(None, {\n",
    "                'date': date,\n",
    "                'mean_ndvi': mean\n",
    "            })\n",
    "\n",
    "        features= self.collection.map(aoi_ndvi_mean).getInfo()\n",
    "    \n",
    "        # Extract dates and mean NDVI values from the feature collection\n",
    "        dates = [feature['properties']['date'] for feature in features['features']]\n",
    "        mean_ndvi = [features['properties']['mean_ndvi'] for features in features['features']]\n",
    "    \n",
    "        # Create a DataFrame from the extracted data\n",
    "        df = pd.DataFrame({\n",
    "            'Date': dates,\n",
    "            'Mean_NDVI': mean_ndvi\n",
    "        })\n",
    "    \n",
    "        # Sort the DataFrame by date\n",
    "        df_sorted = df.sort_values(by='Date')\n",
    "    \n",
    "        self.df = df_sorted\n",
    "        self.reducer = 'NDVI_MEAN'\n",
    "\n",
    "\n",
    "    def plot(self):\n",
    "            if self.reducer == 'NDVI_MEAN':            \n",
    "                plt.figure(figsize=(10, 5))\n",
    "                plt.plot(self.df['Date'], self.df['Mean_NDVI'], marker='o', linestyle='--')\n",
    "                plt.title('Mean NDVI Time Series')\n",
    "                plt.xlabel('Date')\n",
    "                plt.xticks(rotation=45)\n",
    "                plt.ylabel('Mean NDVI')\n",
    "                plt.yticks(np.arange(-1, 1, 0.5))\n",
    "                plt.grid(True)\n",
    "                plt.show()\n",
    "            \n",
    "        "
   ]
  },
  {
   "cell_type": "code",
   "execution_count": 13,
   "id": "8d31c9bcc7579a14",
   "metadata": {
    "ExecuteTime": {
     "end_time": "2024-07-07T12:34:06.138041Z",
     "start_time": "2024-07-07T12:34:06.132166Z"
    },
    "collapsed": false,
    "jupyter": {
     "outputs_hidden": false
    }
   },
   "outputs": [],
   "source": [
    "x = Geoindexity(roi, start_date, end_date, collection_id='Sentinel')"
   ]
  },
  {
   "cell_type": "code",
   "execution_count": 14,
   "id": "678e424c6a5b7b44",
   "metadata": {
    "ExecuteTime": {
     "end_time": "2024-07-07T12:34:06.151384Z",
     "start_time": "2024-07-07T12:34:06.141053Z"
    },
    "collapsed": false,
    "jupyter": {
     "outputs_hidden": false
    }
   },
   "outputs": [],
   "source": [
    "x.ndvi_collection()"
   ]
  },
  {
   "cell_type": "code",
   "execution_count": 15,
   "id": "4befe89055126796",
   "metadata": {
    "ExecuteTime": {
     "end_time": "2024-07-07T12:34:06.162770Z",
     "start_time": "2024-07-07T12:34:06.154391Z"
    },
    "collapsed": false,
    "jupyter": {
     "outputs_hidden": false
    }
   },
   "outputs": [
    {
     "name": "stdout",
     "output_type": "stream",
     "text": [
      "None\n"
     ]
    }
   ],
   "source": [
    "print(x.reducer) "
   ]
  },
  {
   "cell_type": "code",
   "execution_count": 16,
   "id": "faf9a1032340db88",
   "metadata": {
    "ExecuteTime": {
     "end_time": "2024-07-07T12:34:07.253182Z",
     "start_time": "2024-07-07T12:34:06.167131Z"
    },
    "collapsed": false,
    "jupyter": {
     "outputs_hidden": false
    }
   },
   "outputs": [],
   "source": [
    "x.reduce_ndvi_mean()"
   ]
  },
  {
   "cell_type": "code",
   "execution_count": 17,
   "id": "53756ab305085556",
   "metadata": {
    "ExecuteTime": {
     "end_time": "2024-07-07T12:34:07.279859Z",
     "start_time": "2024-07-07T12:34:07.256603Z"
    },
    "collapsed": false,
    "jupyter": {
     "outputs_hidden": false
    }
   },
   "outputs": [
    {
     "name": "stdout",
     "output_type": "stream",
     "text": [
      "NDVI_MEAN\n"
     ]
    },
    {
     "data": {
      "text/html": [
       "<div>\n",
       "<style scoped>\n",
       "    .dataframe tbody tr th:only-of-type {\n",
       "        vertical-align: middle;\n",
       "    }\n",
       "\n",
       "    .dataframe tbody tr th {\n",
       "        vertical-align: top;\n",
       "    }\n",
       "\n",
       "    .dataframe thead th {\n",
       "        text-align: right;\n",
       "    }\n",
       "</style>\n",
       "<table border=\"1\" class=\"dataframe\">\n",
       "  <thead>\n",
       "    <tr style=\"text-align: right;\">\n",
       "      <th></th>\n",
       "      <th>Date</th>\n",
       "      <th>Mean_NDVI</th>\n",
       "    </tr>\n",
       "  </thead>\n",
       "  <tbody>\n",
       "    <tr>\n",
       "      <th>0</th>\n",
       "      <td>2020-01-01</td>\n",
       "      <td>-0.566154</td>\n",
       "    </tr>\n",
       "    <tr>\n",
       "      <th>1</th>\n",
       "      <td>2020-01-01</td>\n",
       "      <td>-0.517421</td>\n",
       "    </tr>\n",
       "    <tr>\n",
       "      <th>2</th>\n",
       "      <td>2020-01-01</td>\n",
       "      <td>-0.493941</td>\n",
       "    </tr>\n",
       "    <tr>\n",
       "      <th>3</th>\n",
       "      <td>2020-01-04</td>\n",
       "      <td>-0.017627</td>\n",
       "    </tr>\n",
       "    <tr>\n",
       "      <th>4</th>\n",
       "      <td>2020-01-04</td>\n",
       "      <td>-0.020999</td>\n",
       "    </tr>\n",
       "    <tr>\n",
       "      <th>...</th>\n",
       "      <td>...</td>\n",
       "      <td>...</td>\n",
       "    </tr>\n",
       "    <tr>\n",
       "      <th>107</th>\n",
       "      <td>2020-03-16</td>\n",
       "      <td>-0.613510</td>\n",
       "    </tr>\n",
       "    <tr>\n",
       "      <th>110</th>\n",
       "      <td>2020-03-19</td>\n",
       "      <td>-0.564921</td>\n",
       "    </tr>\n",
       "    <tr>\n",
       "      <th>108</th>\n",
       "      <td>2020-03-19</td>\n",
       "      <td>-0.607619</td>\n",
       "    </tr>\n",
       "    <tr>\n",
       "      <th>109</th>\n",
       "      <td>2020-03-19</td>\n",
       "      <td>-0.563522</td>\n",
       "    </tr>\n",
       "    <tr>\n",
       "      <th>111</th>\n",
       "      <td>2020-03-19</td>\n",
       "      <td>-0.568980</td>\n",
       "    </tr>\n",
       "  </tbody>\n",
       "</table>\n",
       "<p>112 rows × 2 columns</p>\n",
       "</div>"
      ],
      "text/plain": [
       "           Date  Mean_NDVI\n",
       "0    2020-01-01  -0.566154\n",
       "1    2020-01-01  -0.517421\n",
       "2    2020-01-01  -0.493941\n",
       "3    2020-01-04  -0.017627\n",
       "4    2020-01-04  -0.020999\n",
       "..          ...        ...\n",
       "107  2020-03-16  -0.613510\n",
       "110  2020-03-19  -0.564921\n",
       "108  2020-03-19  -0.607619\n",
       "109  2020-03-19  -0.563522\n",
       "111  2020-03-19  -0.568980\n",
       "\n",
       "[112 rows x 2 columns]"
      ]
     },
     "execution_count": 17,
     "metadata": {},
     "output_type": "execute_result"
    }
   ],
   "source": [
    "print(x.reducer) \n",
    "x.df"
   ]
  },
  {
   "cell_type": "code",
   "execution_count": 18,
   "id": "fb95d7e68141be96",
   "metadata": {
    "ExecuteTime": {
     "end_time": "2024-07-07T12:34:07.649512Z",
     "start_time": "2024-07-07T12:34:07.283445Z"
    },
    "collapsed": false,
    "jupyter": {
     "outputs_hidden": false
    }
   },
   "outputs": [
    {
     "ename": "NameError",
     "evalue": "name 'np' is not defined",
     "output_type": "error",
     "traceback": [
      "\u001b[1;31m---------------------------------------------------------------------------\u001b[0m",
      "\u001b[1;31mNameError\u001b[0m                                 Traceback (most recent call last)",
      "Cell \u001b[1;32mIn[18], line 1\u001b[0m\n\u001b[1;32m----> 1\u001b[0m \u001b[43mx\u001b[49m\u001b[38;5;241;43m.\u001b[39;49m\u001b[43mplot\u001b[49m\u001b[43m(\u001b[49m\u001b[43m)\u001b[49m\n",
      "Cell \u001b[1;32mIn[12], line 146\u001b[0m, in \u001b[0;36mGeoindexity.plot\u001b[1;34m(self)\u001b[0m\n\u001b[0;32m    144\u001b[0m plt\u001b[38;5;241m.\u001b[39mxticks(rotation\u001b[38;5;241m=\u001b[39m\u001b[38;5;241m45\u001b[39m)\n\u001b[0;32m    145\u001b[0m plt\u001b[38;5;241m.\u001b[39mylabel(\u001b[38;5;124m'\u001b[39m\u001b[38;5;124mMean NDVI\u001b[39m\u001b[38;5;124m'\u001b[39m)\n\u001b[1;32m--> 146\u001b[0m plt\u001b[38;5;241m.\u001b[39myticks(\u001b[43mnp\u001b[49m\u001b[38;5;241m.\u001b[39marange(\u001b[38;5;241m-\u001b[39m\u001b[38;5;241m1\u001b[39m, \u001b[38;5;241m1\u001b[39m, \u001b[38;5;241m0.5\u001b[39m))\n\u001b[0;32m    147\u001b[0m plt\u001b[38;5;241m.\u001b[39mgrid(\u001b[38;5;28;01mTrue\u001b[39;00m)\n\u001b[0;32m    148\u001b[0m plt\u001b[38;5;241m.\u001b[39mshow()\n",
      "\u001b[1;31mNameError\u001b[0m: name 'np' is not defined"
     ]
    },
    {
     "data": {
      "image/png": "[encoded data removed]",
      "text/plain": [
       "<Figure size 1000x500 with 1 Axes>"
      ]
     },
     "metadata": {},
     "output_type": "display_data"
    }
   ],
   "source": [
    "x.plot() "
   ]
  },
  {
   "cell_type": "code",
   "execution_count": null,
   "id": "b7ab6cf7-7566-49de-8cee-f585ca0357b8",
   "metadata": {},
   "outputs": [],
   "source": []
  }
 ],
 "metadata": {
  "kernelspec": {
   "display_name": "Python 3 (ipykernel)",
   "language": "python",
   "name": "python3"
  },
  "language_info": {
   "codemirror_mode": {
    "name": "ipython",
    "version": 3
   },
   "file_extension": ".py",
   "mimetype": "text/x-python",
   "name": "python",
   "nbconvert_exporter": "python",
   "pygments_lexer": "ipython3",
   "version": "3.8.19"
  }
 },
 "nbformat": 4,
 "nbformat_minor": 5
}
