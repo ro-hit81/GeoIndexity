{
 "cells": [
  {
   "cell_type": "code",
   "execution_count": 8,
   "id": "80a59db0-a7f7-4aff-aa41-893addd32d3b",
   "metadata": {
    "ExecuteTime": {
     "end_time": "2024-06-26T11:25:34.133153Z",
     "start_time": "2024-06-26T11:25:34.129638Z"
    }
   },
   "outputs": [],
   "source": [
    "import ee\n",
    "\n",
    "import sys \n",
    "sys.path.append('../geoindexity')"
   ]
  },
  {
   "cell_type": "code",
   "execution_count": 3,
   "id": "b7b12582-c7f9-4366-891e-26f9aef1a28f",
   "metadata": {
    "ExecuteTime": {
     "end_time": "2024-06-26T11:24:27.667409Z",
     "start_time": "2024-06-26T11:24:25.105545Z"
    }
   },
   "outputs": [],
   "source": [
    "# In order to use GEE (its EO data collections AND computing resources) we have to authentificate\n",
    "# and to initialize the project we want to work in. \n",
    "ee.Authenticate()\n",
    "ee.Initialize()"
   ]
  },
  {
   "cell_type": "code",
   "execution_count": 3,
   "id": "eebdbdfa-c0f8-4a04-8c18-46c376e55fa6",
   "metadata": {},
   "outputs": [],
   "source": [
    "class time_series:\n",
    "    \"\"\"\n",
    "    The core geoindexity time series object. \n",
    "    ...\n",
    "\n",
    "    Attributes\n",
    "    ----------\n",
    "    aoi : list\n",
    "        [xmin, ymin, xmax, ymax]\n",
    "    startdate : str\n",
    "        'yyyy-mm-dd'\n",
    "    enddate : str\n",
    "        'yyyy-mm-dd'\n",
    "    product: str \n",
    "        GEE data set: 'S1', 'S2_TOA', 'S2_SR' \n",
    "    cloudcover: int \n",
    "        percentage cloudcover threshold for series\n",
    "    collection: ee.imagecollection.ImageCollection \n",
    "        the actual image collection as input for index \n",
    "        time-series\n",
    "\n",
    "    Methods\n",
    "    -------\n",
    "    fetch_data(self):\n",
    "        Fetches GEE Image collection based on the following time_series attributes:\n",
    "        product, aoi, startdate, enddate, cloudcover\n",
    "\n",
    "    \"\"\"\n",
    "    def __init__(self, aoi, startdate, enddate, product, cloudcover):\n",
    "        data_dict = {'S1': 'COPERNICUS/S1_GRD', \n",
    "             'S2_TOA': 'COPERNICUS/S2_HARMONIZED',\n",
    "             'S2_SR': 'COPERNICUS/S2_SR_HARMONIZED'}\n",
    "        \n",
    "        self.aoi = ee.Geometry.Rectangle(aoi)\n",
    "        self.startdate = startdate\n",
    "        self.enddate = enddate\n",
    "        self.product = data_dict[product] \n",
    "        self.cloudcover = cloudcover\n",
    "        self.collection = None\n",
    "\n",
    "    def __len__(self): \n",
    "        if self.collection != None:\n",
    "            return self.collection.size().getInfo()\n",
    "        else: \n",
    "            return 0\n",
    "\n",
    "    def fetch_data(self): \n",
    "        \"\"\"\n",
    "        Fetches GEE Image collection based on the following time_series attributes:\n",
    "        product, aoi, startdate, enddate, cloudcover\n",
    "        ...\n",
    "        Images with cloud percentage <= cloudcover are used for the collection\n",
    "        \"\"\"\n",
    "        ee_collection = ee.ImageCollection(self.product)\n",
    "        self.collection = ee_collection.filterBounds(self.aoi).filterDate(self.startdate, self.enddate).filter(ee.Filter.lte('CLOUDY_PIXEL_PERCENTAGE', self.cloudcover))    "
   ]
  },
  {
   "cell_type": "code",
   "execution_count": 4,
   "id": "45d77eba-307f-415b-b4a0-c8e51110cf21",
   "metadata": {},
   "outputs": [],
   "source": [
    "aoi = [-2.9,\n",
    "       47.48,\n",
    "       -2.6,\n",
    "       47.63\n",
    "      ]\n",
    "\n",
    "ts = time_series(aoi,\n",
    "            startdate='2023-06-01',\n",
    "            enddate='2023-08-30', \n",
    "            product= 'S2_SR', \n",
    "            cloudcover=10)"
   ]
  },
  {
   "cell_type": "code",
   "execution_count": 5,
   "id": "aa2aae27-197a-4084-a18f-2230043782e1",
   "metadata": {},
   "outputs": [
    {
     "data": {
      "text/plain": [
       "0"
      ]
     },
     "execution_count": 5,
     "metadata": {},
     "output_type": "execute_result"
    }
   ],
   "source": [
    "len(ts) "
   ]
  },
  {
   "cell_type": "code",
   "execution_count": 6,
   "id": "398d85eb-2c4f-4769-8d56-5919b5308480",
   "metadata": {},
   "outputs": [],
   "source": [
    "ts.fetch_data()"
   ]
  },
  {
   "cell_type": "code",
   "execution_count": 7,
   "id": "d6ad2f51-3b3f-47ad-b682-23729b4fc25b",
   "metadata": {},
   "outputs": [
    {
     "data": {
      "text/plain": [
       "7"
      ]
     },
     "execution_count": 7,
     "metadata": {},
     "output_type": "execute_result"
    }
   ],
   "source": [
    "len(ts)"
   ]
  },
  {
   "cell_type": "code",
   "execution_count": 8,
   "id": "5492e8d6-6b30-4d0b-bbad-877215e75530",
   "metadata": {},
   "outputs": [
    {
     "data": {
      "text/plain": [
       "ee.imagecollection.ImageCollection"
      ]
     },
     "execution_count": 8,
     "metadata": {},
     "output_type": "execute_result"
    }
   ],
   "source": [
    "type(ts.collection)"
   ]
  },
  {
   "cell_type": "markdown",
   "source": [
    "## Testing 26/06"
   ],
   "metadata": {
    "collapsed": false
   },
   "id": "9faa365edc4c56c9"
  },
  {
   "cell_type": "code",
   "outputs": [],
   "source": [
    "from config import *"
   ],
   "metadata": {
    "collapsed": false,
    "ExecuteTime": {
     "end_time": "2024-06-26T11:25:37.985669Z",
     "start_time": "2024-06-26T11:25:37.970035Z"
    }
   },
   "id": "f2b8f42bf4f74cbb",
   "execution_count": 9
  },
  {
   "cell_type": "code",
   "outputs": [],
   "source": [
    "class Sentinel:\n",
    "    \"\"\"\n",
    "    A class that represents the user speci\n",
    "    \"\"\"\n",
    "    def __init__(self, roi, start_date, end_date, properties=None):\n",
    "        self.roi = roi\n",
    "        self.start_date = start_date\n",
    "        self.end_date = end_date\n",
    "        self.collection_id= 'COPERNICUS/S2_SR_HARMONIZED'\n",
    "        self.properties = properties or {}\n",
    "\n",
    "    def bound(self):\n",
    "        return ee.Geometry.Rectangle(self.roi)\n",
    "\n",
    "    def select_product(self):\n",
    "        image_collection = ee.ImageCollection(self.collection_id)\n",
    "        image_collection = image_collection.filterDate(self.start_date, self.end_date)\n",
    "        image_collection = image_collection.filterBounds(self.bound())\n",
    "        if self.properties:\n",
    "            valid_properties = {\"CLOUDY_PIXEL_PERCENTAGE\": int, \"CLOUDY_SHADOW_PERCENTAGE\": int, \"DARK_FEATURES_PERCENTAGE\": int}\n",
    "            for property_name, value in self.properties.items():\n",
    "                if property_name not in valid_properties:\n",
    "                    raise KeyError(f\"Invalid property name: {property_name}. Supported properties: {', '.join(valid_properties.keys())}.\")\n",
    "                image_collection=image_collection.filter(ee.Filter.lte(property_name, value))\n",
    "        return image_collection\n",
    "\n",
    "    def number_of_images(self):\n",
    "        print(f'Total Sentinel images collected: {self.select_product().size().getInfo()}')"
   ],
   "metadata": {
    "collapsed": false,
    "ExecuteTime": {
     "end_time": "2024-06-26T11:25:40.041141Z",
     "start_time": "2024-06-26T11:25:40.033867Z"
    }
   },
   "id": "b29343436fe64ca6",
   "execution_count": 10
  },
  {
   "cell_type": "code",
   "outputs": [],
   "source": [
    "class Landsat8:\n",
    "    \"\"\"\n",
    "    A class that represents the user speci\n",
    "    \"\"\"\n",
    "    def __init__(self, roi, start_date, end_date, properties=None):\n",
    "        self.roi = roi\n",
    "        self.start_date = start_date\n",
    "        self.end_date = end_date\n",
    "        self.collection_id= 'LANDSAT/LC08/C02/T1_L2'\n",
    "        self.properties = properties or {}\n",
    "\n",
    "    def bound(self):\n",
    "        return ee.Geometry.Rectangle(self.roi)\n",
    "\n",
    "    def select_product(self):\n",
    "        image_collection = ee.ImageCollection(self.collection_id)\n",
    "        image_collection = image_collection.filterDate(self.start_date, self.end_date)\n",
    "        image_collection = image_collection.filterBounds(self.bound())\n",
    "        if self.properties:\n",
    "            valid_properties = {\"CLOUDY_PIXEL_PERCENTAGE\": int, \"CLOUDY_SHADOW_PERCENTAGE\": int, \"DARK_FEATURES_PERCENTAGE\": int}\n",
    "            for property_name, value in self.properties.items():\n",
    "                if property_name not in valid_properties:\n",
    "                    raise KeyError(f\"Invalid property name: {property_name}. Supported properties: {', '.join(valid_properties.keys())}.\")\n",
    "                image_collection=image_collection.filter(ee.Filter.lte(property_name, value))\n",
    "        return image_collection\n",
    "\n",
    "class Geoindexity:\n",
    "    \"\"\"\n",
    "    The core geoindexity time series object. \n",
    "    ...\n",
    "\n",
    "    Attributes\n",
    "    ----------\n",
    "    aoi : list\n",
    "        [xmin, ymin, xmax, ymax]\n",
    "    startdate : str\n",
    "        'yyyy-mm-dd''\n",
    "    enddate : str\n",
    "        'yyyy-mm-dd'\n",
    "    collection: str \n",
    "        default: 'Sentinel', 'Landsat' \n",
    "    properties: dict \n",
    "        percentage cloudcover threshold for series\n",
    "\n",
    "    Methods\n",
    "    -------\n",
    "    fetch_data(self):\n",
    "        Fetches GEE Image collection based on the following time_series attributes:\n",
    "        product, aoi, startdate, enddate, cloudcover\n",
    "\n",
    "    \"\"\"\n",
    "    # Will be changed accordingly to the config file parameters\n",
    "\n",
    "    def __init__(self, roi, start_date, end_date, collection_id='Sentinel', properties=None): # collection argument as identifier between Sentinel and Landsat? \n",
    "        self.roi = roi\n",
    "        self.start_date = start_date\n",
    "        self.end_date = end_date\n",
    "        self.collection_id = collection_id\n",
    "        self.properties = properties\n",
    "\n",
    "\n",
    "        if self.collection_id == 'Sentinel':\n",
    "            self.collection = Sentinel(roi=self.roi,\n",
    "                                       start_date=self.start_date,\n",
    "                                       end_date=self.end_date,\n",
    "                                       properties=self.properties\n",
    "                                       ).select_product()\n",
    "\n",
    "        if self.collection_id == 'Landsat8':\n",
    "            self.collection = Landsat8(roi=self.roi,\n",
    "                                       start_date=self.start_date,\n",
    "                                       end_date=self.end_date,\n",
    "                                       properties=self.properties\n",
    "                                       ).select_product()\n",
    "\n",
    "    def __len__(self):\n",
    "        return self.collection.size().getInfo()\n",
    "\n",
    "    def bound(self):\n",
    "        return ee.Geometry.Rectangle(self.roi)\n",
    "\n",
    "    def add_ndvi(self, image):\n",
    "        if self.collection_id == 'Sentinel':\n",
    "            ndvi = image.expression(\n",
    "                '((nir-red)/(nir+red))',\n",
    "                {'nir': image.select('B4'),\n",
    "                 'red': image.select('B8')}\n",
    "            ).rename('NDVI')\n",
    "        elif self.collection == 'Landsat8':\n",
    "            ndvi = image.expression(\n",
    "                '((nir - red)/(nir + red))',\n",
    "                {'nir': image.select('SR_B5'),\n",
    "                 'red': image.select('SR_B4')}\n",
    "            ).rename('NDVI')\n",
    "\n",
    "        return image.addBands(ndvi)\n",
    "\n",
    "\n",
    "    def add_evi(self, image):\n",
    "        if self.collection == 'Sentinel':\n",
    "            evi = image.expression(\n",
    "                '2.4*((nir-red)/(nir+ 6*red - 7.5* blue +1))',\n",
    "                {'nir': image.select('SR_B8'),\n",
    "                 'red': image.select('SR_B4'),\n",
    "                 'blue': image.select('SR_B2')}\n",
    "            ).rename('EVI')\n",
    "\n",
    "\n",
    "        elif self.collection == 'Landsat8':\n",
    "            evi = image.expression(\n",
    "                '(2.5 * (nir–red) / (nir + 6 * red – 7.5 * blue + 1)', # Change to Landsat8 here!\n",
    "                {'nir': image.select('SR_B5'),\n",
    "                 'red': image.select('SR_B4'),\n",
    "                 'blue': image.select('SR_B2')}\n",
    "            ).rename('EVI')\n",
    "\n",
    "        return image.addBands(evi)\n",
    "\n",
    "    def ndvi_collection(self):\n",
    "        self.collection = self.collection.map(self.add_ndvi)\n",
    "\n",
    "    def evi_collection(self):\n",
    "        self.collection = self.collection.map(self.add_evi)\n"
   ],
   "metadata": {
    "collapsed": false,
    "ExecuteTime": {
     "end_time": "2024-06-26T11:35:08.422838Z",
     "start_time": "2024-06-26T11:35:08.407741Z"
    }
   },
   "id": "f4dde800ee6d7d2d",
   "execution_count": 32
  },
  {
   "cell_type": "code",
   "outputs": [],
   "source": [
    "x = Geoindexity(roi, start_date, end_date, collection_id='Sentinel')"
   ],
   "metadata": {
    "collapsed": false,
    "ExecuteTime": {
     "end_time": "2024-06-26T11:38:28.685131Z",
     "start_time": "2024-06-26T11:38:28.678393Z"
    }
   },
   "id": "8d31c9bcc7579a14",
   "execution_count": 44
  },
  {
   "cell_type": "code",
   "outputs": [],
   "source": [
    "y = Geoindexity(roi, start_date, end_date, collection_id='Landsat8')"
   ],
   "metadata": {
    "collapsed": false,
    "ExecuteTime": {
     "end_time": "2024-06-26T11:35:11.990667Z",
     "start_time": "2024-06-26T11:35:11.985107Z"
    }
   },
   "id": "b4c4405a92179d31",
   "execution_count": 33
  },
  {
   "cell_type": "code",
   "outputs": [],
   "source": [
    "def test_index(index, geoindexity): \n",
    "    if index in geoindexity.collection.first().bandNames().getInfo():\n",
    "        print('JUHUU')\n",
    "    else: \n",
    "        print('MEEH')"
   ],
   "metadata": {
    "collapsed": false,
    "ExecuteTime": {
     "end_time": "2024-06-26T11:37:47.446863Z",
     "start_time": "2024-06-26T11:37:47.441792Z"
    }
   },
   "id": "94b09524700e81f2",
   "execution_count": 41
  },
  {
   "cell_type": "code",
   "outputs": [
    {
     "name": "stdout",
     "output_type": "stream",
     "text": [
      "MEEH\n"
     ]
    }
   ],
   "source": [
    "test_index('NDVI', x)"
   ],
   "metadata": {
    "collapsed": false,
    "ExecuteTime": {
     "end_time": "2024-06-26T11:38:33.380083Z",
     "start_time": "2024-06-26T11:38:33.157830Z"
    }
   },
   "id": "c6dd759807bb9748",
   "execution_count": 45
  },
  {
   "cell_type": "code",
   "outputs": [
    {
     "name": "stdout",
     "output_type": "stream",
     "text": [
      "JUHUU\n"
     ]
    }
   ],
   "source": [
    "x.ndvi_collection()\n",
    "test_index('NDVI', x)"
   ],
   "metadata": {
    "collapsed": false,
    "ExecuteTime": {
     "end_time": "2024-06-26T11:38:45.641004Z",
     "start_time": "2024-06-26T11:38:45.367986Z"
    }
   },
   "id": "911ff6e1c13ec3bd",
   "execution_count": 46
  },
  {
   "cell_type": "code",
   "outputs": [
    {
     "ename": "UnboundLocalError",
     "evalue": "cannot access local variable 'ndvi' where it is not associated with a value",
     "output_type": "error",
     "traceback": [
      "\u001B[1;31m---------------------------------------------------------------------------\u001B[0m",
      "\u001B[1;31mUnboundLocalError\u001B[0m                         Traceback (most recent call last)",
      "Cell \u001B[1;32mIn[47], line 1\u001B[0m\n\u001B[1;32m----> 1\u001B[0m y\u001B[38;5;241m.\u001B[39mndvi_collection()\n\u001B[0;32m      2\u001B[0m test_index(\u001B[38;5;124m'\u001B[39m\u001B[38;5;124mNDVI\u001B[39m\u001B[38;5;124m'\u001B[39m, y)\n",
      "Cell \u001B[1;32mIn[32], line 120\u001B[0m, in \u001B[0;36mGeoindexity.ndvi_collection\u001B[1;34m(self)\u001B[0m\n\u001B[0;32m    119\u001B[0m \u001B[38;5;28;01mdef\u001B[39;00m \u001B[38;5;21mndvi_collection\u001B[39m(\u001B[38;5;28mself\u001B[39m):\n\u001B[1;32m--> 120\u001B[0m     \u001B[38;5;28mself\u001B[39m\u001B[38;5;241m.\u001B[39mcollection \u001B[38;5;241m=\u001B[39m \u001B[38;5;28mself\u001B[39m\u001B[38;5;241m.\u001B[39mcollection\u001B[38;5;241m.\u001B[39mmap(\u001B[38;5;28mself\u001B[39m\u001B[38;5;241m.\u001B[39madd_ndvi)\n",
      "File \u001B[1;32m~\\anaconda3\\envs\\gee_test\\Lib\\site-packages\\ee\\_utils.py:38\u001B[0m, in \u001B[0;36maccept_opt_prefix.<locals>.opt_fixed.<locals>.wrapper\u001B[1;34m(*args, **kwargs)\u001B[0m\n\u001B[0;32m     36\u001B[0m     \u001B[38;5;28;01mif\u001B[39;00m new_key \u001B[38;5;129;01mnot\u001B[39;00m \u001B[38;5;129;01min\u001B[39;00m kwargs:\n\u001B[0;32m     37\u001B[0m       kwargs[new_key] \u001B[38;5;241m=\u001B[39m old_key_val\n\u001B[1;32m---> 38\u001B[0m \u001B[38;5;28;01mreturn\u001B[39;00m func(\u001B[38;5;241m*\u001B[39margs, \u001B[38;5;241m*\u001B[39m\u001B[38;5;241m*\u001B[39mkwargs)\n",
      "File \u001B[1;32m~\\anaconda3\\envs\\gee_test\\Lib\\site-packages\\ee\\collection.py:245\u001B[0m, in \u001B[0;36mCollection.map\u001B[1;34m(self, algorithm, dropNulls)\u001B[0m\n\u001B[0;32m    242\u001B[0m element_type \u001B[38;5;241m=\u001B[39m \u001B[38;5;28mself\u001B[39m\u001B[38;5;241m.\u001B[39melementType()\n\u001B[0;32m    243\u001B[0m with_cast \u001B[38;5;241m=\u001B[39m \u001B[38;5;28;01mlambda\u001B[39;00m e: algorithm(element_type(e, \u001B[38;5;28;01mNone\u001B[39;00m))\n\u001B[0;32m    244\u001B[0m \u001B[38;5;28;01mreturn\u001B[39;00m \u001B[38;5;28mself\u001B[39m\u001B[38;5;241m.\u001B[39m_cast(\n\u001B[1;32m--> 245\u001B[0m     apifunction\u001B[38;5;241m.\u001B[39mApiFunction\u001B[38;5;241m.\u001B[39mcall_(\n\u001B[0;32m    246\u001B[0m         \u001B[38;5;124m'\u001B[39m\u001B[38;5;124mCollection.map\u001B[39m\u001B[38;5;124m'\u001B[39m, \u001B[38;5;28mself\u001B[39m, with_cast, dropNulls\n\u001B[0;32m    247\u001B[0m     )\n\u001B[0;32m    248\u001B[0m )\n",
      "File \u001B[1;32m~\\anaconda3\\envs\\gee_test\\Lib\\site-packages\\ee\\apifunction.py:84\u001B[0m, in \u001B[0;36mApiFunction.call_\u001B[1;34m(cls, name, *args, **kwargs)\u001B[0m\n\u001B[0;32m     71\u001B[0m \u001B[38;5;129m@classmethod\u001B[39m\n\u001B[0;32m     72\u001B[0m \u001B[38;5;28;01mdef\u001B[39;00m \u001B[38;5;21mcall_\u001B[39m(\u001B[38;5;28mcls\u001B[39m, name: \u001B[38;5;28mstr\u001B[39m, \u001B[38;5;241m*\u001B[39margs: Any, \u001B[38;5;241m*\u001B[39m\u001B[38;5;241m*\u001B[39mkwargs: Any) \u001B[38;5;241m-\u001B[39m\u001B[38;5;241m>\u001B[39m Any:\n\u001B[0;32m     73\u001B[0m \u001B[38;5;250m  \u001B[39m\u001B[38;5;124;03m\"\"\"Call a named API function with positional and keyword arguments.\u001B[39;00m\n\u001B[0;32m     74\u001B[0m \n\u001B[0;32m     75\u001B[0m \u001B[38;5;124;03m  Args:\u001B[39;00m\n\u001B[1;32m   (...)\u001B[0m\n\u001B[0;32m     82\u001B[0m \u001B[38;5;124;03m    a recognized return type, the returned value will be cast to that type.\u001B[39;00m\n\u001B[0;32m     83\u001B[0m \u001B[38;5;124;03m  \"\"\"\u001B[39;00m\n\u001B[1;32m---> 84\u001B[0m   \u001B[38;5;28;01mreturn\u001B[39;00m \u001B[38;5;28mcls\u001B[39m\u001B[38;5;241m.\u001B[39mlookup(name)\u001B[38;5;241m.\u001B[39mcall(\u001B[38;5;241m*\u001B[39margs, \u001B[38;5;241m*\u001B[39m\u001B[38;5;241m*\u001B[39mkwargs)\n",
      "File \u001B[1;32m~\\anaconda3\\envs\\gee_test\\Lib\\site-packages\\ee\\function.py:62\u001B[0m, in \u001B[0;36mFunction.call\u001B[1;34m(self, *args, **kwargs)\u001B[0m\n\u001B[0;32m     50\u001B[0m \u001B[38;5;28;01mdef\u001B[39;00m \u001B[38;5;21mcall\u001B[39m(\u001B[38;5;28mself\u001B[39m, \u001B[38;5;241m*\u001B[39margs, \u001B[38;5;241m*\u001B[39m\u001B[38;5;241m*\u001B[39mkwargs):\n\u001B[0;32m     51\u001B[0m \u001B[38;5;250m  \u001B[39m\u001B[38;5;124;03m\"\"\"Calls the function with the given positional and keyword arguments.\u001B[39;00m\n\u001B[0;32m     52\u001B[0m \n\u001B[0;32m     53\u001B[0m \u001B[38;5;124;03m  Args:\u001B[39;00m\n\u001B[1;32m   (...)\u001B[0m\n\u001B[0;32m     60\u001B[0m \u001B[38;5;124;03m    to that type.\u001B[39;00m\n\u001B[0;32m     61\u001B[0m \u001B[38;5;124;03m  \"\"\"\u001B[39;00m\n\u001B[1;32m---> 62\u001B[0m   \u001B[38;5;28;01mreturn\u001B[39;00m \u001B[38;5;28mself\u001B[39m\u001B[38;5;241m.\u001B[39mapply(\u001B[38;5;28mself\u001B[39m\u001B[38;5;241m.\u001B[39mnameArgs(args, kwargs))\n",
      "File \u001B[1;32m~\\anaconda3\\envs\\gee_test\\Lib\\site-packages\\ee\\function.py:75\u001B[0m, in \u001B[0;36mFunction.apply\u001B[1;34m(self, named_args)\u001B[0m\n\u001B[0;32m     64\u001B[0m \u001B[38;5;28;01mdef\u001B[39;00m \u001B[38;5;21mapply\u001B[39m(\u001B[38;5;28mself\u001B[39m, named_args):\n\u001B[0;32m     65\u001B[0m \u001B[38;5;250m  \u001B[39m\u001B[38;5;124;03m\"\"\"Calls the function with a dictionary of named arguments.\u001B[39;00m\n\u001B[0;32m     66\u001B[0m \n\u001B[0;32m     67\u001B[0m \u001B[38;5;124;03m  Args:\u001B[39;00m\n\u001B[1;32m   (...)\u001B[0m\n\u001B[0;32m     73\u001B[0m \u001B[38;5;124;03m    to that type.\u001B[39;00m\n\u001B[0;32m     74\u001B[0m \u001B[38;5;124;03m  \"\"\"\u001B[39;00m\n\u001B[1;32m---> 75\u001B[0m   result \u001B[38;5;241m=\u001B[39m computedobject\u001B[38;5;241m.\u001B[39mComputedObject(\u001B[38;5;28mself\u001B[39m, \u001B[38;5;28mself\u001B[39m\u001B[38;5;241m.\u001B[39mpromoteArgs(named_args))\n\u001B[0;32m     76\u001B[0m   \u001B[38;5;28;01mreturn\u001B[39;00m Function\u001B[38;5;241m.\u001B[39m_promoter(result, \u001B[38;5;28mself\u001B[39m\u001B[38;5;241m.\u001B[39mgetReturnType())\n",
      "File \u001B[1;32m~\\anaconda3\\envs\\gee_test\\Lib\\site-packages\\ee\\function.py:103\u001B[0m, in \u001B[0;36mFunction.promoteArgs\u001B[1;34m(self, args)\u001B[0m\n\u001B[0;32m    101\u001B[0m name \u001B[38;5;241m=\u001B[39m arg_spec[\u001B[38;5;124m'\u001B[39m\u001B[38;5;124mname\u001B[39m\u001B[38;5;124m'\u001B[39m]\n\u001B[0;32m    102\u001B[0m \u001B[38;5;28;01mif\u001B[39;00m name \u001B[38;5;129;01min\u001B[39;00m args:\n\u001B[1;32m--> 103\u001B[0m   promoted_args[name] \u001B[38;5;241m=\u001B[39m Function\u001B[38;5;241m.\u001B[39m_promoter(args[name], arg_spec[\u001B[38;5;124m'\u001B[39m\u001B[38;5;124mtype\u001B[39m\u001B[38;5;124m'\u001B[39m])\n\u001B[0;32m    104\u001B[0m \u001B[38;5;28;01melif\u001B[39;00m \u001B[38;5;129;01mnot\u001B[39;00m arg_spec\u001B[38;5;241m.\u001B[39mget(\u001B[38;5;124m'\u001B[39m\u001B[38;5;124moptional\u001B[39m\u001B[38;5;124m'\u001B[39m):\n\u001B[0;32m    105\u001B[0m   \u001B[38;5;28;01mraise\u001B[39;00m ee_exception\u001B[38;5;241m.\u001B[39mEEException(\n\u001B[0;32m    106\u001B[0m       \u001B[38;5;124m'\u001B[39m\u001B[38;5;124mRequired argument (\u001B[39m\u001B[38;5;132;01m%s\u001B[39;00m\u001B[38;5;124m) missing to function: \u001B[39m\u001B[38;5;132;01m%s\u001B[39;00m\u001B[38;5;124m'\u001B[39m\n\u001B[0;32m    107\u001B[0m       \u001B[38;5;241m%\u001B[39m (name, signature\u001B[38;5;241m.\u001B[39mget(\u001B[38;5;124m'\u001B[39m\u001B[38;5;124mname\u001B[39m\u001B[38;5;124m'\u001B[39m)))\n",
      "File \u001B[1;32m~\\anaconda3\\envs\\gee_test\\Lib\\site-packages\\ee\\__init__.py:328\u001B[0m, in \u001B[0;36m_Promote\u001B[1;34m(arg, a_class)\u001B[0m\n\u001B[0;32m    325\u001B[0m \u001B[38;5;28;01melif\u001B[39;00m \u001B[38;5;28mcallable\u001B[39m(arg):\n\u001B[0;32m    326\u001B[0m   \u001B[38;5;66;03m# A native function that needs to be wrapped.\u001B[39;00m\n\u001B[0;32m    327\u001B[0m   args_count \u001B[38;5;241m=\u001B[39m \u001B[38;5;28mlen\u001B[39m(inspect\u001B[38;5;241m.\u001B[39mgetfullargspec(arg)\u001B[38;5;241m.\u001B[39margs)\n\u001B[1;32m--> 328\u001B[0m   \u001B[38;5;28;01mreturn\u001B[39;00m CustomFunction\u001B[38;5;241m.\u001B[39mcreate(arg, \u001B[38;5;124m'\u001B[39m\u001B[38;5;124mObject\u001B[39m\u001B[38;5;124m'\u001B[39m, [\u001B[38;5;124m'\u001B[39m\u001B[38;5;124mObject\u001B[39m\u001B[38;5;124m'\u001B[39m] \u001B[38;5;241m*\u001B[39m args_count)\n\u001B[0;32m    329\u001B[0m \u001B[38;5;28;01melif\u001B[39;00m \u001B[38;5;28misinstance\u001B[39m(arg, Encodable):\n\u001B[0;32m    330\u001B[0m   \u001B[38;5;66;03m# An ee.Function or a computed function like the return value of\u001B[39;00m\n\u001B[0;32m    331\u001B[0m   \u001B[38;5;66;03m# Image.parseExpression().\u001B[39;00m\n\u001B[0;32m    332\u001B[0m   \u001B[38;5;28;01mreturn\u001B[39;00m arg\n",
      "File \u001B[1;32m~\\anaconda3\\envs\\gee_test\\Lib\\site-packages\\ee\\customfunction.py:126\u001B[0m, in \u001B[0;36mCustomFunction.create\u001B[1;34m(func, return_type, arg_types)\u001B[0m\n\u001B[0;32m    120\u001B[0m args \u001B[38;5;241m=\u001B[39m [{\u001B[38;5;124m'\u001B[39m\u001B[38;5;124mname\u001B[39m\u001B[38;5;124m'\u001B[39m: \u001B[38;5;28;01mNone\u001B[39;00m, \u001B[38;5;124m'\u001B[39m\u001B[38;5;124mtype\u001B[39m\u001B[38;5;124m'\u001B[39m: StringifyType(i)} \u001B[38;5;28;01mfor\u001B[39;00m i \u001B[38;5;129;01min\u001B[39;00m arg_types]\n\u001B[0;32m    121\u001B[0m signature \u001B[38;5;241m=\u001B[39m {\n\u001B[0;32m    122\u001B[0m     \u001B[38;5;124m'\u001B[39m\u001B[38;5;124mname\u001B[39m\u001B[38;5;124m'\u001B[39m: \u001B[38;5;124m'\u001B[39m\u001B[38;5;124m'\u001B[39m,\n\u001B[0;32m    123\u001B[0m     \u001B[38;5;124m'\u001B[39m\u001B[38;5;124mreturns\u001B[39m\u001B[38;5;124m'\u001B[39m: StringifyType(return_type),\n\u001B[0;32m    124\u001B[0m     \u001B[38;5;124m'\u001B[39m\u001B[38;5;124margs\u001B[39m\u001B[38;5;124m'\u001B[39m: args\n\u001B[0;32m    125\u001B[0m }\n\u001B[1;32m--> 126\u001B[0m \u001B[38;5;28;01mreturn\u001B[39;00m CustomFunction(signature, func)\n",
      "File \u001B[1;32m~\\anaconda3\\envs\\gee_test\\Lib\\site-packages\\ee\\customfunction.py:40\u001B[0m, in \u001B[0;36mCustomFunction.__init__\u001B[1;34m(self, signature, body)\u001B[0m\n\u001B[0;32m     26\u001B[0m \u001B[38;5;250m\u001B[39m\u001B[38;5;124;03m\"\"\"Creates a function defined by a given expression with unbound variables.\u001B[39;00m\n\u001B[0;32m     27\u001B[0m \n\u001B[0;32m     28\u001B[0m \u001B[38;5;124;03mThe expression is created by evaluating the given function\u001B[39;00m\n\u001B[1;32m   (...)\u001B[0m\n\u001B[0;32m     35\u001B[0m \u001B[38;5;124;03m  body: The Python function to evaluate.\u001B[39;00m\n\u001B[0;32m     36\u001B[0m \u001B[38;5;124;03m\"\"\"\u001B[39;00m\n\u001B[0;32m     37\u001B[0m variables \u001B[38;5;241m=\u001B[39m [CustomFunction\u001B[38;5;241m.\u001B[39mvariable(arg[\u001B[38;5;124m'\u001B[39m\u001B[38;5;124mtype\u001B[39m\u001B[38;5;124m'\u001B[39m], arg[\u001B[38;5;124m'\u001B[39m\u001B[38;5;124mname\u001B[39m\u001B[38;5;124m'\u001B[39m])\n\u001B[0;32m     38\u001B[0m              \u001B[38;5;28;01mfor\u001B[39;00m arg \u001B[38;5;129;01min\u001B[39;00m signature[\u001B[38;5;124m'\u001B[39m\u001B[38;5;124margs\u001B[39m\u001B[38;5;124m'\u001B[39m]]\n\u001B[1;32m---> 40\u001B[0m \u001B[38;5;28;01mif\u001B[39;00m body(\u001B[38;5;241m*\u001B[39mvariables) \u001B[38;5;129;01mis\u001B[39;00m \u001B[38;5;28;01mNone\u001B[39;00m:\n\u001B[0;32m     41\u001B[0m   \u001B[38;5;28;01mraise\u001B[39;00m ee_exception\u001B[38;5;241m.\u001B[39mEEException(\u001B[38;5;124m'\u001B[39m\u001B[38;5;124mUser-defined methods must return a value\u001B[39m\u001B[38;5;124m'\u001B[39m)\n\u001B[0;32m     43\u001B[0m \u001B[38;5;66;03m# The signature of the function.\u001B[39;00m\n",
      "File \u001B[1;32m~\\anaconda3\\envs\\gee_test\\Lib\\site-packages\\ee\\collection.py:243\u001B[0m, in \u001B[0;36mCollection.map.<locals>.<lambda>\u001B[1;34m(e)\u001B[0m\n\u001B[0;32m    225\u001B[0m \u001B[38;5;250m\u001B[39m\u001B[38;5;124;03m\"\"\"Maps an algorithm over a collection.\u001B[39;00m\n\u001B[0;32m    226\u001B[0m \n\u001B[0;32m    227\u001B[0m \u001B[38;5;124;03mArgs:\u001B[39;00m\n\u001B[1;32m   (...)\u001B[0m\n\u001B[0;32m    240\u001B[0m \u001B[38;5;124;03m  ee_exception.EEException: if algorithm is not a function.\u001B[39;00m\n\u001B[0;32m    241\u001B[0m \u001B[38;5;124;03m\"\"\"\u001B[39;00m\n\u001B[0;32m    242\u001B[0m element_type \u001B[38;5;241m=\u001B[39m \u001B[38;5;28mself\u001B[39m\u001B[38;5;241m.\u001B[39melementType()\n\u001B[1;32m--> 243\u001B[0m with_cast \u001B[38;5;241m=\u001B[39m \u001B[38;5;28;01mlambda\u001B[39;00m e: algorithm(element_type(e, \u001B[38;5;28;01mNone\u001B[39;00m))\n\u001B[0;32m    244\u001B[0m \u001B[38;5;28;01mreturn\u001B[39;00m \u001B[38;5;28mself\u001B[39m\u001B[38;5;241m.\u001B[39m_cast(\n\u001B[0;32m    245\u001B[0m     apifunction\u001B[38;5;241m.\u001B[39mApiFunction\u001B[38;5;241m.\u001B[39mcall_(\n\u001B[0;32m    246\u001B[0m         \u001B[38;5;124m'\u001B[39m\u001B[38;5;124mCollection.map\u001B[39m\u001B[38;5;124m'\u001B[39m, \u001B[38;5;28mself\u001B[39m, with_cast, dropNulls\n\u001B[0;32m    247\u001B[0m     )\n\u001B[0;32m    248\u001B[0m )\n",
      "Cell \u001B[1;32mIn[32], line 96\u001B[0m, in \u001B[0;36mGeoindexity.add_ndvi\u001B[1;34m(self, image)\u001B[0m\n\u001B[0;32m     89\u001B[0m \u001B[38;5;28;01melif\u001B[39;00m \u001B[38;5;28mself\u001B[39m\u001B[38;5;241m.\u001B[39mcollection \u001B[38;5;241m==\u001B[39m \u001B[38;5;124m'\u001B[39m\u001B[38;5;124mLandsat8\u001B[39m\u001B[38;5;124m'\u001B[39m:\n\u001B[0;32m     90\u001B[0m     ndvi \u001B[38;5;241m=\u001B[39m image\u001B[38;5;241m.\u001B[39mexpression(\n\u001B[0;32m     91\u001B[0m         \u001B[38;5;124m'\u001B[39m\u001B[38;5;124m((nir - red)/(nir + red))\u001B[39m\u001B[38;5;124m'\u001B[39m,\n\u001B[0;32m     92\u001B[0m         {\u001B[38;5;124m'\u001B[39m\u001B[38;5;124mnir\u001B[39m\u001B[38;5;124m'\u001B[39m: image\u001B[38;5;241m.\u001B[39mselect(\u001B[38;5;124m'\u001B[39m\u001B[38;5;124mSR_B5\u001B[39m\u001B[38;5;124m'\u001B[39m),\n\u001B[0;32m     93\u001B[0m          \u001B[38;5;124m'\u001B[39m\u001B[38;5;124mred\u001B[39m\u001B[38;5;124m'\u001B[39m: image\u001B[38;5;241m.\u001B[39mselect(\u001B[38;5;124m'\u001B[39m\u001B[38;5;124mSR_B4\u001B[39m\u001B[38;5;124m'\u001B[39m)}\n\u001B[0;32m     94\u001B[0m     )\u001B[38;5;241m.\u001B[39mrename(\u001B[38;5;124m'\u001B[39m\u001B[38;5;124mNDVI\u001B[39m\u001B[38;5;124m'\u001B[39m)\n\u001B[1;32m---> 96\u001B[0m \u001B[38;5;28;01mreturn\u001B[39;00m image\u001B[38;5;241m.\u001B[39maddBands(ndvi)\n",
      "\u001B[1;31mUnboundLocalError\u001B[0m: cannot access local variable 'ndvi' where it is not associated with a value"
     ]
    }
   ],
   "source": [
    "y.ndvi_collection()\n",
    "test_index('NDVI', y)"
   ],
   "metadata": {
    "collapsed": false,
    "ExecuteTime": {
     "end_time": "2024-06-26T11:38:59.295278Z",
     "start_time": "2024-06-26T11:38:59.205385Z"
    }
   },
   "id": "1a8d2d372a3cf2f8",
   "execution_count": 47
  },
  {
   "cell_type": "markdown",
   "source": [
    "UnboundLocalError only for Landast8 - NDVI"
   ],
   "metadata": {
    "collapsed": false
   },
   "id": "756f2b063df87a86"
  },
  {
   "cell_type": "code",
   "outputs": [
    {
     "ename": "UnboundLocalError",
     "evalue": "cannot access local variable 'evi' where it is not associated with a value",
     "output_type": "error",
     "traceback": [
      "\u001B[1;31m---------------------------------------------------------------------------\u001B[0m",
      "\u001B[1;31mUnboundLocalError\u001B[0m                         Traceback (most recent call last)",
      "Cell \u001B[1;32mIn[48], line 1\u001B[0m\n\u001B[1;32m----> 1\u001B[0m x\u001B[38;5;241m.\u001B[39mevi_collection()\n\u001B[0;32m      2\u001B[0m test_index(\u001B[38;5;124m'\u001B[39m\u001B[38;5;124mEVI\u001B[39m\u001B[38;5;124m'\u001B[39m, x)\n",
      "Cell \u001B[1;32mIn[32], line 123\u001B[0m, in \u001B[0;36mGeoindexity.evi_collection\u001B[1;34m(self)\u001B[0m\n\u001B[0;32m    122\u001B[0m \u001B[38;5;28;01mdef\u001B[39;00m \u001B[38;5;21mevi_collection\u001B[39m(\u001B[38;5;28mself\u001B[39m):\n\u001B[1;32m--> 123\u001B[0m     \u001B[38;5;28mself\u001B[39m\u001B[38;5;241m.\u001B[39mcollection \u001B[38;5;241m=\u001B[39m \u001B[38;5;28mself\u001B[39m\u001B[38;5;241m.\u001B[39mcollection\u001B[38;5;241m.\u001B[39mmap(\u001B[38;5;28mself\u001B[39m\u001B[38;5;241m.\u001B[39madd_evi)\n",
      "File \u001B[1;32m~\\anaconda3\\envs\\gee_test\\Lib\\site-packages\\ee\\_utils.py:38\u001B[0m, in \u001B[0;36maccept_opt_prefix.<locals>.opt_fixed.<locals>.wrapper\u001B[1;34m(*args, **kwargs)\u001B[0m\n\u001B[0;32m     36\u001B[0m     \u001B[38;5;28;01mif\u001B[39;00m new_key \u001B[38;5;129;01mnot\u001B[39;00m \u001B[38;5;129;01min\u001B[39;00m kwargs:\n\u001B[0;32m     37\u001B[0m       kwargs[new_key] \u001B[38;5;241m=\u001B[39m old_key_val\n\u001B[1;32m---> 38\u001B[0m \u001B[38;5;28;01mreturn\u001B[39;00m func(\u001B[38;5;241m*\u001B[39margs, \u001B[38;5;241m*\u001B[39m\u001B[38;5;241m*\u001B[39mkwargs)\n",
      "File \u001B[1;32m~\\anaconda3\\envs\\gee_test\\Lib\\site-packages\\ee\\collection.py:245\u001B[0m, in \u001B[0;36mCollection.map\u001B[1;34m(self, algorithm, dropNulls)\u001B[0m\n\u001B[0;32m    242\u001B[0m element_type \u001B[38;5;241m=\u001B[39m \u001B[38;5;28mself\u001B[39m\u001B[38;5;241m.\u001B[39melementType()\n\u001B[0;32m    243\u001B[0m with_cast \u001B[38;5;241m=\u001B[39m \u001B[38;5;28;01mlambda\u001B[39;00m e: algorithm(element_type(e, \u001B[38;5;28;01mNone\u001B[39;00m))\n\u001B[0;32m    244\u001B[0m \u001B[38;5;28;01mreturn\u001B[39;00m \u001B[38;5;28mself\u001B[39m\u001B[38;5;241m.\u001B[39m_cast(\n\u001B[1;32m--> 245\u001B[0m     apifunction\u001B[38;5;241m.\u001B[39mApiFunction\u001B[38;5;241m.\u001B[39mcall_(\n\u001B[0;32m    246\u001B[0m         \u001B[38;5;124m'\u001B[39m\u001B[38;5;124mCollection.map\u001B[39m\u001B[38;5;124m'\u001B[39m, \u001B[38;5;28mself\u001B[39m, with_cast, dropNulls\n\u001B[0;32m    247\u001B[0m     )\n\u001B[0;32m    248\u001B[0m )\n",
      "File \u001B[1;32m~\\anaconda3\\envs\\gee_test\\Lib\\site-packages\\ee\\apifunction.py:84\u001B[0m, in \u001B[0;36mApiFunction.call_\u001B[1;34m(cls, name, *args, **kwargs)\u001B[0m\n\u001B[0;32m     71\u001B[0m \u001B[38;5;129m@classmethod\u001B[39m\n\u001B[0;32m     72\u001B[0m \u001B[38;5;28;01mdef\u001B[39;00m \u001B[38;5;21mcall_\u001B[39m(\u001B[38;5;28mcls\u001B[39m, name: \u001B[38;5;28mstr\u001B[39m, \u001B[38;5;241m*\u001B[39margs: Any, \u001B[38;5;241m*\u001B[39m\u001B[38;5;241m*\u001B[39mkwargs: Any) \u001B[38;5;241m-\u001B[39m\u001B[38;5;241m>\u001B[39m Any:\n\u001B[0;32m     73\u001B[0m \u001B[38;5;250m  \u001B[39m\u001B[38;5;124;03m\"\"\"Call a named API function with positional and keyword arguments.\u001B[39;00m\n\u001B[0;32m     74\u001B[0m \n\u001B[0;32m     75\u001B[0m \u001B[38;5;124;03m  Args:\u001B[39;00m\n\u001B[1;32m   (...)\u001B[0m\n\u001B[0;32m     82\u001B[0m \u001B[38;5;124;03m    a recognized return type, the returned value will be cast to that type.\u001B[39;00m\n\u001B[0;32m     83\u001B[0m \u001B[38;5;124;03m  \"\"\"\u001B[39;00m\n\u001B[1;32m---> 84\u001B[0m   \u001B[38;5;28;01mreturn\u001B[39;00m \u001B[38;5;28mcls\u001B[39m\u001B[38;5;241m.\u001B[39mlookup(name)\u001B[38;5;241m.\u001B[39mcall(\u001B[38;5;241m*\u001B[39margs, \u001B[38;5;241m*\u001B[39m\u001B[38;5;241m*\u001B[39mkwargs)\n",
      "File \u001B[1;32m~\\anaconda3\\envs\\gee_test\\Lib\\site-packages\\ee\\function.py:62\u001B[0m, in \u001B[0;36mFunction.call\u001B[1;34m(self, *args, **kwargs)\u001B[0m\n\u001B[0;32m     50\u001B[0m \u001B[38;5;28;01mdef\u001B[39;00m \u001B[38;5;21mcall\u001B[39m(\u001B[38;5;28mself\u001B[39m, \u001B[38;5;241m*\u001B[39margs, \u001B[38;5;241m*\u001B[39m\u001B[38;5;241m*\u001B[39mkwargs):\n\u001B[0;32m     51\u001B[0m \u001B[38;5;250m  \u001B[39m\u001B[38;5;124;03m\"\"\"Calls the function with the given positional and keyword arguments.\u001B[39;00m\n\u001B[0;32m     52\u001B[0m \n\u001B[0;32m     53\u001B[0m \u001B[38;5;124;03m  Args:\u001B[39;00m\n\u001B[1;32m   (...)\u001B[0m\n\u001B[0;32m     60\u001B[0m \u001B[38;5;124;03m    to that type.\u001B[39;00m\n\u001B[0;32m     61\u001B[0m \u001B[38;5;124;03m  \"\"\"\u001B[39;00m\n\u001B[1;32m---> 62\u001B[0m   \u001B[38;5;28;01mreturn\u001B[39;00m \u001B[38;5;28mself\u001B[39m\u001B[38;5;241m.\u001B[39mapply(\u001B[38;5;28mself\u001B[39m\u001B[38;5;241m.\u001B[39mnameArgs(args, kwargs))\n",
      "File \u001B[1;32m~\\anaconda3\\envs\\gee_test\\Lib\\site-packages\\ee\\function.py:75\u001B[0m, in \u001B[0;36mFunction.apply\u001B[1;34m(self, named_args)\u001B[0m\n\u001B[0;32m     64\u001B[0m \u001B[38;5;28;01mdef\u001B[39;00m \u001B[38;5;21mapply\u001B[39m(\u001B[38;5;28mself\u001B[39m, named_args):\n\u001B[0;32m     65\u001B[0m \u001B[38;5;250m  \u001B[39m\u001B[38;5;124;03m\"\"\"Calls the function with a dictionary of named arguments.\u001B[39;00m\n\u001B[0;32m     66\u001B[0m \n\u001B[0;32m     67\u001B[0m \u001B[38;5;124;03m  Args:\u001B[39;00m\n\u001B[1;32m   (...)\u001B[0m\n\u001B[0;32m     73\u001B[0m \u001B[38;5;124;03m    to that type.\u001B[39;00m\n\u001B[0;32m     74\u001B[0m \u001B[38;5;124;03m  \"\"\"\u001B[39;00m\n\u001B[1;32m---> 75\u001B[0m   result \u001B[38;5;241m=\u001B[39m computedobject\u001B[38;5;241m.\u001B[39mComputedObject(\u001B[38;5;28mself\u001B[39m, \u001B[38;5;28mself\u001B[39m\u001B[38;5;241m.\u001B[39mpromoteArgs(named_args))\n\u001B[0;32m     76\u001B[0m   \u001B[38;5;28;01mreturn\u001B[39;00m Function\u001B[38;5;241m.\u001B[39m_promoter(result, \u001B[38;5;28mself\u001B[39m\u001B[38;5;241m.\u001B[39mgetReturnType())\n",
      "File \u001B[1;32m~\\anaconda3\\envs\\gee_test\\Lib\\site-packages\\ee\\function.py:103\u001B[0m, in \u001B[0;36mFunction.promoteArgs\u001B[1;34m(self, args)\u001B[0m\n\u001B[0;32m    101\u001B[0m name \u001B[38;5;241m=\u001B[39m arg_spec[\u001B[38;5;124m'\u001B[39m\u001B[38;5;124mname\u001B[39m\u001B[38;5;124m'\u001B[39m]\n\u001B[0;32m    102\u001B[0m \u001B[38;5;28;01mif\u001B[39;00m name \u001B[38;5;129;01min\u001B[39;00m args:\n\u001B[1;32m--> 103\u001B[0m   promoted_args[name] \u001B[38;5;241m=\u001B[39m Function\u001B[38;5;241m.\u001B[39m_promoter(args[name], arg_spec[\u001B[38;5;124m'\u001B[39m\u001B[38;5;124mtype\u001B[39m\u001B[38;5;124m'\u001B[39m])\n\u001B[0;32m    104\u001B[0m \u001B[38;5;28;01melif\u001B[39;00m \u001B[38;5;129;01mnot\u001B[39;00m arg_spec\u001B[38;5;241m.\u001B[39mget(\u001B[38;5;124m'\u001B[39m\u001B[38;5;124moptional\u001B[39m\u001B[38;5;124m'\u001B[39m):\n\u001B[0;32m    105\u001B[0m   \u001B[38;5;28;01mraise\u001B[39;00m ee_exception\u001B[38;5;241m.\u001B[39mEEException(\n\u001B[0;32m    106\u001B[0m       \u001B[38;5;124m'\u001B[39m\u001B[38;5;124mRequired argument (\u001B[39m\u001B[38;5;132;01m%s\u001B[39;00m\u001B[38;5;124m) missing to function: \u001B[39m\u001B[38;5;132;01m%s\u001B[39;00m\u001B[38;5;124m'\u001B[39m\n\u001B[0;32m    107\u001B[0m       \u001B[38;5;241m%\u001B[39m (name, signature\u001B[38;5;241m.\u001B[39mget(\u001B[38;5;124m'\u001B[39m\u001B[38;5;124mname\u001B[39m\u001B[38;5;124m'\u001B[39m)))\n",
      "File \u001B[1;32m~\\anaconda3\\envs\\gee_test\\Lib\\site-packages\\ee\\__init__.py:328\u001B[0m, in \u001B[0;36m_Promote\u001B[1;34m(arg, a_class)\u001B[0m\n\u001B[0;32m    325\u001B[0m \u001B[38;5;28;01melif\u001B[39;00m \u001B[38;5;28mcallable\u001B[39m(arg):\n\u001B[0;32m    326\u001B[0m   \u001B[38;5;66;03m# A native function that needs to be wrapped.\u001B[39;00m\n\u001B[0;32m    327\u001B[0m   args_count \u001B[38;5;241m=\u001B[39m \u001B[38;5;28mlen\u001B[39m(inspect\u001B[38;5;241m.\u001B[39mgetfullargspec(arg)\u001B[38;5;241m.\u001B[39margs)\n\u001B[1;32m--> 328\u001B[0m   \u001B[38;5;28;01mreturn\u001B[39;00m CustomFunction\u001B[38;5;241m.\u001B[39mcreate(arg, \u001B[38;5;124m'\u001B[39m\u001B[38;5;124mObject\u001B[39m\u001B[38;5;124m'\u001B[39m, [\u001B[38;5;124m'\u001B[39m\u001B[38;5;124mObject\u001B[39m\u001B[38;5;124m'\u001B[39m] \u001B[38;5;241m*\u001B[39m args_count)\n\u001B[0;32m    329\u001B[0m \u001B[38;5;28;01melif\u001B[39;00m \u001B[38;5;28misinstance\u001B[39m(arg, Encodable):\n\u001B[0;32m    330\u001B[0m   \u001B[38;5;66;03m# An ee.Function or a computed function like the return value of\u001B[39;00m\n\u001B[0;32m    331\u001B[0m   \u001B[38;5;66;03m# Image.parseExpression().\u001B[39;00m\n\u001B[0;32m    332\u001B[0m   \u001B[38;5;28;01mreturn\u001B[39;00m arg\n",
      "File \u001B[1;32m~\\anaconda3\\envs\\gee_test\\Lib\\site-packages\\ee\\customfunction.py:126\u001B[0m, in \u001B[0;36mCustomFunction.create\u001B[1;34m(func, return_type, arg_types)\u001B[0m\n\u001B[0;32m    120\u001B[0m args \u001B[38;5;241m=\u001B[39m [{\u001B[38;5;124m'\u001B[39m\u001B[38;5;124mname\u001B[39m\u001B[38;5;124m'\u001B[39m: \u001B[38;5;28;01mNone\u001B[39;00m, \u001B[38;5;124m'\u001B[39m\u001B[38;5;124mtype\u001B[39m\u001B[38;5;124m'\u001B[39m: StringifyType(i)} \u001B[38;5;28;01mfor\u001B[39;00m i \u001B[38;5;129;01min\u001B[39;00m arg_types]\n\u001B[0;32m    121\u001B[0m signature \u001B[38;5;241m=\u001B[39m {\n\u001B[0;32m    122\u001B[0m     \u001B[38;5;124m'\u001B[39m\u001B[38;5;124mname\u001B[39m\u001B[38;5;124m'\u001B[39m: \u001B[38;5;124m'\u001B[39m\u001B[38;5;124m'\u001B[39m,\n\u001B[0;32m    123\u001B[0m     \u001B[38;5;124m'\u001B[39m\u001B[38;5;124mreturns\u001B[39m\u001B[38;5;124m'\u001B[39m: StringifyType(return_type),\n\u001B[0;32m    124\u001B[0m     \u001B[38;5;124m'\u001B[39m\u001B[38;5;124margs\u001B[39m\u001B[38;5;124m'\u001B[39m: args\n\u001B[0;32m    125\u001B[0m }\n\u001B[1;32m--> 126\u001B[0m \u001B[38;5;28;01mreturn\u001B[39;00m CustomFunction(signature, func)\n",
      "File \u001B[1;32m~\\anaconda3\\envs\\gee_test\\Lib\\site-packages\\ee\\customfunction.py:40\u001B[0m, in \u001B[0;36mCustomFunction.__init__\u001B[1;34m(self, signature, body)\u001B[0m\n\u001B[0;32m     26\u001B[0m \u001B[38;5;250m\u001B[39m\u001B[38;5;124;03m\"\"\"Creates a function defined by a given expression with unbound variables.\u001B[39;00m\n\u001B[0;32m     27\u001B[0m \n\u001B[0;32m     28\u001B[0m \u001B[38;5;124;03mThe expression is created by evaluating the given function\u001B[39;00m\n\u001B[1;32m   (...)\u001B[0m\n\u001B[0;32m     35\u001B[0m \u001B[38;5;124;03m  body: The Python function to evaluate.\u001B[39;00m\n\u001B[0;32m     36\u001B[0m \u001B[38;5;124;03m\"\"\"\u001B[39;00m\n\u001B[0;32m     37\u001B[0m variables \u001B[38;5;241m=\u001B[39m [CustomFunction\u001B[38;5;241m.\u001B[39mvariable(arg[\u001B[38;5;124m'\u001B[39m\u001B[38;5;124mtype\u001B[39m\u001B[38;5;124m'\u001B[39m], arg[\u001B[38;5;124m'\u001B[39m\u001B[38;5;124mname\u001B[39m\u001B[38;5;124m'\u001B[39m])\n\u001B[0;32m     38\u001B[0m              \u001B[38;5;28;01mfor\u001B[39;00m arg \u001B[38;5;129;01min\u001B[39;00m signature[\u001B[38;5;124m'\u001B[39m\u001B[38;5;124margs\u001B[39m\u001B[38;5;124m'\u001B[39m]]\n\u001B[1;32m---> 40\u001B[0m \u001B[38;5;28;01mif\u001B[39;00m body(\u001B[38;5;241m*\u001B[39mvariables) \u001B[38;5;129;01mis\u001B[39;00m \u001B[38;5;28;01mNone\u001B[39;00m:\n\u001B[0;32m     41\u001B[0m   \u001B[38;5;28;01mraise\u001B[39;00m ee_exception\u001B[38;5;241m.\u001B[39mEEException(\u001B[38;5;124m'\u001B[39m\u001B[38;5;124mUser-defined methods must return a value\u001B[39m\u001B[38;5;124m'\u001B[39m)\n\u001B[0;32m     43\u001B[0m \u001B[38;5;66;03m# The signature of the function.\u001B[39;00m\n",
      "File \u001B[1;32m~\\anaconda3\\envs\\gee_test\\Lib\\site-packages\\ee\\collection.py:243\u001B[0m, in \u001B[0;36mCollection.map.<locals>.<lambda>\u001B[1;34m(e)\u001B[0m\n\u001B[0;32m    225\u001B[0m \u001B[38;5;250m\u001B[39m\u001B[38;5;124;03m\"\"\"Maps an algorithm over a collection.\u001B[39;00m\n\u001B[0;32m    226\u001B[0m \n\u001B[0;32m    227\u001B[0m \u001B[38;5;124;03mArgs:\u001B[39;00m\n\u001B[1;32m   (...)\u001B[0m\n\u001B[0;32m    240\u001B[0m \u001B[38;5;124;03m  ee_exception.EEException: if algorithm is not a function.\u001B[39;00m\n\u001B[0;32m    241\u001B[0m \u001B[38;5;124;03m\"\"\"\u001B[39;00m\n\u001B[0;32m    242\u001B[0m element_type \u001B[38;5;241m=\u001B[39m \u001B[38;5;28mself\u001B[39m\u001B[38;5;241m.\u001B[39melementType()\n\u001B[1;32m--> 243\u001B[0m with_cast \u001B[38;5;241m=\u001B[39m \u001B[38;5;28;01mlambda\u001B[39;00m e: algorithm(element_type(e, \u001B[38;5;28;01mNone\u001B[39;00m))\n\u001B[0;32m    244\u001B[0m \u001B[38;5;28;01mreturn\u001B[39;00m \u001B[38;5;28mself\u001B[39m\u001B[38;5;241m.\u001B[39m_cast(\n\u001B[0;32m    245\u001B[0m     apifunction\u001B[38;5;241m.\u001B[39mApiFunction\u001B[38;5;241m.\u001B[39mcall_(\n\u001B[0;32m    246\u001B[0m         \u001B[38;5;124m'\u001B[39m\u001B[38;5;124mCollection.map\u001B[39m\u001B[38;5;124m'\u001B[39m, \u001B[38;5;28mself\u001B[39m, with_cast, dropNulls\n\u001B[0;32m    247\u001B[0m     )\n\u001B[0;32m    248\u001B[0m )\n",
      "Cell \u001B[1;32mIn[32], line 117\u001B[0m, in \u001B[0;36mGeoindexity.add_evi\u001B[1;34m(self, image)\u001B[0m\n\u001B[0;32m    109\u001B[0m \u001B[38;5;28;01melif\u001B[39;00m \u001B[38;5;28mself\u001B[39m\u001B[38;5;241m.\u001B[39mcollection \u001B[38;5;241m==\u001B[39m \u001B[38;5;124m'\u001B[39m\u001B[38;5;124mLandsat8\u001B[39m\u001B[38;5;124m'\u001B[39m:\n\u001B[0;32m    110\u001B[0m     evi \u001B[38;5;241m=\u001B[39m image\u001B[38;5;241m.\u001B[39mexpression(\n\u001B[0;32m    111\u001B[0m         \u001B[38;5;124m'\u001B[39m\u001B[38;5;124m(2.5 * (nir–red) / (nir + 6 * red – 7.5 * blue + 1)\u001B[39m\u001B[38;5;124m'\u001B[39m, \u001B[38;5;66;03m# Change to Landsat8 here!\u001B[39;00m\n\u001B[0;32m    112\u001B[0m         {\u001B[38;5;124m'\u001B[39m\u001B[38;5;124mnir\u001B[39m\u001B[38;5;124m'\u001B[39m: image\u001B[38;5;241m.\u001B[39mselect(\u001B[38;5;124m'\u001B[39m\u001B[38;5;124mSR_B5\u001B[39m\u001B[38;5;124m'\u001B[39m),\n\u001B[0;32m    113\u001B[0m          \u001B[38;5;124m'\u001B[39m\u001B[38;5;124mred\u001B[39m\u001B[38;5;124m'\u001B[39m: image\u001B[38;5;241m.\u001B[39mselect(\u001B[38;5;124m'\u001B[39m\u001B[38;5;124mSR_B4\u001B[39m\u001B[38;5;124m'\u001B[39m),\n\u001B[0;32m    114\u001B[0m          \u001B[38;5;124m'\u001B[39m\u001B[38;5;124mblue\u001B[39m\u001B[38;5;124m'\u001B[39m: image\u001B[38;5;241m.\u001B[39mselect(\u001B[38;5;124m'\u001B[39m\u001B[38;5;124mSR_B2\u001B[39m\u001B[38;5;124m'\u001B[39m)}\n\u001B[0;32m    115\u001B[0m     )\u001B[38;5;241m.\u001B[39mrename(\u001B[38;5;124m'\u001B[39m\u001B[38;5;124mEVI\u001B[39m\u001B[38;5;124m'\u001B[39m)\n\u001B[1;32m--> 117\u001B[0m \u001B[38;5;28;01mreturn\u001B[39;00m image\u001B[38;5;241m.\u001B[39maddBands(evi)\n",
      "\u001B[1;31mUnboundLocalError\u001B[0m: cannot access local variable 'evi' where it is not associated with a value"
     ]
    }
   ],
   "source": [
    "x.evi_collection()\n",
    "test_index('EVI', x)"
   ],
   "metadata": {
    "collapsed": false,
    "ExecuteTime": {
     "end_time": "2024-06-26T11:39:39.577497Z",
     "start_time": "2024-06-26T11:39:39.486384Z"
    }
   },
   "id": "e91e5bf22af50488",
   "execution_count": 48
  },
  {
   "cell_type": "code",
   "outputs": [
    {
     "ename": "UnboundLocalError",
     "evalue": "cannot access local variable 'evi' where it is not associated with a value",
     "output_type": "error",
     "traceback": [
      "\u001B[1;31m---------------------------------------------------------------------------\u001B[0m",
      "\u001B[1;31mUnboundLocalError\u001B[0m                         Traceback (most recent call last)",
      "Cell \u001B[1;32mIn[49], line 1\u001B[0m\n\u001B[1;32m----> 1\u001B[0m y\u001B[38;5;241m.\u001B[39mevi_collection()\n\u001B[0;32m      2\u001B[0m test_index(\u001B[38;5;124m'\u001B[39m\u001B[38;5;124mEVI\u001B[39m\u001B[38;5;124m'\u001B[39m, y)\n",
      "Cell \u001B[1;32mIn[32], line 123\u001B[0m, in \u001B[0;36mGeoindexity.evi_collection\u001B[1;34m(self)\u001B[0m\n\u001B[0;32m    122\u001B[0m \u001B[38;5;28;01mdef\u001B[39;00m \u001B[38;5;21mevi_collection\u001B[39m(\u001B[38;5;28mself\u001B[39m):\n\u001B[1;32m--> 123\u001B[0m     \u001B[38;5;28mself\u001B[39m\u001B[38;5;241m.\u001B[39mcollection \u001B[38;5;241m=\u001B[39m \u001B[38;5;28mself\u001B[39m\u001B[38;5;241m.\u001B[39mcollection\u001B[38;5;241m.\u001B[39mmap(\u001B[38;5;28mself\u001B[39m\u001B[38;5;241m.\u001B[39madd_evi)\n",
      "File \u001B[1;32m~\\anaconda3\\envs\\gee_test\\Lib\\site-packages\\ee\\_utils.py:38\u001B[0m, in \u001B[0;36maccept_opt_prefix.<locals>.opt_fixed.<locals>.wrapper\u001B[1;34m(*args, **kwargs)\u001B[0m\n\u001B[0;32m     36\u001B[0m     \u001B[38;5;28;01mif\u001B[39;00m new_key \u001B[38;5;129;01mnot\u001B[39;00m \u001B[38;5;129;01min\u001B[39;00m kwargs:\n\u001B[0;32m     37\u001B[0m       kwargs[new_key] \u001B[38;5;241m=\u001B[39m old_key_val\n\u001B[1;32m---> 38\u001B[0m \u001B[38;5;28;01mreturn\u001B[39;00m func(\u001B[38;5;241m*\u001B[39margs, \u001B[38;5;241m*\u001B[39m\u001B[38;5;241m*\u001B[39mkwargs)\n",
      "File \u001B[1;32m~\\anaconda3\\envs\\gee_test\\Lib\\site-packages\\ee\\collection.py:245\u001B[0m, in \u001B[0;36mCollection.map\u001B[1;34m(self, algorithm, dropNulls)\u001B[0m\n\u001B[0;32m    242\u001B[0m element_type \u001B[38;5;241m=\u001B[39m \u001B[38;5;28mself\u001B[39m\u001B[38;5;241m.\u001B[39melementType()\n\u001B[0;32m    243\u001B[0m with_cast \u001B[38;5;241m=\u001B[39m \u001B[38;5;28;01mlambda\u001B[39;00m e: algorithm(element_type(e, \u001B[38;5;28;01mNone\u001B[39;00m))\n\u001B[0;32m    244\u001B[0m \u001B[38;5;28;01mreturn\u001B[39;00m \u001B[38;5;28mself\u001B[39m\u001B[38;5;241m.\u001B[39m_cast(\n\u001B[1;32m--> 245\u001B[0m     apifunction\u001B[38;5;241m.\u001B[39mApiFunction\u001B[38;5;241m.\u001B[39mcall_(\n\u001B[0;32m    246\u001B[0m         \u001B[38;5;124m'\u001B[39m\u001B[38;5;124mCollection.map\u001B[39m\u001B[38;5;124m'\u001B[39m, \u001B[38;5;28mself\u001B[39m, with_cast, dropNulls\n\u001B[0;32m    247\u001B[0m     )\n\u001B[0;32m    248\u001B[0m )\n",
      "File \u001B[1;32m~\\anaconda3\\envs\\gee_test\\Lib\\site-packages\\ee\\apifunction.py:84\u001B[0m, in \u001B[0;36mApiFunction.call_\u001B[1;34m(cls, name, *args, **kwargs)\u001B[0m\n\u001B[0;32m     71\u001B[0m \u001B[38;5;129m@classmethod\u001B[39m\n\u001B[0;32m     72\u001B[0m \u001B[38;5;28;01mdef\u001B[39;00m \u001B[38;5;21mcall_\u001B[39m(\u001B[38;5;28mcls\u001B[39m, name: \u001B[38;5;28mstr\u001B[39m, \u001B[38;5;241m*\u001B[39margs: Any, \u001B[38;5;241m*\u001B[39m\u001B[38;5;241m*\u001B[39mkwargs: Any) \u001B[38;5;241m-\u001B[39m\u001B[38;5;241m>\u001B[39m Any:\n\u001B[0;32m     73\u001B[0m \u001B[38;5;250m  \u001B[39m\u001B[38;5;124;03m\"\"\"Call a named API function with positional and keyword arguments.\u001B[39;00m\n\u001B[0;32m     74\u001B[0m \n\u001B[0;32m     75\u001B[0m \u001B[38;5;124;03m  Args:\u001B[39;00m\n\u001B[1;32m   (...)\u001B[0m\n\u001B[0;32m     82\u001B[0m \u001B[38;5;124;03m    a recognized return type, the returned value will be cast to that type.\u001B[39;00m\n\u001B[0;32m     83\u001B[0m \u001B[38;5;124;03m  \"\"\"\u001B[39;00m\n\u001B[1;32m---> 84\u001B[0m   \u001B[38;5;28;01mreturn\u001B[39;00m \u001B[38;5;28mcls\u001B[39m\u001B[38;5;241m.\u001B[39mlookup(name)\u001B[38;5;241m.\u001B[39mcall(\u001B[38;5;241m*\u001B[39margs, \u001B[38;5;241m*\u001B[39m\u001B[38;5;241m*\u001B[39mkwargs)\n",
      "File \u001B[1;32m~\\anaconda3\\envs\\gee_test\\Lib\\site-packages\\ee\\function.py:62\u001B[0m, in \u001B[0;36mFunction.call\u001B[1;34m(self, *args, **kwargs)\u001B[0m\n\u001B[0;32m     50\u001B[0m \u001B[38;5;28;01mdef\u001B[39;00m \u001B[38;5;21mcall\u001B[39m(\u001B[38;5;28mself\u001B[39m, \u001B[38;5;241m*\u001B[39margs, \u001B[38;5;241m*\u001B[39m\u001B[38;5;241m*\u001B[39mkwargs):\n\u001B[0;32m     51\u001B[0m \u001B[38;5;250m  \u001B[39m\u001B[38;5;124;03m\"\"\"Calls the function with the given positional and keyword arguments.\u001B[39;00m\n\u001B[0;32m     52\u001B[0m \n\u001B[0;32m     53\u001B[0m \u001B[38;5;124;03m  Args:\u001B[39;00m\n\u001B[1;32m   (...)\u001B[0m\n\u001B[0;32m     60\u001B[0m \u001B[38;5;124;03m    to that type.\u001B[39;00m\n\u001B[0;32m     61\u001B[0m \u001B[38;5;124;03m  \"\"\"\u001B[39;00m\n\u001B[1;32m---> 62\u001B[0m   \u001B[38;5;28;01mreturn\u001B[39;00m \u001B[38;5;28mself\u001B[39m\u001B[38;5;241m.\u001B[39mapply(\u001B[38;5;28mself\u001B[39m\u001B[38;5;241m.\u001B[39mnameArgs(args, kwargs))\n",
      "File \u001B[1;32m~\\anaconda3\\envs\\gee_test\\Lib\\site-packages\\ee\\function.py:75\u001B[0m, in \u001B[0;36mFunction.apply\u001B[1;34m(self, named_args)\u001B[0m\n\u001B[0;32m     64\u001B[0m \u001B[38;5;28;01mdef\u001B[39;00m \u001B[38;5;21mapply\u001B[39m(\u001B[38;5;28mself\u001B[39m, named_args):\n\u001B[0;32m     65\u001B[0m \u001B[38;5;250m  \u001B[39m\u001B[38;5;124;03m\"\"\"Calls the function with a dictionary of named arguments.\u001B[39;00m\n\u001B[0;32m     66\u001B[0m \n\u001B[0;32m     67\u001B[0m \u001B[38;5;124;03m  Args:\u001B[39;00m\n\u001B[1;32m   (...)\u001B[0m\n\u001B[0;32m     73\u001B[0m \u001B[38;5;124;03m    to that type.\u001B[39;00m\n\u001B[0;32m     74\u001B[0m \u001B[38;5;124;03m  \"\"\"\u001B[39;00m\n\u001B[1;32m---> 75\u001B[0m   result \u001B[38;5;241m=\u001B[39m computedobject\u001B[38;5;241m.\u001B[39mComputedObject(\u001B[38;5;28mself\u001B[39m, \u001B[38;5;28mself\u001B[39m\u001B[38;5;241m.\u001B[39mpromoteArgs(named_args))\n\u001B[0;32m     76\u001B[0m   \u001B[38;5;28;01mreturn\u001B[39;00m Function\u001B[38;5;241m.\u001B[39m_promoter(result, \u001B[38;5;28mself\u001B[39m\u001B[38;5;241m.\u001B[39mgetReturnType())\n",
      "File \u001B[1;32m~\\anaconda3\\envs\\gee_test\\Lib\\site-packages\\ee\\function.py:103\u001B[0m, in \u001B[0;36mFunction.promoteArgs\u001B[1;34m(self, args)\u001B[0m\n\u001B[0;32m    101\u001B[0m name \u001B[38;5;241m=\u001B[39m arg_spec[\u001B[38;5;124m'\u001B[39m\u001B[38;5;124mname\u001B[39m\u001B[38;5;124m'\u001B[39m]\n\u001B[0;32m    102\u001B[0m \u001B[38;5;28;01mif\u001B[39;00m name \u001B[38;5;129;01min\u001B[39;00m args:\n\u001B[1;32m--> 103\u001B[0m   promoted_args[name] \u001B[38;5;241m=\u001B[39m Function\u001B[38;5;241m.\u001B[39m_promoter(args[name], arg_spec[\u001B[38;5;124m'\u001B[39m\u001B[38;5;124mtype\u001B[39m\u001B[38;5;124m'\u001B[39m])\n\u001B[0;32m    104\u001B[0m \u001B[38;5;28;01melif\u001B[39;00m \u001B[38;5;129;01mnot\u001B[39;00m arg_spec\u001B[38;5;241m.\u001B[39mget(\u001B[38;5;124m'\u001B[39m\u001B[38;5;124moptional\u001B[39m\u001B[38;5;124m'\u001B[39m):\n\u001B[0;32m    105\u001B[0m   \u001B[38;5;28;01mraise\u001B[39;00m ee_exception\u001B[38;5;241m.\u001B[39mEEException(\n\u001B[0;32m    106\u001B[0m       \u001B[38;5;124m'\u001B[39m\u001B[38;5;124mRequired argument (\u001B[39m\u001B[38;5;132;01m%s\u001B[39;00m\u001B[38;5;124m) missing to function: \u001B[39m\u001B[38;5;132;01m%s\u001B[39;00m\u001B[38;5;124m'\u001B[39m\n\u001B[0;32m    107\u001B[0m       \u001B[38;5;241m%\u001B[39m (name, signature\u001B[38;5;241m.\u001B[39mget(\u001B[38;5;124m'\u001B[39m\u001B[38;5;124mname\u001B[39m\u001B[38;5;124m'\u001B[39m)))\n",
      "File \u001B[1;32m~\\anaconda3\\envs\\gee_test\\Lib\\site-packages\\ee\\__init__.py:328\u001B[0m, in \u001B[0;36m_Promote\u001B[1;34m(arg, a_class)\u001B[0m\n\u001B[0;32m    325\u001B[0m \u001B[38;5;28;01melif\u001B[39;00m \u001B[38;5;28mcallable\u001B[39m(arg):\n\u001B[0;32m    326\u001B[0m   \u001B[38;5;66;03m# A native function that needs to be wrapped.\u001B[39;00m\n\u001B[0;32m    327\u001B[0m   args_count \u001B[38;5;241m=\u001B[39m \u001B[38;5;28mlen\u001B[39m(inspect\u001B[38;5;241m.\u001B[39mgetfullargspec(arg)\u001B[38;5;241m.\u001B[39margs)\n\u001B[1;32m--> 328\u001B[0m   \u001B[38;5;28;01mreturn\u001B[39;00m CustomFunction\u001B[38;5;241m.\u001B[39mcreate(arg, \u001B[38;5;124m'\u001B[39m\u001B[38;5;124mObject\u001B[39m\u001B[38;5;124m'\u001B[39m, [\u001B[38;5;124m'\u001B[39m\u001B[38;5;124mObject\u001B[39m\u001B[38;5;124m'\u001B[39m] \u001B[38;5;241m*\u001B[39m args_count)\n\u001B[0;32m    329\u001B[0m \u001B[38;5;28;01melif\u001B[39;00m \u001B[38;5;28misinstance\u001B[39m(arg, Encodable):\n\u001B[0;32m    330\u001B[0m   \u001B[38;5;66;03m# An ee.Function or a computed function like the return value of\u001B[39;00m\n\u001B[0;32m    331\u001B[0m   \u001B[38;5;66;03m# Image.parseExpression().\u001B[39;00m\n\u001B[0;32m    332\u001B[0m   \u001B[38;5;28;01mreturn\u001B[39;00m arg\n",
      "File \u001B[1;32m~\\anaconda3\\envs\\gee_test\\Lib\\site-packages\\ee\\customfunction.py:126\u001B[0m, in \u001B[0;36mCustomFunction.create\u001B[1;34m(func, return_type, arg_types)\u001B[0m\n\u001B[0;32m    120\u001B[0m args \u001B[38;5;241m=\u001B[39m [{\u001B[38;5;124m'\u001B[39m\u001B[38;5;124mname\u001B[39m\u001B[38;5;124m'\u001B[39m: \u001B[38;5;28;01mNone\u001B[39;00m, \u001B[38;5;124m'\u001B[39m\u001B[38;5;124mtype\u001B[39m\u001B[38;5;124m'\u001B[39m: StringifyType(i)} \u001B[38;5;28;01mfor\u001B[39;00m i \u001B[38;5;129;01min\u001B[39;00m arg_types]\n\u001B[0;32m    121\u001B[0m signature \u001B[38;5;241m=\u001B[39m {\n\u001B[0;32m    122\u001B[0m     \u001B[38;5;124m'\u001B[39m\u001B[38;5;124mname\u001B[39m\u001B[38;5;124m'\u001B[39m: \u001B[38;5;124m'\u001B[39m\u001B[38;5;124m'\u001B[39m,\n\u001B[0;32m    123\u001B[0m     \u001B[38;5;124m'\u001B[39m\u001B[38;5;124mreturns\u001B[39m\u001B[38;5;124m'\u001B[39m: StringifyType(return_type),\n\u001B[0;32m    124\u001B[0m     \u001B[38;5;124m'\u001B[39m\u001B[38;5;124margs\u001B[39m\u001B[38;5;124m'\u001B[39m: args\n\u001B[0;32m    125\u001B[0m }\n\u001B[1;32m--> 126\u001B[0m \u001B[38;5;28;01mreturn\u001B[39;00m CustomFunction(signature, func)\n",
      "File \u001B[1;32m~\\anaconda3\\envs\\gee_test\\Lib\\site-packages\\ee\\customfunction.py:40\u001B[0m, in \u001B[0;36mCustomFunction.__init__\u001B[1;34m(self, signature, body)\u001B[0m\n\u001B[0;32m     26\u001B[0m \u001B[38;5;250m\u001B[39m\u001B[38;5;124;03m\"\"\"Creates a function defined by a given expression with unbound variables.\u001B[39;00m\n\u001B[0;32m     27\u001B[0m \n\u001B[0;32m     28\u001B[0m \u001B[38;5;124;03mThe expression is created by evaluating the given function\u001B[39;00m\n\u001B[1;32m   (...)\u001B[0m\n\u001B[0;32m     35\u001B[0m \u001B[38;5;124;03m  body: The Python function to evaluate.\u001B[39;00m\n\u001B[0;32m     36\u001B[0m \u001B[38;5;124;03m\"\"\"\u001B[39;00m\n\u001B[0;32m     37\u001B[0m variables \u001B[38;5;241m=\u001B[39m [CustomFunction\u001B[38;5;241m.\u001B[39mvariable(arg[\u001B[38;5;124m'\u001B[39m\u001B[38;5;124mtype\u001B[39m\u001B[38;5;124m'\u001B[39m], arg[\u001B[38;5;124m'\u001B[39m\u001B[38;5;124mname\u001B[39m\u001B[38;5;124m'\u001B[39m])\n\u001B[0;32m     38\u001B[0m              \u001B[38;5;28;01mfor\u001B[39;00m arg \u001B[38;5;129;01min\u001B[39;00m signature[\u001B[38;5;124m'\u001B[39m\u001B[38;5;124margs\u001B[39m\u001B[38;5;124m'\u001B[39m]]\n\u001B[1;32m---> 40\u001B[0m \u001B[38;5;28;01mif\u001B[39;00m body(\u001B[38;5;241m*\u001B[39mvariables) \u001B[38;5;129;01mis\u001B[39;00m \u001B[38;5;28;01mNone\u001B[39;00m:\n\u001B[0;32m     41\u001B[0m   \u001B[38;5;28;01mraise\u001B[39;00m ee_exception\u001B[38;5;241m.\u001B[39mEEException(\u001B[38;5;124m'\u001B[39m\u001B[38;5;124mUser-defined methods must return a value\u001B[39m\u001B[38;5;124m'\u001B[39m)\n\u001B[0;32m     43\u001B[0m \u001B[38;5;66;03m# The signature of the function.\u001B[39;00m\n",
      "File \u001B[1;32m~\\anaconda3\\envs\\gee_test\\Lib\\site-packages\\ee\\collection.py:243\u001B[0m, in \u001B[0;36mCollection.map.<locals>.<lambda>\u001B[1;34m(e)\u001B[0m\n\u001B[0;32m    225\u001B[0m \u001B[38;5;250m\u001B[39m\u001B[38;5;124;03m\"\"\"Maps an algorithm over a collection.\u001B[39;00m\n\u001B[0;32m    226\u001B[0m \n\u001B[0;32m    227\u001B[0m \u001B[38;5;124;03mArgs:\u001B[39;00m\n\u001B[1;32m   (...)\u001B[0m\n\u001B[0;32m    240\u001B[0m \u001B[38;5;124;03m  ee_exception.EEException: if algorithm is not a function.\u001B[39;00m\n\u001B[0;32m    241\u001B[0m \u001B[38;5;124;03m\"\"\"\u001B[39;00m\n\u001B[0;32m    242\u001B[0m element_type \u001B[38;5;241m=\u001B[39m \u001B[38;5;28mself\u001B[39m\u001B[38;5;241m.\u001B[39melementType()\n\u001B[1;32m--> 243\u001B[0m with_cast \u001B[38;5;241m=\u001B[39m \u001B[38;5;28;01mlambda\u001B[39;00m e: algorithm(element_type(e, \u001B[38;5;28;01mNone\u001B[39;00m))\n\u001B[0;32m    244\u001B[0m \u001B[38;5;28;01mreturn\u001B[39;00m \u001B[38;5;28mself\u001B[39m\u001B[38;5;241m.\u001B[39m_cast(\n\u001B[0;32m    245\u001B[0m     apifunction\u001B[38;5;241m.\u001B[39mApiFunction\u001B[38;5;241m.\u001B[39mcall_(\n\u001B[0;32m    246\u001B[0m         \u001B[38;5;124m'\u001B[39m\u001B[38;5;124mCollection.map\u001B[39m\u001B[38;5;124m'\u001B[39m, \u001B[38;5;28mself\u001B[39m, with_cast, dropNulls\n\u001B[0;32m    247\u001B[0m     )\n\u001B[0;32m    248\u001B[0m )\n",
      "Cell \u001B[1;32mIn[32], line 117\u001B[0m, in \u001B[0;36mGeoindexity.add_evi\u001B[1;34m(self, image)\u001B[0m\n\u001B[0;32m    109\u001B[0m \u001B[38;5;28;01melif\u001B[39;00m \u001B[38;5;28mself\u001B[39m\u001B[38;5;241m.\u001B[39mcollection \u001B[38;5;241m==\u001B[39m \u001B[38;5;124m'\u001B[39m\u001B[38;5;124mLandsat8\u001B[39m\u001B[38;5;124m'\u001B[39m:\n\u001B[0;32m    110\u001B[0m     evi \u001B[38;5;241m=\u001B[39m image\u001B[38;5;241m.\u001B[39mexpression(\n\u001B[0;32m    111\u001B[0m         \u001B[38;5;124m'\u001B[39m\u001B[38;5;124m(2.5 * (nir–red) / (nir + 6 * red – 7.5 * blue + 1)\u001B[39m\u001B[38;5;124m'\u001B[39m, \u001B[38;5;66;03m# Change to Landsat8 here!\u001B[39;00m\n\u001B[0;32m    112\u001B[0m         {\u001B[38;5;124m'\u001B[39m\u001B[38;5;124mnir\u001B[39m\u001B[38;5;124m'\u001B[39m: image\u001B[38;5;241m.\u001B[39mselect(\u001B[38;5;124m'\u001B[39m\u001B[38;5;124mSR_B5\u001B[39m\u001B[38;5;124m'\u001B[39m),\n\u001B[0;32m    113\u001B[0m          \u001B[38;5;124m'\u001B[39m\u001B[38;5;124mred\u001B[39m\u001B[38;5;124m'\u001B[39m: image\u001B[38;5;241m.\u001B[39mselect(\u001B[38;5;124m'\u001B[39m\u001B[38;5;124mSR_B4\u001B[39m\u001B[38;5;124m'\u001B[39m),\n\u001B[0;32m    114\u001B[0m          \u001B[38;5;124m'\u001B[39m\u001B[38;5;124mblue\u001B[39m\u001B[38;5;124m'\u001B[39m: image\u001B[38;5;241m.\u001B[39mselect(\u001B[38;5;124m'\u001B[39m\u001B[38;5;124mSR_B2\u001B[39m\u001B[38;5;124m'\u001B[39m)}\n\u001B[0;32m    115\u001B[0m     )\u001B[38;5;241m.\u001B[39mrename(\u001B[38;5;124m'\u001B[39m\u001B[38;5;124mEVI\u001B[39m\u001B[38;5;124m'\u001B[39m)\n\u001B[1;32m--> 117\u001B[0m \u001B[38;5;28;01mreturn\u001B[39;00m image\u001B[38;5;241m.\u001B[39maddBands(evi)\n",
      "\u001B[1;31mUnboundLocalError\u001B[0m: cannot access local variable 'evi' where it is not associated with a value"
     ]
    }
   ],
   "source": [
    "y.evi_collection()\n",
    "test_index('EVI', y)"
   ],
   "metadata": {
    "collapsed": false,
    "ExecuteTime": {
     "end_time": "2024-06-26T11:39:50.454736Z",
     "start_time": "2024-06-26T11:39:50.365487Z"
    }
   },
   "id": "5c2336d9b8decda5",
   "execution_count": 49
  },
  {
   "cell_type": "code",
   "outputs": [],
   "source": [],
   "metadata": {
    "collapsed": false
   },
   "id": "e7af4fc9ecb67072"
  }
 ],
 "metadata": {
  "kernelspec": {
   "display_name": "Python 3 (ipykernel)",
   "language": "python",
   "name": "python3"
  },
  "language_info": {
   "codemirror_mode": {
    "name": "ipython",
    "version": 3
   },
   "file_extension": ".py",
   "mimetype": "text/x-python",
   "name": "python",
   "nbconvert_exporter": "python",
   "pygments_lexer": "ipython3",
   "version": "3.12.3"
  }
 },
 "nbformat": 4,
 "nbformat_minor": 5
}
