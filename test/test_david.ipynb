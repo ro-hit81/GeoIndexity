{
 "cells": [
  {
   "cell_type": "code",
   "execution_count": 1,
   "id": "80a59db0-a7f7-4aff-aa41-893addd32d3b",
   "metadata": {
    "ExecuteTime": {
     "end_time": "2024-07-07T12:28:38.273297Z",
     "start_time": "2024-07-07T12:28:38.265385Z"
    }
   },
   "outputs": [],
   "source": [
    "import ee\n",
    "\n",
    "import pandas as pd \n",
    "import matplotlib.pyplot as plt\n",
    "import sys \n",
    "\n",
    "import numpy as np \n",
    "sys.path.append('../geoindexity')"
   ]
  },
  {
   "cell_type": "code",
   "execution_count": 2,
   "id": "b7b12582-c7f9-4366-891e-26f9aef1a28f",
   "metadata": {
    "ExecuteTime": {
     "end_time": "2024-07-07T10:59:32.734642Z",
     "start_time": "2024-07-07T10:59:30.290484Z"
    }
   },
   "outputs": [],
   "source": [
    "# In order to use GEE (its EO data collections AND computing resources) we have to authentificate\n",
    "# and to initialize the project we want to work in. \n",
    "ee.Authenticate()\n",
    "ee.Initialize()"
   ]
  },
  {
   "cell_type": "code",
   "execution_count": 3,
   "id": "eebdbdfa-c0f8-4a04-8c18-46c376e55fa6",
   "metadata": {},
   "outputs": [],
   "source": [
    "class time_series:\n",
    "    \"\"\"\n",
    "    The core geoindexity time series object. \n",
    "    ...\n",
    "\n",
    "    Attributes\n",
    "    ----------\n",
    "    aoi : list\n",
    "        [xmin, ymin, xmax, ymax]\n",
    "    startdate : str\n",
    "        'yyyy-mm-dd'\n",
    "    enddate : str\n",
    "        'yyyy-mm-dd'\n",
    "    product: str \n",
    "        GEE data set: 'S1', 'S2_TOA', 'S2_SR' \n",
    "    cloudcover: int \n",
    "        percentage cloudcover threshold for series\n",
    "    collection: ee.imagecollection.ImageCollection \n",
    "        the actual image collection as input for index \n",
    "        time-series\n",
    "\n",
    "    Methods\n",
    "    -------\n",
    "    fetch_data(self):\n",
    "        Fetches GEE Image collection based on the following time_series attributes:\n",
    "        product, aoi, startdate, enddate, cloudcover\n",
    "\n",
    "    \"\"\"\n",
    "    def __init__(self, aoi, startdate, enddate, product, cloudcover):\n",
    "        data_dict = {'S1': 'COPERNICUS/S1_GRD', \n",
    "             'S2_TOA': 'COPERNICUS/S2_HARMONIZED',\n",
    "             'S2_SR': 'COPERNICUS/S2_SR_HARMONIZED'}\n",
    "        \n",
    "        self.aoi = ee.Geometry.Rectangle(aoi)\n",
    "        self.startdate = startdate\n",
    "        self.enddate = enddate\n",
    "        self.product = data_dict[product] \n",
    "        self.cloudcover = cloudcover\n",
    "        self.collection = None\n",
    "\n",
    "    def __len__(self): \n",
    "        if self.collection != None:\n",
    "            return self.collection.size().getInfo()\n",
    "        else: \n",
    "            return 0\n",
    "\n",
    "    def fetch_data(self): \n",
    "        \"\"\"\n",
    "        Fetches GEE Image collection based on the following time_series attributes:\n",
    "        product, aoi, startdate, enddate, cloudcover\n",
    "        ...\n",
    "        Images with cloud percentage <= cloudcover are used for the collection\n",
    "        \"\"\"\n",
    "        ee_collection = ee.ImageCollection(self.product)\n",
    "        self.collection = ee_collection.filterBounds(self.aoi).filterDate(self.startdate, self.enddate).filter(ee.Filter.lte('CLOUDY_PIXEL_PERCENTAGE', self.cloudcover))    "
   ]
  },
  {
   "cell_type": "code",
   "execution_count": 4,
   "id": "45d77eba-307f-415b-b4a0-c8e51110cf21",
   "metadata": {},
   "outputs": [],
   "source": [
    "aoi = [-2.9,\n",
    "       47.48,\n",
    "       -2.6,\n",
    "       47.63\n",
    "      ]\n",
    "\n",
    "ts = time_series(aoi,\n",
    "            startdate='2023-06-01',\n",
    "            enddate='2023-08-30', \n",
    "            product= 'S2_SR', \n",
    "            cloudcover=10)"
   ]
  },
  {
   "cell_type": "code",
   "execution_count": 5,
   "id": "aa2aae27-197a-4084-a18f-2230043782e1",
   "metadata": {},
   "outputs": [
    {
     "data": {
      "text/plain": [
       "0"
      ]
     },
     "execution_count": 5,
     "metadata": {},
     "output_type": "execute_result"
    }
   ],
   "source": [
    "len(ts) "
   ]
  },
  {
   "cell_type": "code",
   "execution_count": 6,
   "id": "398d85eb-2c4f-4769-8d56-5919b5308480",
   "metadata": {},
   "outputs": [],
   "source": [
    "ts.fetch_data()"
   ]
  },
  {
   "cell_type": "code",
   "execution_count": 7,
   "id": "d6ad2f51-3b3f-47ad-b682-23729b4fc25b",
   "metadata": {},
   "outputs": [
    {
     "data": {
      "text/plain": [
       "7"
      ]
     },
     "execution_count": 7,
     "metadata": {},
     "output_type": "execute_result"
    }
   ],
   "source": [
    "len(ts)"
   ]
  },
  {
   "cell_type": "code",
   "execution_count": 8,
   "id": "5492e8d6-6b30-4d0b-bbad-877215e75530",
   "metadata": {},
   "outputs": [
    {
     "data": {
      "text/plain": [
       "ee.imagecollection.ImageCollection"
      ]
     },
     "execution_count": 8,
     "metadata": {},
     "output_type": "execute_result"
    }
   ],
   "source": [
    "type(ts.collection)"
   ]
  },
  {
   "cell_type": "markdown",
   "id": "9faa365edc4c56c9",
   "metadata": {
    "collapsed": false,
    "jupyter": {
     "outputs_hidden": false
    }
   },
   "source": [
    "## Testing 26/06"
   ]
  },
  {
   "cell_type": "code",
   "execution_count": 8,
   "id": "f2b8f42bf4f74cbb",
   "metadata": {
    "ExecuteTime": {
     "end_time": "2024-07-07T10:59:37.720802Z",
     "start_time": "2024-07-07T10:59:37.689293Z"
    },
    "collapsed": false,
    "jupyter": {
     "outputs_hidden": false
    }
   },
   "outputs": [],
   "source": [
    "from config import *"
   ]
  },
  {
   "cell_type": "code",
   "execution_count": 9,
   "id": "b29343436fe64ca6",
   "metadata": {
    "ExecuteTime": {
     "end_time": "2024-07-07T11:50:00.316650Z",
     "start_time": "2024-07-07T11:50:00.302025Z"
    },
    "collapsed": false,
    "jupyter": {
     "outputs_hidden": false
    }
   },
   "outputs": [],
   "source": [
    "class Sentinel:\n",
    "    \"\"\"\n",
    "    A class that represents the user speci\n",
    "    \"\"\"\n",
    "    def __init__(self, roi, start_date, end_date, properties=None):\n",
    "        self.roi = roi\n",
    "        self.start_date = start_date\n",
    "        self.end_date = end_date\n",
    "        self.collection_id= 'COPERNICUS/S2_SR_HARMONIZED'\n",
    "        self.properties = properties or {}\n",
    "\n",
    "    def bound(self):\n",
    "        return ee.Geometry.Rectangle(self.roi)\n",
    "\n",
    "    def select_product(self):\n",
    "        image_collection = ee.ImageCollection(self.collection_id)\n",
    "        image_collection = image_collection.filterDate(self.start_date, self.end_date)\n",
    "        image_collection = image_collection.filterBounds(self.bound())\n",
    "        if self.properties:\n",
    "            valid_properties = {\"CLOUDY_PIXEL_PERCENTAGE\": int, \"CLOUDY_SHADOW_PERCENTAGE\": int, \"DARK_FEATURES_PERCENTAGE\": int}\n",
    "            for property_name, value in self.properties.items():\n",
    "                if property_name not in valid_properties:\n",
    "                    raise KeyError(f\"Invalid property name: {property_name}. Supported properties: {', '.join(valid_properties.keys())}.\")\n",
    "                image_collection=image_collection.filter(ee.Filter.lte(property_name, value))\n",
    "        return image_collection\n",
    "\n",
    "    def number_of_images(self):\n",
    "        print(f'Total Sentinel images collected: {self.select_product().size().getInfo()}')"
   ]
  },
  {
   "cell_type": "code",
   "execution_count": 10,
   "id": "8451a40ee6d0c39f",
   "metadata": {
    "ExecuteTime": {
     "end_time": "2024-07-07T11:50:00.905743Z",
     "start_time": "2024-07-07T11:50:00.895852Z"
    },
    "collapsed": false,
    "jupyter": {
     "outputs_hidden": false
    }
   },
   "outputs": [],
   "source": [
    "class Landsat8:\n",
    "    \"\"\"\n",
    "    A class that represents the user speci\n",
    "    \"\"\"\n",
    "    def __init__(self, roi, start_date, end_date, properties=None):\n",
    "        self.roi = roi\n",
    "        self.start_date = start_date\n",
    "        self.end_date = end_date\n",
    "        self.collection_id= 'LANDSAT/LC08/C02/T1_L2'\n",
    "        self.properties = properties or {}\n",
    "\n",
    "    def bound(self):\n",
    "        return ee.Geometry.Rectangle(self.roi)\n",
    "\n",
    "    def select_product(self):\n",
    "        image_collection = ee.ImageCollection(self.collection_id)\n",
    "        image_collection = image_collection.filterDate(self.start_date, self.end_date)\n",
    "        image_collection = image_collection.filterBounds(self.bound())\n",
    "        if self.properties:\n",
    "            valid_properties = {\"CLOUDY_PIXEL_PERCENTAGE\": int, \"CLOUDY_SHADOW_PERCENTAGE\": int, \"DARK_FEATURES_PERCENTAGE\": int}\n",
    "            for property_name, value in self.properties.items():\n",
    "                if property_name not in valid_properties:\n",
    "                    raise KeyError(f\"Invalid property name: {property_name}. Supported properties: {', '.join(valid_properties.keys())}.\")\n",
    "                image_collection=image_collection.filter(ee.Filter.lte(property_name, value))\n",
    "        return image_collection"
   ]
  },
  {
   "cell_type": "code",
   "execution_count": 93,
   "id": "f4dde800ee6d7d2d",
   "metadata": {
    "ExecuteTime": {
     "end_time": "2024-07-07T12:34:05.121427Z",
     "start_time": "2024-07-07T12:34:05.098572Z"
    },
    "collapsed": false,
    "jupyter": {
     "outputs_hidden": false
    }
   },
   "outputs": [],
   "source": [
    "class Geoindexity:\n",
    "    \"\"\"\n",
    "    The core geoindexity time series object. \n",
    "    ...\n",
    "\n",
    "    Attributes\n",
    "    ----------\n",
    "    aoi : list\n",
    "        [xmin, ymin, xmax, ymax]\n",
    "    startdate : str\n",
    "        'yyyy-mm-dd''\n",
    "    enddate : str\n",
    "        'yyyy-mm-dd'\n",
    "    collection: str \n",
    "        default: 'Sentinel', 'Landsat' \n",
    "    properties: dict \n",
    "        percentage cloudcover threshold for series\n",
    "\n",
    "    Methods\n",
    "    -------\n",
    "    fetch_data(self):\n",
    "        Fetches GEE Image collection based on the following time_series attributes:\n",
    "        product, aoi, startdate, enddate, cloudcover\n",
    "\n",
    "    \"\"\"\n",
    "    # Will be changed accordingly to the config file parameters\n",
    "\n",
    "    def __init__(self, roi, start_date, end_date, collection_id='Sentinel', properties=None): # collection argument as identifier between Sentinel and Landsat? \n",
    "        self.roi = roi\n",
    "        self.start_date = start_date\n",
    "        self.end_date = end_date\n",
    "        self.collection_id = collection_id\n",
    "        self.properties = properties\n",
    "        self.reducer = None \n",
    "        self.df = None \n",
    "\n",
    "        if self.collection_id == 'Sentinel':\n",
    "            self.collection = Sentinel(roi=self.roi,\n",
    "                                       start_date=self.start_date,\n",
    "                                       end_date=self.end_date,\n",
    "                                       properties=self.properties\n",
    "                                       ).select_product()\n",
    "\n",
    "        if self.collection_id == 'Landsat8':\n",
    "            self.collection = Landsat8(roi=self.roi,\n",
    "                                       start_date=self.start_date,\n",
    "                                       end_date=self.end_date,\n",
    "                                       properties=self.properties\n",
    "                                       ).select_product()\n",
    "\n",
    "    def __len__(self):\n",
    "        return self.collection.size().getInfo()\n",
    "\n",
    "    def bound(self):\n",
    "        return ee.Geometry.Rectangle(self.roi)\n",
    "\n",
    "    def add_ndvi(self, image):\n",
    "        if self.collection_id == 'Sentinel':\n",
    "            ndvi = image.expression(\n",
    "                '((nir-red)/(nir+red))',\n",
    "                {'nir': image.select('B4'),\n",
    "                 'red': image.select('B8')}\n",
    "            ).rename('NDVI')\n",
    "        elif self.collection == 'Landsat8':\n",
    "            ndvi = image.expression(\n",
    "                '((nir - red)/(nir + red))',\n",
    "                {'nir': image.select('SR_B5'),\n",
    "                 'red': image.select('SR_B4')}\n",
    "            ).rename('NDVI')\n",
    "\n",
    "        return image.addBands(ndvi)\n",
    "\n",
    "\n",
    "    def add_evi(self, image):\n",
    "        if self.collection == 'Sentinel':\n",
    "            evi = image.expression(\n",
    "                '2.4*((nir-red)/(nir+ 6*red - 7.5* blue +1))',\n",
    "                {'nir': image.select('SR_B8'),\n",
    "                 'red': image.select('SR_B4'),\n",
    "                 'blue': image.select('SR_B2')}\n",
    "            ).rename('EVI')\n",
    "\n",
    "\n",
    "        elif self.collection == 'Landsat8':\n",
    "            evi = image.expression(\n",
    "                '(2.5 * (nir–red) / (nir + 6 * red – 7.5 * blue + 1)', # Change to Landsat8 here!\n",
    "                {'nir': image.select('SR_B5'),\n",
    "                 'red': image.select('SR_B4'),\n",
    "                 'blue': image.select('SR_B2')}\n",
    "            ).rename('EVI')\n",
    "\n",
    "        return image.addBands(evi)\n",
    "\n",
    "    def ndvi_collection(self):\n",
    "        self.collection = self.collection.map(self.add_ndvi)\n",
    "\n",
    "    def evi_collection(self):\n",
    "        self.collection = self.collection.map(self.add_evi)\n",
    "\n",
    "    def reduce_ndvi_mean(self):\n",
    "\n",
    "        # Check if NDVI in collection \n",
    "        if not 'NDVI' in x.collection.first().bandNames().getInfo():\n",
    "            raise ValueError(f\"No NDVI band found. Use ndvi_collection method first to calculate NDVI\")\n",
    "\n",
    "        # If NDVI in collection do:\n",
    "        else:\n",
    "            aoi = self.bound()\n",
    "    \n",
    "            def aoi_ndvi_mean(image, aoi=aoi):\n",
    "                # Extract the date from the image metadata\n",
    "                date = ee.Date(image.get('system:time_start')).format(\"YYYY-MM-dd\", 'UTC')\n",
    "            \n",
    "                # Calculate the mean NDVI value within the AOI\n",
    "                mean = image.select('NDVI').reduceRegion(\n",
    "                    reducer=ee.Reducer.mean(),\n",
    "                    geometry=aoi\n",
    "                ).get('NDVI')\n",
    "            \n",
    "                # Return the date and mean NDVI as a feature\n",
    "                return ee.Feature(None, {\n",
    "                    'date': date,\n",
    "                    'mean_ndvi': mean\n",
    "                })\n",
    "    \n",
    "            features= self.collection.map(aoi_ndvi_mean).getInfo()\n",
    "        \n",
    "            # Extract dates and mean NDVI values from the feature collection\n",
    "            dates = [feature['properties']['date'] for feature in features['features']]\n",
    "            mean_ndvi = [features['properties']['mean_ndvi'] for features in features['features']]\n",
    "        \n",
    "            # Create a DataFrame from the extracted data\n",
    "            df = pd.DataFrame({\n",
    "                'Date': dates,\n",
    "                'Mean_NDVI': mean_ndvi\n",
    "            })\n",
    "        \n",
    "            # Sort the DataFrame by date\n",
    "            df_sorted = df.sort_values(by='Date')\n",
    "        \n",
    "            self.df = df_sorted\n",
    "            self.reducer = 'NDVI_MEAN'\n",
    "\n",
    "\n",
    "    def plot(self):\n",
    "        if not self.reducer:\n",
    "            raise ValueError(f\"Time-series not reduced yet. Use reducer function based on your selected Index\")\n",
    "\n",
    "        if self.reducer == 'NDVI_MEAN':            \n",
    "            plt.figure(figsize=(10, 5))\n",
    "            plt.plot(self.df['Date'], self.df['Mean_NDVI'], marker='o', linestyle='--')\n",
    "            plt.title('Mean NDVI Time Series')\n",
    "            plt.xlabel('Date')\n",
    "            plt.xticks(rotation=45)\n",
    "            plt.ylabel('Mean NDVI')\n",
    "            plt.yticks(np.arange(-1, 1, 0.5))\n",
    "            plt.grid(True)\n",
    "            plt.show()\n",
    "            \n",
    "        "
   ]
  },
  {
   "cell_type": "code",
   "execution_count": 94,
   "id": "8d31c9bcc7579a14",
   "metadata": {
    "ExecuteTime": {
     "end_time": "2024-07-07T12:34:06.138041Z",
     "start_time": "2024-07-07T12:34:06.132166Z"
    },
    "collapsed": false,
    "jupyter": {
     "outputs_hidden": false
    }
   },
   "outputs": [],
   "source": [
    "x = Geoindexity(roi, start_date, end_date, collection_id='Sentinel')"
   ]
  },
  {
   "cell_type": "code",
   "execution_count": 95,
   "id": "6973f08f-5a15-47ea-9425-63530e6b5f98",
   "metadata": {},
   "outputs": [
    {
     "ename": "ValueError",
     "evalue": "No NDVI band found. Use ndvi_collection method first to calculate NDVI",
     "output_type": "error",
     "traceback": [
      "\u001b[1;31m---------------------------------------------------------------------------\u001b[0m",
      "\u001b[1;31mValueError\u001b[0m                                Traceback (most recent call last)",
      "Cell \u001b[1;32mIn[95], line 1\u001b[0m\n\u001b[1;32m----> 1\u001b[0m x\u001b[38;5;241m.\u001b[39mreduce_ndvi_mean()\n",
      "Cell \u001b[1;32mIn[93], line 104\u001b[0m, in \u001b[0;36mGeoindexity.reduce_ndvi_mean\u001b[1;34m(self)\u001b[0m\n\u001b[0;32m    100\u001b[0m \u001b[38;5;28;01mdef\u001b[39;00m \u001b[38;5;21mreduce_ndvi_mean\u001b[39m(\u001b[38;5;28mself\u001b[39m):\n\u001b[0;32m    101\u001b[0m \n\u001b[0;32m    102\u001b[0m     \u001b[38;5;66;03m# Check if NDVI in collection \u001b[39;00m\n\u001b[0;32m    103\u001b[0m     \u001b[38;5;28;01mif\u001b[39;00m \u001b[38;5;129;01mnot\u001b[39;00m \u001b[38;5;124m'\u001b[39m\u001b[38;5;124mNDVI\u001b[39m\u001b[38;5;124m'\u001b[39m \u001b[38;5;129;01min\u001b[39;00m x\u001b[38;5;241m.\u001b[39mcollection\u001b[38;5;241m.\u001b[39mfirst()\u001b[38;5;241m.\u001b[39mbandNames()\u001b[38;5;241m.\u001b[39mgetInfo():\n\u001b[1;32m--> 104\u001b[0m         \u001b[38;5;28;01mraise\u001b[39;00m \u001b[38;5;167;01mValueError\u001b[39;00m(\u001b[38;5;124mf\u001b[39m\u001b[38;5;124m\"\u001b[39m\u001b[38;5;124mNo NDVI band found. Use ndvi_collection method first to calculate NDVI\u001b[39m\u001b[38;5;124m\"\u001b[39m)\n\u001b[0;32m    106\u001b[0m     \u001b[38;5;66;03m# If NDVI in collection do:\u001b[39;00m\n\u001b[0;32m    107\u001b[0m     \u001b[38;5;28;01melse\u001b[39;00m:\n\u001b[0;32m    108\u001b[0m         aoi \u001b[38;5;241m=\u001b[39m \u001b[38;5;28mself\u001b[39m\u001b[38;5;241m.\u001b[39mbound()\n",
      "\u001b[1;31mValueError\u001b[0m: No NDVI band found. Use ndvi_collection method first to calculate NDVI"
     ]
    }
   ],
   "source": [
    "x.reduce_ndvi_mean()"
   ]
  },
  {
   "cell_type": "code",
   "execution_count": 96,
   "id": "678e424c6a5b7b44",
   "metadata": {
    "ExecuteTime": {
     "end_time": "2024-07-07T12:34:06.151384Z",
     "start_time": "2024-07-07T12:34:06.141053Z"
    },
    "collapsed": false,
    "jupyter": {
     "outputs_hidden": false
    }
   },
   "outputs": [],
   "source": [
    "x.ndvi_collection()"
   ]
  },
  {
   "cell_type": "code",
   "execution_count": 97,
   "id": "4befe89055126796",
   "metadata": {
    "ExecuteTime": {
     "end_time": "2024-07-07T12:34:06.162770Z",
     "start_time": "2024-07-07T12:34:06.154391Z"
    },
    "collapsed": false,
    "jupyter": {
     "outputs_hidden": false
    }
   },
   "outputs": [],
   "source": [
    "x.reducer"
   ]
  },
  {
   "cell_type": "code",
   "execution_count": 98,
   "id": "9ff71895-94af-460f-915d-47403ca1d2f4",
   "metadata": {},
   "outputs": [
    {
     "data": {
      "text/plain": [
       "True"
      ]
     },
     "execution_count": 98,
     "metadata": {},
     "output_type": "execute_result"
    }
   ],
   "source": [
    "x.reducer == None"
   ]
  },
  {
   "cell_type": "code",
   "execution_count": 99,
   "id": "9c83631b-a8f4-4a75-b8c5-15ca0bf97297",
   "metadata": {},
   "outputs": [
    {
     "ename": "ValueError",
     "evalue": "Time-series not reduced yet. Use reducer function based on your selected Index",
     "output_type": "error",
     "traceback": [
      "\u001b[1;31m---------------------------------------------------------------------------\u001b[0m",
      "\u001b[1;31mValueError\u001b[0m                                Traceback (most recent call last)",
      "Cell \u001b[1;32mIn[99], line 1\u001b[0m\n\u001b[1;32m----> 1\u001b[0m x\u001b[38;5;241m.\u001b[39mplot()\n",
      "Cell \u001b[1;32mIn[93], line 147\u001b[0m, in \u001b[0;36mGeoindexity.plot\u001b[1;34m(self)\u001b[0m\n\u001b[0;32m    145\u001b[0m \u001b[38;5;28;01mdef\u001b[39;00m \u001b[38;5;21mplot\u001b[39m(\u001b[38;5;28mself\u001b[39m):\n\u001b[0;32m    146\u001b[0m     \u001b[38;5;28;01mif\u001b[39;00m \u001b[38;5;129;01mnot\u001b[39;00m \u001b[38;5;28mself\u001b[39m\u001b[38;5;241m.\u001b[39mreducer:\n\u001b[1;32m--> 147\u001b[0m         \u001b[38;5;28;01mraise\u001b[39;00m \u001b[38;5;167;01mValueError\u001b[39;00m(\u001b[38;5;124mf\u001b[39m\u001b[38;5;124m\"\u001b[39m\u001b[38;5;124mTime-series not reduced yet. Use reducer function based on your selected Index\u001b[39m\u001b[38;5;124m\"\u001b[39m)\n\u001b[0;32m    149\u001b[0m     \u001b[38;5;28;01mif\u001b[39;00m \u001b[38;5;28mself\u001b[39m\u001b[38;5;241m.\u001b[39mreducer \u001b[38;5;241m==\u001b[39m \u001b[38;5;124m'\u001b[39m\u001b[38;5;124mNDVI_MEAN\u001b[39m\u001b[38;5;124m'\u001b[39m:            \n\u001b[0;32m    150\u001b[0m         plt\u001b[38;5;241m.\u001b[39mfigure(figsize\u001b[38;5;241m=\u001b[39m(\u001b[38;5;241m10\u001b[39m, \u001b[38;5;241m5\u001b[39m))\n",
      "\u001b[1;31mValueError\u001b[0m: Time-series not reduced yet. Use reducer function based on your selected Index"
     ]
    }
   ],
   "source": [
    "x.plot()"
   ]
  },
  {
   "cell_type": "code",
   "execution_count": 100,
   "id": "faf9a1032340db88",
   "metadata": {
    "ExecuteTime": {
     "end_time": "2024-07-07T12:34:07.253182Z",
     "start_time": "2024-07-07T12:34:06.167131Z"
    },
    "collapsed": false,
    "jupyter": {
     "outputs_hidden": false
    }
   },
   "outputs": [],
   "source": [
    "x.reduce_ndvi_mean()"
   ]
  },
  {
   "cell_type": "code",
   "execution_count": 101,
   "id": "53756ab305085556",
   "metadata": {
    "ExecuteTime": {
     "end_time": "2024-07-07T12:34:07.279859Z",
     "start_time": "2024-07-07T12:34:07.256603Z"
    },
    "collapsed": false,
    "jupyter": {
     "outputs_hidden": false
    }
   },
   "outputs": [
    {
     "name": "stdout",
     "output_type": "stream",
     "text": [
      "NDVI_MEAN\n"
     ]
    },
    {
     "data": {
      "text/html": [
       "<div>\n",
       "<style scoped>\n",
       "    .dataframe tbody tr th:only-of-type {\n",
       "        vertical-align: middle;\n",
       "    }\n",
       "\n",
       "    .dataframe tbody tr th {\n",
       "        vertical-align: top;\n",
       "    }\n",
       "\n",
       "    .dataframe thead th {\n",
       "        text-align: right;\n",
       "    }\n",
       "</style>\n",
       "<table border=\"1\" class=\"dataframe\">\n",
       "  <thead>\n",
       "    <tr style=\"text-align: right;\">\n",
       "      <th></th>\n",
       "      <th>Date</th>\n",
       "      <th>Mean_NDVI</th>\n",
       "    </tr>\n",
       "  </thead>\n",
       "  <tbody>\n",
       "    <tr>\n",
       "      <th>0</th>\n",
       "      <td>2020-01-01</td>\n",
       "      <td>-0.566154</td>\n",
       "    </tr>\n",
       "    <tr>\n",
       "      <th>1</th>\n",
       "      <td>2020-01-01</td>\n",
       "      <td>-0.517421</td>\n",
       "    </tr>\n",
       "    <tr>\n",
       "      <th>2</th>\n",
       "      <td>2020-01-01</td>\n",
       "      <td>-0.493941</td>\n",
       "    </tr>\n",
       "    <tr>\n",
       "      <th>3</th>\n",
       "      <td>2020-01-04</td>\n",
       "      <td>-0.017627</td>\n",
       "    </tr>\n",
       "    <tr>\n",
       "      <th>4</th>\n",
       "      <td>2020-01-04</td>\n",
       "      <td>-0.020999</td>\n",
       "    </tr>\n",
       "    <tr>\n",
       "      <th>...</th>\n",
       "      <td>...</td>\n",
       "      <td>...</td>\n",
       "    </tr>\n",
       "    <tr>\n",
       "      <th>107</th>\n",
       "      <td>2020-03-16</td>\n",
       "      <td>-0.613510</td>\n",
       "    </tr>\n",
       "    <tr>\n",
       "      <th>110</th>\n",
       "      <td>2020-03-19</td>\n",
       "      <td>-0.564921</td>\n",
       "    </tr>\n",
       "    <tr>\n",
       "      <th>108</th>\n",
       "      <td>2020-03-19</td>\n",
       "      <td>-0.607619</td>\n",
       "    </tr>\n",
       "    <tr>\n",
       "      <th>109</th>\n",
       "      <td>2020-03-19</td>\n",
       "      <td>-0.563522</td>\n",
       "    </tr>\n",
       "    <tr>\n",
       "      <th>111</th>\n",
       "      <td>2020-03-19</td>\n",
       "      <td>-0.568980</td>\n",
       "    </tr>\n",
       "  </tbody>\n",
       "</table>\n",
       "<p>112 rows × 2 columns</p>\n",
       "</div>"
      ],
      "text/plain": [
       "           Date  Mean_NDVI\n",
       "0    2020-01-01  -0.566154\n",
       "1    2020-01-01  -0.517421\n",
       "2    2020-01-01  -0.493941\n",
       "3    2020-01-04  -0.017627\n",
       "4    2020-01-04  -0.020999\n",
       "..          ...        ...\n",
       "107  2020-03-16  -0.613510\n",
       "110  2020-03-19  -0.564921\n",
       "108  2020-03-19  -0.607619\n",
       "109  2020-03-19  -0.563522\n",
       "111  2020-03-19  -0.568980\n",
       "\n",
       "[112 rows x 2 columns]"
      ]
     },
     "execution_count": 101,
     "metadata": {},
     "output_type": "execute_result"
    }
   ],
   "source": [
    "print(x.reducer) \n",
    "x.df"
   ]
  },
  {
   "cell_type": "code",
   "execution_count": 102,
   "id": "fb95d7e68141be96",
   "metadata": {
    "ExecuteTime": {
     "end_time": "2024-07-07T12:34:07.649512Z",
     "start_time": "2024-07-07T12:34:07.283445Z"
    },
    "collapsed": false,
    "jupyter": {
     "outputs_hidden": false
    }
   },
   "outputs": [
    {
     "data": {
      "image/png": "[encoded data removed]",
      "text/plain": [
       "<Figure size 1000x500 with 1 Axes>"
      ]
     },
     "metadata": {},
     "output_type": "display_data"
    }
   ],
   "source": [
    "x.plot() "
   ]
  },
  {
   "cell_type": "code",
   "execution_count": 88,
   "id": "b7ab6cf7-7566-49de-8cee-f585ca0357b8",
   "metadata": {},
   "outputs": [
    {
     "data": {
      "text/plain": [
       "True"
      ]
     },
     "execution_count": 88,
     "metadata": {},
     "output_type": "execute_result"
    }
   ],
   "source": [
    "'NDVI' in x.collection.first().bandNames().getInfo()"
   ]
  },
  {
   "cell_type": "markdown",
   "id": "c7660ee6-1c84-4e48-aa48-7c2980491f56",
   "metadata": {},
   "source": [
    "# Testing 16/97/2024"
   ]
  },
  {
   "cell_type": "code",
   "execution_count": 3,
   "id": "fe6329dc-e0fe-49f4-a5fd-74c1a16670f3",
   "metadata": {},
   "outputs": [],
   "source": [
    "import geoindexity "
   ]
  },
  {
   "cell_type": "code",
   "execution_count": 5,
   "id": "7dcd5697-6bb5-496e-a6ae-71dd1e73bc5e",
   "metadata": {},
   "outputs": [
    {
     "ename": "ImportError",
     "evalue": "cannot import name 'Geoindexity' from 'geoindexity' (C:\\Users\\davha\\anaconda3\\envs\\test_geoindexity\\Lib\\site-packages\\geoindexity\\__init__.py)",
     "output_type": "error",
     "traceback": [
      "\u001b[1;31m---------------------------------------------------------------------------\u001b[0m",
      "\u001b[1;31mImportError\u001b[0m                               Traceback (most recent call last)",
      "Cell \u001b[1;32mIn[5], line 1\u001b[0m\n\u001b[1;32m----> 1\u001b[0m \u001b[38;5;28;01mfrom\u001b[39;00m \u001b[38;5;21;01mgeoindexity\u001b[39;00m \u001b[38;5;28;01mimport\u001b[39;00m Geoindexity \n",
      "\u001b[1;31mImportError\u001b[0m: cannot import name 'Geoindexity' from 'geoindexity' (C:\\Users\\davha\\anaconda3\\envs\\test_geoindexity\\Lib\\site-packages\\geoindexity\\__init__.py)"
     ]
    }
   ],
   "source": [
    "from geoindexity import Geoindexity "
   ]
  },
  {
   "cell_type": "markdown",
   "id": "d3532952-5e2e-434a-88f9-b33811a091bc",
   "metadata": {},
   "source": [
    "Tutorial workthrough"
   ]
  },
  {
   "cell_type": "code",
   "execution_count": 4,
   "id": "a95d1c8f-ed4f-4331-9122-bd70610c8d83",
   "metadata": {},
   "outputs": [],
   "source": [
    "from example_package_hansendav import example  "
   ]
  },
  {
   "cell_type": "code",
   "execution_count": 6,
   "id": "440c50dc-2b47-4373-a2bc-06e1e041c191",
   "metadata": {},
   "outputs": [
    {
     "data": {
      "text/plain": [
       "2"
      ]
     },
     "execution_count": 6,
     "metadata": {},
     "output_type": "execute_result"
    }
   ],
   "source": [
    "example.add_one(1)"
   ]
  },
  {
   "cell_type": "code",
   "execution_count": 10,
   "id": "67c9a088-864e-4450-8092-a7aa924e436d",
   "metadata": {},
   "outputs": [],
   "source": [
    "import geoindexity.geoindexity as gx "
   ]
  },
  {
   "cell_type": "code",
   "execution_count": 11,
   "id": "30aab0ba-361a-42e7-8b3b-08bef391cf6f",
   "metadata": {},
   "outputs": [
    {
     "data": {
      "text/plain": [
       "geoindexity.geoindexity.Geoindexity"
      ]
     },
     "execution_count": 11,
     "metadata": {},
     "output_type": "execute_result"
    }
   ],
   "source": [
    "gx.Geoindexity"
   ]
  },
  {
   "cell_type": "code",
   "execution_count": 12,
   "id": "71d9f889-b3b2-48a0-9ba2-fabf016294d4",
   "metadata": {},
   "outputs": [],
   "source": [
    "import geoindexity "
   ]
  },
  {
   "cell_type": "code",
   "execution_count": 13,
   "id": "149d884a-b65e-4b1f-9a95-59af6a48e084",
   "metadata": {},
   "outputs": [
    {
     "data": {
      "text/plain": [
       "geoindexity.geoindexity.Geoindexity"
      ]
     },
     "execution_count": 13,
     "metadata": {},
     "output_type": "execute_result"
    }
   ],
   "source": [
    "geoindexity.geoindexity.Geoindexity"
   ]
  },
  {
   "cell_type": "markdown",
   "id": "b723680f-a985-4401-a5be-df78304c895a",
   "metadata": {},
   "source": [
    "Just made a simple import mistake at the beginning **...**"
   ]
  },
  {
   "cell_type": "code",
   "execution_count": 1,
   "id": "e1dd6b0a-07fb-42ff-b3fe-4b57c48eb6e7",
   "metadata": {},
   "outputs": [
    {
     "data": {
      "text/plain": [
       "True"
      ]
     },
     "execution_count": 1,
     "metadata": {},
     "output_type": "execute_result"
    }
   ],
   "source": [
    "import ee \n",
    "ee.Initialize() \n",
    "ee.Authenticate()"
   ]
  },
  {
   "cell_type": "code",
   "execution_count": 2,
   "id": "2db88a11-4565-41fc-bd77-5f1f0580c182",
   "metadata": {},
   "outputs": [],
   "source": [
    "from geoindexity import geoindexity as gx "
   ]
  },
  {
   "cell_type": "code",
   "execution_count": 3,
   "id": "0049d977-3a54-4940-81cc-d476bbb37aa8",
   "metadata": {},
   "outputs": [],
   "source": [
    "from geoindexity.examples import * "
   ]
  },
  {
   "cell_type": "code",
   "execution_count": 5,
   "id": "f22daea5-ae93-48c3-a419-eaa04f9e9758",
   "metadata": {},
   "outputs": [
    {
     "name": "stdout",
     "output_type": "stream",
     "text": [
      "{'CLOUDY_PIXEL_PERCENTAGE': 10}\n"
     ]
    }
   ],
   "source": [
    "print(properties) "
   ]
  },
  {
   "cell_type": "code",
   "execution_count": 14,
   "id": "125465f6-316e-4eec-a006-341a3af4f977",
   "metadata": {},
   "outputs": [],
   "source": [
    "x = gx.Geoindexity(roi, start_date, end_date, properties=properties, collection_id = 'Sentinel')"
   ]
  },
  {
   "cell_type": "code",
   "execution_count": 7,
   "id": "7587a3b1-57ad-47a2-9fc5-eabf59a32d42",
   "metadata": {},
   "outputs": [
    {
     "data": {
      "text/plain": [
       "'Sentinel'"
      ]
     },
     "execution_count": 7,
     "metadata": {},
     "output_type": "execute_result"
    }
   ],
   "source": [
    "x.collection_id"
   ]
  },
  {
   "cell_type": "code",
   "execution_count": 8,
   "id": "b9762861-8b2a-4ed7-8d14-8185a6f55107",
   "metadata": {},
   "outputs": [],
   "source": [
    "x.ndvi_collection() "
   ]
  },
  {
   "cell_type": "code",
   "execution_count": 9,
   "id": "fa7a7699-c049-4529-aa85-da090579f7df",
   "metadata": {},
   "outputs": [],
   "source": [
    "x.reduce_ndvi_mean()"
   ]
  },
  {
   "cell_type": "code",
   "execution_count": 10,
   "id": "7d790ada-3cb1-4d37-9dd6-56ab2146ccbc",
   "metadata": {},
   "outputs": [
    {
     "data": {
      "text/plain": [
       "20"
      ]
     },
     "execution_count": 10,
     "metadata": {},
     "output_type": "execute_result"
    }
   ],
   "source": [
    "len(x)"
   ]
  },
  {
   "cell_type": "code",
   "execution_count": 11,
   "id": "67916ddd-f21e-4c53-aebc-3c5ff462ad03",
   "metadata": {},
   "outputs": [
    {
     "data": {
      "image/png": "[encoded data removed]",
      "text/plain": [
       "<Figure size 1000x500 with 1 Axes>"
      ]
     },
     "metadata": {},
     "output_type": "display_data"
    }
   ],
   "source": [
    "x.plot()"
   ]
  },
  {
   "cell_type": "code",
   "execution_count": 12,
   "id": "9489b497-6748-4586-81cf-03466d060baa",
   "metadata": {},
   "outputs": [
    {
     "data": {
      "text/html": [
       "<div>\n",
       "<style scoped>\n",
       "    .dataframe tbody tr th:only-of-type {\n",
       "        vertical-align: middle;\n",
       "    }\n",
       "\n",
       "    .dataframe tbody tr th {\n",
       "        vertical-align: top;\n",
       "    }\n",
       "\n",
       "    .dataframe thead th {\n",
       "        text-align: right;\n",
       "    }\n",
       "</style>\n",
       "<table border=\"1\" class=\"dataframe\">\n",
       "  <thead>\n",
       "    <tr style=\"text-align: right;\">\n",
       "      <th></th>\n",
       "      <th>Date</th>\n",
       "      <th>Mean_NDVI</th>\n",
       "    </tr>\n",
       "  </thead>\n",
       "  <tbody>\n",
       "    <tr>\n",
       "      <th>0</th>\n",
       "      <td>2020-01-01</td>\n",
       "      <td>-0.566154</td>\n",
       "    </tr>\n",
       "    <tr>\n",
       "      <th>1</th>\n",
       "      <td>2020-01-01</td>\n",
       "      <td>-0.517421</td>\n",
       "    </tr>\n",
       "    <tr>\n",
       "      <th>2</th>\n",
       "      <td>2020-01-01</td>\n",
       "      <td>-0.493941</td>\n",
       "    </tr>\n",
       "    <tr>\n",
       "      <th>3</th>\n",
       "      <td>2020-01-06</td>\n",
       "      <td>-0.671886</td>\n",
       "    </tr>\n",
       "    <tr>\n",
       "      <th>4</th>\n",
       "      <td>2020-01-06</td>\n",
       "      <td>-0.418100</td>\n",
       "    </tr>\n",
       "    <tr>\n",
       "      <th>5</th>\n",
       "      <td>2020-01-14</td>\n",
       "      <td>-0.617990</td>\n",
       "    </tr>\n",
       "    <tr>\n",
       "      <th>6</th>\n",
       "      <td>2020-01-16</td>\n",
       "      <td>-0.708925</td>\n",
       "    </tr>\n",
       "    <tr>\n",
       "      <th>7</th>\n",
       "      <td>2020-01-16</td>\n",
       "      <td>-0.653999</td>\n",
       "    </tr>\n",
       "    <tr>\n",
       "      <th>9</th>\n",
       "      <td>2020-01-24</td>\n",
       "      <td>-0.306296</td>\n",
       "    </tr>\n",
       "    <tr>\n",
       "      <th>8</th>\n",
       "      <td>2020-01-24</td>\n",
       "      <td>-0.375750</td>\n",
       "    </tr>\n",
       "    <tr>\n",
       "      <th>10</th>\n",
       "      <td>2020-02-08</td>\n",
       "      <td>-0.441058</td>\n",
       "    </tr>\n",
       "    <tr>\n",
       "      <th>11</th>\n",
       "      <td>2020-02-08</td>\n",
       "      <td>-0.393921</td>\n",
       "    </tr>\n",
       "    <tr>\n",
       "      <th>12</th>\n",
       "      <td>2020-02-08</td>\n",
       "      <td>-0.399265</td>\n",
       "    </tr>\n",
       "    <tr>\n",
       "      <th>13</th>\n",
       "      <td>2020-03-16</td>\n",
       "      <td>-0.685786</td>\n",
       "    </tr>\n",
       "    <tr>\n",
       "      <th>14</th>\n",
       "      <td>2020-03-16</td>\n",
       "      <td>-0.614493</td>\n",
       "    </tr>\n",
       "    <tr>\n",
       "      <th>15</th>\n",
       "      <td>2020-03-16</td>\n",
       "      <td>-0.613510</td>\n",
       "    </tr>\n",
       "    <tr>\n",
       "      <th>18</th>\n",
       "      <td>2020-03-19</td>\n",
       "      <td>-0.564921</td>\n",
       "    </tr>\n",
       "    <tr>\n",
       "      <th>16</th>\n",
       "      <td>2020-03-19</td>\n",
       "      <td>-0.607619</td>\n",
       "    </tr>\n",
       "    <tr>\n",
       "      <th>17</th>\n",
       "      <td>2020-03-19</td>\n",
       "      <td>-0.563522</td>\n",
       "    </tr>\n",
       "    <tr>\n",
       "      <th>19</th>\n",
       "      <td>2020-03-19</td>\n",
       "      <td>-0.568980</td>\n",
       "    </tr>\n",
       "  </tbody>\n",
       "</table>\n",
       "</div>"
      ],
      "text/plain": [
       "          Date  Mean_NDVI\n",
       "0   2020-01-01  -0.566154\n",
       "1   2020-01-01  -0.517421\n",
       "2   2020-01-01  -0.493941\n",
       "3   2020-01-06  -0.671886\n",
       "4   2020-01-06  -0.418100\n",
       "5   2020-01-14  -0.617990\n",
       "6   2020-01-16  -0.708925\n",
       "7   2020-01-16  -0.653999\n",
       "9   2020-01-24  -0.306296\n",
       "8   2020-01-24  -0.375750\n",
       "10  2020-02-08  -0.441058\n",
       "11  2020-02-08  -0.393921\n",
       "12  2020-02-08  -0.399265\n",
       "13  2020-03-16  -0.685786\n",
       "14  2020-03-16  -0.614493\n",
       "15  2020-03-16  -0.613510\n",
       "18  2020-03-19  -0.564921\n",
       "16  2020-03-19  -0.607619\n",
       "17  2020-03-19  -0.563522\n",
       "19  2020-03-19  -0.568980"
      ]
     },
     "execution_count": 12,
     "metadata": {},
     "output_type": "execute_result"
    }
   ],
   "source": [
    "x.df"
   ]
  },
  {
   "cell_type": "markdown",
   "id": "61f4fde1-435d-49bd-a5e9-f6f64e458df2",
   "metadata": {},
   "source": [
    "# Environment and example test \n",
    "Test done with freshly installed conda environment. "
   ]
  },
  {
   "cell_type": "code",
   "execution_count": 1,
   "id": "aab5b837-960d-47b1-b548-b93ac0b0b15e",
   "metadata": {},
   "outputs": [],
   "source": [
    "import ee \n",
    "import numpy as np\n",
    "import pandas as pd \n",
    "import matplotlib.pyplot as plt "
   ]
  },
  {
   "cell_type": "code",
   "execution_count": 2,
   "id": "3250ad8c-48de-4777-a7c6-d806fdbd0bf5",
   "metadata": {},
   "outputs": [
    {
     "data": {
      "text/plain": [
       "True"
      ]
     },
     "execution_count": 2,
     "metadata": {},
     "output_type": "execute_result"
    }
   ],
   "source": [
    "ee.Initialize() \n",
    "ee.Authenticate() "
   ]
  },
  {
   "cell_type": "code",
   "execution_count": 3,
   "id": "694a10c6-0c8a-4809-8b6e-27b56a729ef1",
   "metadata": {},
   "outputs": [],
   "source": [
    "import geoindexity.geoindexity as gx"
   ]
  },
  {
   "cell_type": "code",
   "execution_count": 4,
   "id": "e82f4224-4f94-4de0-bbb9-68d18d951d74",
   "metadata": {},
   "outputs": [
    {
     "ename": "AttributeError",
     "evalue": "module 'geoindexity.geoindexity' has no attribute 'ndvi_collection'",
     "output_type": "error",
     "traceback": [
      "\u001b[1;31m---------------------------------------------------------------------------\u001b[0m",
      "\u001b[1;31mAttributeError\u001b[0m                            Traceback (most recent call last)",
      "Cell \u001b[1;32mIn[4], line 15\u001b[0m\n\u001b[0;32m      9\u001b[0m properties \u001b[38;5;241m=\u001b[39m {\n\u001b[0;32m     10\u001b[0m     \u001b[38;5;124m'\u001b[39m\u001b[38;5;124mCLOUDY_PIXEL_PERCENTAGE\u001b[39m\u001b[38;5;124m'\u001b[39m:\u001b[38;5;241m10\u001b[39m\n\u001b[0;32m     11\u001b[0m }\n\u001b[0;32m     13\u001b[0m ts \u001b[38;5;241m=\u001b[39m gx\u001b[38;5;241m.\u001b[39mGeoindexity(roi, start_date, end_date, properties\u001b[38;5;241m=\u001b[39mproperties, collection_id\u001b[38;5;241m=\u001b[39m\u001b[38;5;124m'\u001b[39m\u001b[38;5;124mSentinel\u001b[39m\u001b[38;5;124m'\u001b[39m)\n\u001b[1;32m---> 15\u001b[0m \u001b[43mgx\u001b[49m\u001b[38;5;241;43m.\u001b[39;49m\u001b[43mndvi_collection\u001b[49m() \n\u001b[0;32m     16\u001b[0m gx\u001b[38;5;241m.\u001b[39mreduce_ndvi_mean()\n\u001b[0;32m     17\u001b[0m gx\u001b[38;5;241m.\u001b[39mplot() \n",
      "\u001b[1;31mAttributeError\u001b[0m: module 'geoindexity.geoindexity' has no attribute 'ndvi_collection'"
     ]
    }
   ],
   "source": [
    "roi = [\n",
    "    12.90,\n",
    "    47.75,\n",
    "    13.20,\n",
    "    47.85,\n",
    "]\n",
    "start_date = '2020-01-01'\n",
    "end_date  = '2020-03-20'\n",
    "properties = {\n",
    "    'CLOUDY_PIXEL_PERCENTAGE':10\n",
    "}\n",
    "\n",
    "ts = gx.Geoindexity(roi, start_date, end_date, properties=properties, collection_id='Sentinel')\n",
    "\n",
    "gx.ndvi_collection() \n",
    "gx.reduce_ndvi_mean()\n",
    "gx.plot() "
   ]
  },
  {
   "cell_type": "code",
   "execution_count": 5,
   "id": "cf7780fa-52ae-4c04-95e3-6a8bb82c0a6e",
   "metadata": {},
   "outputs": [
    {
     "name": "stdout",
     "output_type": "stream",
     "text": [
      "Help on module geoindexity.geoindexity in geoindexity:\n",
      "\n",
      "NAME\n",
      "    geoindexity.geoindexity - This script includes the core GeoIndexity classes and functions.\n",
      "\n",
      "DESCRIPTION\n",
      "    GeoIndexity classes and functions are based on the Earth Engine API\n",
      "    for Google Earth Engine (GEE). A valid GEE account is therefore\n",
      "    necessary to use GeoIndexity. For more information on setting up your\n",
      "    GEE account and using GeoIndexity, please see https://github.com/ro-hit81/GeoIndexity/blob/main/README.md\n",
      "\n",
      "CLASSES\n",
      "    builtins.object\n",
      "        Geoindexity\n",
      "        Landsat\n",
      "        Sentinel\n",
      "\n",
      "    class Geoindexity(builtins.object)\n",
      "     |  Geoindexity(roi, start_date, end_date, collection_id='Sentinel', properties=None)\n",
      "     |\n",
      "     |  The core Geoindexity time-series object.\n",
      "     |  After initializaton funcionality can be used to calculate indices, plot time-series export\n",
      "     |  time-series data.\n",
      "     |  ...\n",
      "     |\n",
      "     |  Attributes\n",
      "     |  ----------\n",
      "     |  roi : list\n",
      "     |      The region of interest defined by [xmin, ymin, xmax, ymax].\n",
      "     |  start_date : str\n",
      "     |      The start date for filtering the image collection (format: 'YYYY-MM-DD').\n",
      "     |  end_date : str\n",
      "     |      The end date for filtering the image collection (format: 'YYYY-MM-DD').\n",
      "     |  collection_id: str\n",
      "     |       ID to choose a GEE collection. Default: 'Sentinel', 'Landsat'\n",
      "     |  properties: dict\n",
      "     |      Properties for additional filtering, such as CLOUDY_PIXEL_PERCENTAGE.\n",
      "     |  reducer: str\n",
      "     |      Tag indicating the latest used reducer.\n",
      "     |  df: DataFrame\n",
      "     |      Pandas dataframe that stores information of the latest reduction.\n",
      "     |\n",
      "     |  Methods\n",
      "     |  -------\n",
      "     |  len():\n",
      "     |      Returns the number of images in the time-series.\n",
      "     |  bound():\n",
      "     |      Returns the AOI as ee.Geometry.Rectanlge\n",
      "     |  add_ndvi(image):\n",
      "     |      Calculates and adds NDVI band to given image.\n",
      "     |      Used inside ndvi_collection function.\n",
      "     |  add_evi(image):\n",
      "     |      Calculates and adds EVI band to given image.\n",
      "     |      Used inside evi_collection function.\n",
      "     |  ndvi_collection():\n",
      "     |      Maps add_ndvi() to the image collection.\n",
      "     |  evi_collection():\n",
      "     |      Maps add_evi() to the image collection.\n",
      "     |  reduce_ndvi_mean():\n",
      "     |      Reduces the time-series collection based on the ROI using NDVI band and mean.\n",
      "     |  plot():\n",
      "     |     Standard plotting function for the geoindexity time-series object.\n",
      "     |\n",
      "     |  Methods defined here:\n",
      "     |\n",
      "     |  __init__(self, roi, start_date, end_date, collection_id='Sentinel', properties=None)\n",
      "     |      Initialize self.  See help(type(self)) for accurate signature.\n",
      "     |\n",
      "     |  __len__(self)\n",
      "     |      Returns the number if images in the time-series.\n",
      "     |\n",
      "     |  add_evi(self, image)\n",
      "     |      Calculates and adds EVI band to given image.\n",
      "     |      Used inside evi_collection function.\n",
      "     |\n",
      "     |          Parameters:\n",
      "     |              image (ee.Image): Single image.\n",
      "     |          Returns:\n",
      "     |              image (ee.Image): Input image with added EVI band.\n",
      "     |\n",
      "     |  add_ndvi(self, image)\n",
      "     |      Calculates and adds NDVI band to given image.\n",
      "     |      Used inside ndvi_collection function.\n",
      "     |\n",
      "     |          Parameters:\n",
      "     |              image (ee.Image): Single image.\n",
      "     |          Returns:\n",
      "     |              image (ee.Image): Input image with added NDVI band.\n",
      "     |\n",
      "     |  bound(self)\n",
      "     |      Returns the AOI as ee.Geometry.Rectanlge\n",
      "     |\n",
      "     |  evi_collection(self)\n",
      "     |      Maps add_evi() to the image collection.\n",
      "     |\n",
      "     |  export_image_collection_to_drive(self, description, folder='earth_engine_exports')\n",
      "     |      Exports the entire image collection to Google Drive as a single zip file.\n",
      "     |\n",
      "     |      Parameters:\n",
      "     |          description (str): Description for the exported image collection.\n",
      "     |          folder (str): Folder name in Google Drive where the zip file will be exported (default: 'earth_engine_exports').\n",
      "     |\n",
      "     |  export_image_to_drive(self, image, description, folder='earth_engine_exports')\n",
      "     |      Exports a single image to Google Drive.\n",
      "     |\n",
      "     |      Parameters:\n",
      "     |          image (ee.Image): Image to export.\n",
      "     |          description (str): Description for the exported image.\n",
      "     |          folder (str): Folder name in Google Drive where the image will be exported (default: 'earth_engine_exports').\n",
      "     |\n",
      "     |  export_plot_to_drive(self, description, folder='earth_engine_exports')\n",
      "     |      Exports the current plot to Google Drive as a PNG file.\n",
      "     |\n",
      "     |      Parameters:\n",
      "     |          description (str): Description for the exported plot.\n",
      "     |          folder (str): Folder name in Google Drive where the plot will be exported (default: 'earth_engine_exports').\n",
      "     |\n",
      "     |  ndvi_collection(self)\n",
      "     |      Maps add_ndvi() to the image collection.\n",
      "     |\n",
      "     |  plot(self)\n",
      "     |      Standard plotting function for the geoindexity time-series object.\n",
      "     |\n",
      "     |  reduce_ndvi_mean(self)\n",
      "     |      Reduces the time-series collection based on the ROI using NDVI band and mean.\n",
      "     |\n",
      "     |      Attributes reducer and df get assigned.\n",
      "     |\n",
      "     |  ----------------------------------------------------------------------\n",
      "     |  Data descriptors defined here:\n",
      "     |\n",
      "     |  __dict__\n",
      "     |      dictionary for instance variables\n",
      "     |\n",
      "     |  __weakref__\n",
      "     |      list of weak references to the object\n",
      "\n",
      "    class Landsat(builtins.object)\n",
      "     |  Landsat(roi, start_date, end_date, collection_id, properties=None)\n",
      "     |\n",
      "     |  A class to handle Landsat satellite imagery from Google Earth Engine.\n",
      "     |\n",
      "     |  Attributes\n",
      "     |  ----------\n",
      "     |  roi : list\n",
      "     |      The region of interest defined by [xmin, ymin, xmax, ymax].\n",
      "     |  start_date : str\n",
      "     |      The start date for filtering the image collection (format: 'YYYY-MM-DD').\n",
      "     |  end_date : str\n",
      "     |      The end date for filtering the image collection (format: 'YYYY-MM-DD').\n",
      "     |  collection_id : str\n",
      "     |      The ID of the Landsat image collection.\n",
      "     |  properties\n",
      "     |      Properties for additional filtering, such as CLOUD_COVER.\n",
      "     |\n",
      "     |  Methods defined here:\n",
      "     |\n",
      "     |  __init__(self, roi, start_date, end_date, collection_id, properties=None)\n",
      "     |      Initializes the Landsat class with region of interest, date range, collection ID, and optional properties.\n",
      "     |\n",
      "     |      Arguments\n",
      "     |      ----------\n",
      "     |      roi : list\n",
      "     |          The region of interest defined by [xmin, ymin, xmax, ymax].\n",
      "     |      start_date : str\n",
      "     |          The start date for filtering the image collection (format: 'YYYY-MM-DD').\n",
      "     |      end_date : str\n",
      "     |          The end date for filtering the image collection (format: 'YYYY-MM-DD').\n",
      "     |      collection_id : str\n",
      "     |          The ID of the Landsat image collection.\n",
      "     |      properties\n",
      "     |          Properties for additional filtering, such as CLOUD_COVER.\n",
      "     |\n",
      "     |  bound(self)\n",
      "     |      Returns the region of interest as an Earth Engine Geometry Rectangle.\n",
      "     |\n",
      "     |      Returns\n",
      "     |      ----------\n",
      "     |      ee.Geometry.Rectangle\n",
      "     |          The region of interest as a rectangle.\n",
      "     |\n",
      "     |  number_of_images(self)\n",
      "     |      Prints the total number of images in the filtered Landsat image collection.\n",
      "     |\n",
      "     |  select_mission(self)\n",
      "     |      Provides a dictionary of Landsat missions with their operational date ranges.\n",
      "     |\n",
      "     |      Returns\n",
      "     |      ----------\n",
      "     |      dict:\n",
      "     |          A dictionary where keys are mission names and values are tuples of (start_date, end_date).\n",
      "     |\n",
      "     |  select_product(self)\n",
      "     |      Filters the Landsat image collection based on the date range, region of interest, and optional properties.\n",
      "     |\n",
      "     |      Returns\n",
      "     |      ----------\n",
      "     |      ee.ImageCollection\n",
      "     |          The filtered Landsat image collection.\n",
      "     |\n",
      "     |      Raises\n",
      "     |      ----------\n",
      "     |      KeyError: If an invalid property name is provided.\n",
      "     |\n",
      "     |  ----------------------------------------------------------------------\n",
      "     |  Data descriptors defined here:\n",
      "     |\n",
      "     |  __dict__\n",
      "     |      dictionary for instance variables\n",
      "     |\n",
      "     |  __weakref__\n",
      "     |      list of weak references to the object\n",
      "\n",
      "    class Sentinel(builtins.object)\n",
      "     |  Sentinel(roi, start_date, end_date, collection_id, properties=None)\n",
      "     |\n",
      "     |  A class to handle Sentinel satellite imagery from Google Earth Engine.\n",
      "     |\n",
      "     |  Attributes\n",
      "     |  ----------\n",
      "     |  roi : list\n",
      "     |      The region of interest defined by [xmin, ymin, xmax, ymax].\n",
      "     |  start_date : str\n",
      "     |      The start date for filtering the image collection (format: 'YYYY-MM-DD').\n",
      "     |  end_date : str\n",
      "     |      The end date for filtering the image collection (format: 'YYYY-MM-DD').\n",
      "     |  collection_id : str\n",
      "     |      The ID of the Sentinel image collection.\n",
      "     |  properties : dict\n",
      "     |      Properties for additional filtering, such as CLOUDY_PIXEL_PERCENTAGE.\n",
      "     |\n",
      "     |  Methods defined here:\n",
      "     |\n",
      "     |  __init__(self, roi, start_date, end_date, collection_id, properties=None)\n",
      "     |      Initializes the Sentinel class with region of interest, date range, collection ID, and optional properties.\n",
      "     |\n",
      "     |      Arguments\n",
      "     |      ----------\n",
      "     |      roi : list\n",
      "     |          The region of interest defined by [xmin, ymin, xmax, ymax].\n",
      "     |      start_date : str\n",
      "     |          The start date for filtering the image collection (format: 'YYYY-MM-DD').\n",
      "     |      end_date : str\n",
      "     |          The end date for filtering the image collection (format: 'YYYY-MM-DD').\n",
      "     |      collection_id : str\n",
      "     |          The ID of the Sentinel image collection.\n",
      "     |      properties : dict, optional\n",
      "     |          Properties for additional filtering, such as CLOUDY_PIXEL_PERCENTAGE.\n",
      "     |\n",
      "     |  bound(self)\n",
      "     |      Returns the region of interest as an Earth Engine Geometry Rectangle.\n",
      "     |\n",
      "     |      Returns\n",
      "     |      ----------\n",
      "     |      ee.Geometry.Rectangle\n",
      "     |          The region of interest as a rectangle.\n",
      "     |\n",
      "     |  number_of_images(self)\n",
      "     |      Prints the total number of images in the filtered Sentinel image collection.\n",
      "     |\n",
      "     |  select_product(self)\n",
      "     |      Filters the Sentinel image collection based on the date range, region of interest, and optional properties.\n",
      "     |\n",
      "     |      Returns\n",
      "     |      ----------\n",
      "     |      ee.ImageCollection\n",
      "     |          The filtered Sentinel image collection.\n",
      "     |\n",
      "     |      Raises\n",
      "     |      ----------\n",
      "     |      KeyError: If an invalid property name is provided.\n",
      "     |\n",
      "     |  ----------------------------------------------------------------------\n",
      "     |  Data descriptors defined here:\n",
      "     |\n",
      "     |  __dict__\n",
      "     |      dictionary for instance variables\n",
      "     |\n",
      "     |  __weakref__\n",
      "     |      list of weak references to the object\n",
      "\n",
      "FUNCTIONS\n",
      "    download_plot_local(obj, fig_name='plot.png')\n",
      "        Generates and saves a plot locally.\n",
      "\n",
      "        Parameters:\n",
      "        - obj: Geoindexity\n",
      "            The Geoindexity object containing the data to plot.\n",
      "        - fig_name: str, optional\n",
      "            The filename to save the plot as (default is 'plot.png').\n",
      "\n",
      "FILE\n",
      "    c:\\users\\davha\\anaconda3\\envs\\final_test\\lib\\site-packages\\geoindexity\\geoindexity.py\n",
      "\n",
      "\n"
     ]
    }
   ],
   "source": [
    "help(gx)"
   ]
  },
  {
   "cell_type": "code",
   "execution_count": null,
   "id": "8143414d-e2ef-4eeb-b01f-1a4bd0933a2e",
   "metadata": {},
   "outputs": [],
   "source": []
  }
 ],
 "metadata": {
  "kernelspec": {
   "display_name": "Python 3 (ipykernel)",
   "language": "python",
   "name": "python3"
  },
  "language_info": {
   "codemirror_mode": {
    "name": "ipython",
    "version": 3
   },
   "file_extension": ".py",
   "mimetype": "text/x-python",
   "name": "python",
   "nbconvert_exporter": "python",
   "pygments_lexer": "ipython3",
   "version": "3.12.4"
  }
 },
 "nbformat": 4,
 "nbformat_minor": 5
}
