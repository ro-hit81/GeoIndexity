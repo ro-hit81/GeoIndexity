{
 "cells": [
  {
   "cell_type": "code",
   "execution_count": 25,
   "id": "f2cebe2c-c7fe-4343-a1f7-ff0e6cf6e862",
   "metadata": {},
   "outputs": [],
   "source": [
    "import ee "
   ]
  },
  {
   "cell_type": "code",
   "execution_count": 26,
   "id": "84f8c11f-bd33-4789-9364-7784376f9618",
   "metadata": {},
   "outputs": [],
   "source": [
    "ee.Authenticate() \n",
    "ee.Initialize() "
   ]
  },
  {
   "cell_type": "code",
   "execution_count": 42,
   "id": "32eb27e2-68dd-4fa3-90c0-b7949d5ad27d",
   "metadata": {
    "editable": true,
    "slideshow": {
     "slide_type": ""
    },
    "tags": []
   },
   "outputs": [],
   "source": [
    "class Geoindexity:\n",
    "    \"\"\"\n",
    "    The core geoindexity time series object. \n",
    "    ...\n",
    "\n",
    "    Attributes\n",
    "    ----------\n",
    "    aoi : list\n",
    "        [xmin, ymin, xmax, ymax]\n",
    "    startdate : str\n",
    "        'yyyy-mm-dd'\n",
    "    enddate : str\n",
    "        'yyyy-mm-dd'\n",
    "    product: str \n",
    "        GEE data set: 'S1', 'S2_TOA', 'S2_SR' \n",
    "    cloudcover: int \n",
    "        percentage cloudcover threshold for series\n",
    "\n",
    "    Methods\n",
    "    -------\n",
    "    fetch_data(self):\n",
    "        Fetches GEE Image collection based on the following time_series attributes:\n",
    "        product, aoi, startdate, enddate, cloudcover\n",
    "\n",
    "    \"\"\"\n",
    "    # Will be changed accordingly to the config file parameters\n",
    "\n",
    "    def __init__(self, aoi, startdate, enddate, product, cloudcover):\n",
    "        data_dict = {\n",
    "            'S2_TOA': 'COPERNICUS/S2_HARMONIZED',\n",
    "            'Sentinel': 'COPERNICUS/S2_SR_HARMONIZED',\n",
    "            'Landsat': 'LANDSAT/LC08/C02/T1_L2'}\n",
    "        \n",
    "        self.aoi = ee.Geometry.Rectangle(aoi)\n",
    "        self.startdate = startdate\n",
    "        self.enddate = enddate\n",
    "        self.product = data_dict[product] \n",
    "        self.cloudcover = cloudcover\n",
    "        self.collection = ee.ImageCollection(self.product).filterBounds(self.aoi).filterDate(self.startdate, self.enddate).filter(ee.Filter.lte('CLOUDY_PIXEL_PERCENTAGE', self.cloudcover))\n",
    "    def __len__(self): \n",
    "        if self.collection != None:\n",
    "            return self.collection.size().getInfo()\n",
    "        else: \n",
    "            return 0\n",
    "\n",
    "    def add_NDVI(self, image):\n",
    "        if self.product == 'COPERNICUS/S2_SR_HARMONIZED':\n",
    "            ndvi = image.expression( \n",
    "                '((nir - red)/(nir + red))',\n",
    "                {'nir': image.select('B4'),\n",
    "                 'red': image.select('B8')}\n",
    "            ).rename('NDVI')\n",
    "        elif self.product == 'LANDSAT/LC08/C02/T1_L2': \n",
    "            ndvi = image.expression( \n",
    "                '((nir - red)/(nir + red))',\n",
    "                {'nir': image.select('SR_B5'),\n",
    "                 'red': image.select('SR_B4')}\n",
    "            ).rename('NDVI')      \n",
    "            \n",
    "        return image.addBands(ndvi)\n",
    "\n",
    "\n",
    "    def add_EVI(self, img): \n",
    "        if self.product == 'COPERNICUS/S2_SR_HARMONIZED':\n",
    "              evi = img.expression(\n",
    "                '2.5 * ((nir – red) / (nir + 6 * red – 7.5 * blue + 1))',\n",
    "                {'nir': img.select('B8'),\n",
    "                 'red': img.select('B4'),\n",
    "                 'blue': img.select('B2')}\n",
    "              ).rename('EVI')\n",
    "\n",
    "        elif self.product == 'LANDSAT/LC08/C02/T1_L2':\n",
    "            evi = img.expression(\n",
    "                '(2.5 * (nir–red) / (nir + 6 * red – 7.5 * blue + 1)',\n",
    "                {'nir': img.select('SR_B5'),\n",
    "                 'red': img.select('SR_B4'),\n",
    "                 'blue': img.select('SR_B2')}\n",
    "            ).rename('EVI')\n",
    "        \n",
    "        return img.addBands(evi)\n",
    "        \n",
    "    def ndvi_collection(self):\n",
    "       self.collection = self.collection.map(self.add_NDVI) \n",
    "\n",
    "    def evi_collection(self):\n",
    "        self.collection = self.collection.map(self.add_EVI) \n"
   ]
  },
  {
   "cell_type": "code",
   "execution_count": 43,
   "id": "b11e807b-941f-4f2d-aaec-2182047b9970",
   "metadata": {
    "editable": true,
    "slideshow": {
     "slide_type": ""
    },
    "tags": []
   },
   "outputs": [],
   "source": [
    "aoi = [-2.9,\n",
    "       47.48,\n",
    "       -2.6,\n",
    "       47.63\n",
    "      ]\n",
    "\n",
    "\n",
    "x = Geoindexity(aoi,\n",
    "            startdate='2023-06-01',\n",
    "            enddate='2023-08-30', \n",
    "            product= 'Sentinel', \n",
    "            cloudcover=10)"
   ]
  },
  {
   "cell_type": "code",
   "execution_count": 44,
   "id": "1b339ed7-1ade-4e30-832d-38f78d42ca9d",
   "metadata": {
    "editable": true,
    "slideshow": {
     "slide_type": ""
    },
    "tags": []
   },
   "outputs": [],
   "source": [
    "x.ndvi_collection()"
   ]
  },
  {
   "cell_type": "code",
   "execution_count": 45,
   "id": "e78f97dc-aabe-401f-8892-39627ef63cca",
   "metadata": {},
   "outputs": [],
   "source": [
    "x.evi_collection()"
   ]
  },
  {
   "cell_type": "code",
   "execution_count": 46,
   "id": "39a255d7-1c2c-4fa3-b53b-3e8f71cc9070",
   "metadata": {},
   "outputs": [
    {
     "ename": "EEException",
     "evalue": "Image.parseExpression: Expression parse error at character 12:\n'2.5 * ((nir – red) / (nir + 6 * red – 7.5 * blue + 1))'\n             ^.",
     "output_type": "error",
     "traceback": [
      "\u001B[1;31m---------------------------------------------------------------------------\u001B[0m",
      "\u001B[1;31mHttpError\u001B[0m                                 Traceback (most recent call last)",
      "File \u001B[1;32m~\\anaconda3\\envs\\gee_test\\Lib\\site-packages\\ee\\data.py:402\u001B[0m, in \u001B[0;36m_execute_cloud_call\u001B[1;34m(call, num_retries)\u001B[0m\n\u001B[0;32m    401\u001B[0m \u001B[38;5;28;01mtry\u001B[39;00m:\n\u001B[1;32m--> 402\u001B[0m   \u001B[38;5;28;01mreturn\u001B[39;00m call\u001B[38;5;241m.\u001B[39mexecute(num_retries\u001B[38;5;241m=\u001B[39mnum_retries)\n\u001B[0;32m    403\u001B[0m \u001B[38;5;28;01mexcept\u001B[39;00m googleapiclient\u001B[38;5;241m.\u001B[39merrors\u001B[38;5;241m.\u001B[39mHttpError \u001B[38;5;28;01mas\u001B[39;00m e:\n",
      "File \u001B[1;32m~\\anaconda3\\envs\\gee_test\\Lib\\site-packages\\googleapiclient\\_helpers.py:130\u001B[0m, in \u001B[0;36mpositional.<locals>.positional_decorator.<locals>.positional_wrapper\u001B[1;34m(*args, **kwargs)\u001B[0m\n\u001B[0;32m    129\u001B[0m         logger\u001B[38;5;241m.\u001B[39mwarning(message)\n\u001B[1;32m--> 130\u001B[0m \u001B[38;5;28;01mreturn\u001B[39;00m wrapped(\u001B[38;5;241m*\u001B[39margs, \u001B[38;5;241m*\u001B[39m\u001B[38;5;241m*\u001B[39mkwargs)\n",
      "File \u001B[1;32m~\\anaconda3\\envs\\gee_test\\Lib\\site-packages\\googleapiclient\\http.py:938\u001B[0m, in \u001B[0;36mHttpRequest.execute\u001B[1;34m(self, http, num_retries)\u001B[0m\n\u001B[0;32m    937\u001B[0m \u001B[38;5;28;01mif\u001B[39;00m resp\u001B[38;5;241m.\u001B[39mstatus \u001B[38;5;241m>\u001B[39m\u001B[38;5;241m=\u001B[39m \u001B[38;5;241m300\u001B[39m:\n\u001B[1;32m--> 938\u001B[0m     \u001B[38;5;28;01mraise\u001B[39;00m HttpError(resp, content, uri\u001B[38;5;241m=\u001B[39m\u001B[38;5;28mself\u001B[39m\u001B[38;5;241m.\u001B[39muri)\n\u001B[0;32m    939\u001B[0m \u001B[38;5;28;01mreturn\u001B[39;00m \u001B[38;5;28mself\u001B[39m\u001B[38;5;241m.\u001B[39mpostproc(resp, content)\n",
      "\u001B[1;31mHttpError\u001B[0m: <HttpError 400 when requesting https://earthengine.googleapis.com/v1/projects/ee-davidhansen896/value:compute?prettyPrint=false&alt=json returned \"Image.parseExpression: Expression parse error at character 12:\n'2.5 * ((nir – red) / (nir + 6 * red – 7.5 * blue + 1))'\n             ^.\". Details: \"Image.parseExpression: Expression parse error at character 12:\n'2.5 * ((nir – red) / (nir + 6 * red – 7.5 * blue + 1))'\n             ^.\">",
      "\nDuring handling of the above exception, another exception occurred:\n",
      "\u001B[1;31mEEException\u001B[0m                               Traceback (most recent call last)",
      "Cell \u001B[1;32mIn[46], line 1\u001B[0m\n\u001B[1;32m----> 1\u001B[0m x\u001B[38;5;241m.\u001B[39mcollection\u001B[38;5;241m.\u001B[39mgetInfo()\n",
      "File \u001B[1;32m~\\anaconda3\\envs\\gee_test\\Lib\\site-packages\\ee\\collection.py:159\u001B[0m, in \u001B[0;36mCollection.getInfo\u001B[1;34m(self)\u001B[0m\n\u001B[0;32m    146\u001B[0m \u001B[38;5;28;01mdef\u001B[39;00m \u001B[38;5;21mgetInfo\u001B[39m(\u001B[38;5;28mself\u001B[39m) \u001B[38;5;241m-\u001B[39m\u001B[38;5;241m>\u001B[39m Optional[Any]:\n\u001B[0;32m    147\u001B[0m \u001B[38;5;250m  \u001B[39m\u001B[38;5;124;03m\"\"\"Returns all the known information about this collection.\u001B[39;00m\n\u001B[0;32m    148\u001B[0m \n\u001B[0;32m    149\u001B[0m \u001B[38;5;124;03m  This function makes a REST call to to retrieve all the known information\u001B[39;00m\n\u001B[1;32m   (...)\u001B[0m\n\u001B[0;32m    157\u001B[0m \u001B[38;5;124;03m         properties.\u001B[39;00m\n\u001B[0;32m    158\u001B[0m \u001B[38;5;124;03m  \"\"\"\u001B[39;00m\n\u001B[1;32m--> 159\u001B[0m   \u001B[38;5;28;01mreturn\u001B[39;00m \u001B[38;5;28msuper\u001B[39m()\u001B[38;5;241m.\u001B[39mgetInfo()\n",
      "File \u001B[1;32m~\\anaconda3\\envs\\gee_test\\Lib\\site-packages\\ee\\computedobject.py:107\u001B[0m, in \u001B[0;36mComputedObject.getInfo\u001B[1;34m(self)\u001B[0m\n\u001B[0;32m    101\u001B[0m \u001B[38;5;28;01mdef\u001B[39;00m \u001B[38;5;21mgetInfo\u001B[39m(\u001B[38;5;28mself\u001B[39m) \u001B[38;5;241m-\u001B[39m\u001B[38;5;241m>\u001B[39m Optional[Any]:\n\u001B[0;32m    102\u001B[0m \u001B[38;5;250m  \u001B[39m\u001B[38;5;124;03m\"\"\"Fetch and return information about this object.\u001B[39;00m\n\u001B[0;32m    103\u001B[0m \n\u001B[0;32m    104\u001B[0m \u001B[38;5;124;03m  Returns:\u001B[39;00m\n\u001B[0;32m    105\u001B[0m \u001B[38;5;124;03m    The object can evaluate to anything.\u001B[39;00m\n\u001B[0;32m    106\u001B[0m \u001B[38;5;124;03m  \"\"\"\u001B[39;00m\n\u001B[1;32m--> 107\u001B[0m   \u001B[38;5;28;01mreturn\u001B[39;00m data\u001B[38;5;241m.\u001B[39mcomputeValue(\u001B[38;5;28mself\u001B[39m)\n",
      "File \u001B[1;32m~\\anaconda3\\envs\\gee_test\\Lib\\site-packages\\ee\\data.py:1107\u001B[0m, in \u001B[0;36mcomputeValue\u001B[1;34m(obj)\u001B[0m\n\u001B[0;32m   1104\u001B[0m body \u001B[38;5;241m=\u001B[39m {\u001B[38;5;124m'\u001B[39m\u001B[38;5;124mexpression\u001B[39m\u001B[38;5;124m'\u001B[39m: serializer\u001B[38;5;241m.\u001B[39mencode(obj, for_cloud_api\u001B[38;5;241m=\u001B[39m\u001B[38;5;28;01mTrue\u001B[39;00m)}\n\u001B[0;32m   1105\u001B[0m _maybe_populate_workload_tag(body)\n\u001B[1;32m-> 1107\u001B[0m \u001B[38;5;28;01mreturn\u001B[39;00m _execute_cloud_call(\n\u001B[0;32m   1108\u001B[0m     _get_cloud_projects()\n\u001B[0;32m   1109\u001B[0m     \u001B[38;5;241m.\u001B[39mvalue()\n\u001B[0;32m   1110\u001B[0m     \u001B[38;5;241m.\u001B[39mcompute(body\u001B[38;5;241m=\u001B[39mbody, project\u001B[38;5;241m=\u001B[39m_get_projects_path(), prettyPrint\u001B[38;5;241m=\u001B[39m\u001B[38;5;28;01mFalse\u001B[39;00m)\n\u001B[0;32m   1111\u001B[0m )[\u001B[38;5;124m'\u001B[39m\u001B[38;5;124mresult\u001B[39m\u001B[38;5;124m'\u001B[39m]\n",
      "File \u001B[1;32m~\\anaconda3\\envs\\gee_test\\Lib\\site-packages\\ee\\data.py:404\u001B[0m, in \u001B[0;36m_execute_cloud_call\u001B[1;34m(call, num_retries)\u001B[0m\n\u001B[0;32m    402\u001B[0m   \u001B[38;5;28;01mreturn\u001B[39;00m call\u001B[38;5;241m.\u001B[39mexecute(num_retries\u001B[38;5;241m=\u001B[39mnum_retries)\n\u001B[0;32m    403\u001B[0m \u001B[38;5;28;01mexcept\u001B[39;00m googleapiclient\u001B[38;5;241m.\u001B[39merrors\u001B[38;5;241m.\u001B[39mHttpError \u001B[38;5;28;01mas\u001B[39;00m e:\n\u001B[1;32m--> 404\u001B[0m   \u001B[38;5;28;01mraise\u001B[39;00m _translate_cloud_exception(e)\n",
      "\u001B[1;31mEEException\u001B[0m: Image.parseExpression: Expression parse error at character 12:\n'2.5 * ((nir – red) / (nir + 6 * red – 7.5 * blue + 1))'\n             ^."
     ]
    }
   ],
   "source": [
    "x.collection.getInfo()"
   ]
  },
  {
   "cell_type": "code",
   "execution_count": null,
   "id": "a43e9d94-5eee-41dd-976d-87db23e18ff5",
   "metadata": {},
   "outputs": [],
   "source": []
  },
  {
   "cell_type": "markdown",
   "source": [],
   "metadata": {
    "collapsed": false
   },
   "id": "71b98ff80f0c7698"
  },
  {
   "cell_type": "code",
   "outputs": [],
   "source": [],
   "metadata": {
    "collapsed": false
   },
   "id": "c685ba4e304c021d"
  }
 ],
 "metadata": {
  "kernelspec": {
   "display_name": "Python 3 (ipykernel)",
   "language": "python",
   "name": "python3"
  },
  "language_info": {
   "codemirror_mode": {
    "name": "ipython",
    "version": 3
   },
   "file_extension": ".py",
   "mimetype": "text/x-python",
   "name": "python",
   "nbconvert_exporter": "python",
   "pygments_lexer": "ipython3",
   "version": "3.12.3"
  }
 },
 "nbformat": 4,
 "nbformat_minor": 5
}
