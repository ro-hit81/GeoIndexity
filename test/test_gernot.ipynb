{
 "cells": [
  {
   "cell_type": "markdown",
   "id": "cc1ba829-bfd9-4375-b353-04772a7dd47a",
   "metadata": {},
   "source": [
    "# Functions for (1) aggregration of image collection, (2) band selection based on specific index, (3) mapping functions for time-series"
   ]
  },
  {
   "cell_type": "code",
   "execution_count": 40,
   "id": "3e5cd4f9-c0fa-4e05-b8f8-d14b7143cd1a",
   "metadata": {},
   "outputs": [],
   "source": [
    "# import gee\n",
    "import ee\n",
    "import folium"
   ]
  },
  {
   "cell_type": "code",
   "execution_count": 41,
   "id": "44c5c5b0-2b22-47c1-98b9-c0b802f81464",
   "metadata": {},
   "outputs": [],
   "source": [
    "#authentificate, generate token and allow access rights\n",
    "ee.Authenticate()\n",
    "ee.Initialize()"
   ]
  },
  {
   "cell_type": "markdown",
   "id": "f32f4ac3-5a35-40bf-bb28-552c919cd0e0",
   "metadata": {},
   "source": [
    "## (1) aggregration of image collection"
   ]
  },
  {
   "cell_type": "code",
   "execution_count": 42,
   "id": "4e8f5037-41ea-4f96-bddd-9a0840c4c785",
   "metadata": {},
   "outputs": [],
   "source": [
    "#function for aggregratrion\n",
    "def aggregate_image_collection(collection, start_date, end_date, aggregation_method):\n",
    "    collection = ee.ImageCollection(collection).filterDate(start_date, end_date)\n",
    "    \n",
    "    if aggregation_method == 'mean':\n",
    "        return collection.mean()\n",
    "    elif aggregation_method == 'median':\n",
    "        return collection.mean()\n",
    "    elif aggregation_method == 'sum':\n",
    "        return collection.mean()\n",
    "    elif aggregation_method == 'min':\n",
    "        return collection.mean()\n",
    "    elif aggregation_method == 'max':\n",
    "        return collection.mean()\n",
    "    else:\n",
    "        print(\"Wrong aggregation method! Available: mean, median, sum, min, max\")"
   ]
  },
  {
   "cell_type": "markdown",
   "id": "71d43ba9-eaf1-465b-a5b2-2818905a1c45",
   "metadata": {},
   "source": [
    "## (2) band selection based on specific index"
   ]
  },
  {
   "cell_type": "code",
   "execution_count": 43,
   "id": "18cfa2a9-84e0-4fd7-9a65-2f2dade4779a",
   "metadata": {},
   "outputs": [],
   "source": [
    "def select_bands(image, index_name, satellite_name):\n",
    "\n",
    "    if satellite_name == 'Sentinel-2':\n",
    "        band_mapping = {\n",
    "            'RED': 'B4',\n",
    "            'GREEN': 'B3',\n",
    "            'BLUE': 'B2',\n",
    "            'NIR': 'B8'\n",
    "        }\n",
    "    elif satellite_name == 'Landsat-8':\n",
    "        band_mapping = {\n",
    "            'RED': 'B4',\n",
    "            'GREEN': 'B3',\n",
    "            'BLUE': 'B2',\n",
    "            'NIR': 'B5'\n",
    "        }\n",
    "    else:\n",
    "        print('Wrong satellite! Available: Sentinel-2 or Landsat-8')\n",
    "\n",
    "    if index_name in ['RED', 'GREEN', 'BLUE', 'NIR']:\n",
    "        return image.select(band_mapping[index_name])\n",
    "    else:\n",
    "        raise ValueError(\"Unsupported index!\")\n",
    "    "
   ]
  },
  {
   "cell_type": "markdown",
   "id": "4517bd56-2609-45b4-8951-0b45de755944",
   "metadata": {},
   "source": [
    "## (3) mapping functions for time-series"
   ]
  },
  {
   "cell_type": "code",
   "execution_count": 44,
   "id": "45fcc5ec-9ca2-4a85-a747-eda026d4d5b9",
   "metadata": {},
   "outputs": [
    {
     "data": {
      "text/plain": [
       "'\\ndef map_time_series(collection, start_date, end_date, index_name):\\n    collection = ee.ImageCollection(collection).filterDate(start_date, end_date)\\n    index_time_series = collection.map(calc_ndvi)\\n    \\n    return index_time_series\\n'"
      ]
     },
     "execution_count": 44,
     "metadata": {},
     "output_type": "execute_result"
    }
   ],
   "source": [
    "'''\n",
    "def map_time_series(collection, start_date, end_date, index_name):\n",
    "    collection = ee.ImageCollection(collection).filterDate(start_date, end_date)\n",
    "    index_time_series = collection.map(calc_ndvi)\n",
    "    \n",
    "    return index_time_series\n",
    "'''"
   ]
  },
  {
   "cell_type": "code",
   "execution_count": 45,
   "id": "2b8cb18f-8c78-4d1a-819d-eb07823ec667",
   "metadata": {},
   "outputs": [
    {
     "data": {
      "text/plain": [
       "\"\\ndef calc_ndvi(image):\\n    red = select_bands(image, 'RED', 'Sentinel-2')\\n    nir = select_bands(image, 'NIR', 'Sentinel-2')\\n    ndvi = nir.subtract(red).divide(nir.add(red)).rename('NDVI')\\n    return image.addBands(ndvi)\\n\""
      ]
     },
     "execution_count": 45,
     "metadata": {},
     "output_type": "execute_result"
    }
   ],
   "source": [
    "'''\n",
    "def calc_ndvi(image):\n",
    "    red = select_bands(image, 'RED', 'Sentinel-2')\n",
    "    nir = select_bands(image, 'NIR', 'Sentinel-2')\n",
    "    ndvi = nir.subtract(red).divide(nir.add(red)).rename('NDVI')\n",
    "    return image.addBands(ndvi)\n",
    "'''"
   ]
  },
  {
   "cell_type": "markdown",
   "id": "abae24cf-48a5-4896-aad3-620ccf9f7f5f",
   "metadata": {},
   "source": [
    "## Test"
   ]
  },
  {
   "cell_type": "code",
   "execution_count": 46,
   "id": "7390d5a8-38ea-4c1d-a656-2477963dfe8e",
   "metadata": {},
   "outputs": [],
   "source": [
    "# area of interest in olomouc, czechia\n",
    "aoi = ee.Geometry.Rectangle(17.22,\n",
    "                            49.61,\n",
    "                            17.26,\n",
    "                            49.63)"
   ]
  },
  {
   "cell_type": "code",
   "execution_count": 47,
   "id": "c2617d79-815f-41b8-9bda-0798c4d48abc",
   "metadata": {},
   "outputs": [],
   "source": [
    "# set the start and end date\n",
    "start_date = '2023-01-01'\n",
    "end_date = '2023-12-31'"
   ]
  },
  {
   "cell_type": "code",
   "execution_count": 48,
   "id": "8193ea5d-4e2d-4a6b-af6a-f42098ee3259",
   "metadata": {},
   "outputs": [],
   "source": [
    "# select sentinel 2 imagery\n",
    "collection = ee.ImageCollection('COPERNICUS/S2').filterBounds(aoi).filterDate(start_date, end_date)\n",
    "collection = collection.filterMetadata('CLOUDY_PIXEL_PERCENTAGE', 'less_than', 20);"
   ]
  },
  {
   "cell_type": "code",
   "execution_count": 49,
   "id": "a771865a-191a-432c-af80-cb991e5d2842",
   "metadata": {},
   "outputs": [],
   "source": [
    "# Aggregate the collection to get the mean image\n",
    "mean_image = aggregate_image_collection(collection, start_date, end_date, 'mean')"
   ]
  },
  {
   "cell_type": "code",
   "execution_count": 50,
   "id": "c6547d26-3bfe-4ae2-a3df-58076d541703",
   "metadata": {
    "scrolled": true
   },
   "outputs": [
    {
     "name": "stdout",
     "output_type": "stream",
     "text": [
      "{'type': 'Image', 'bands': [{'id': 'B4', 'data_type': {'type': 'PixelType', 'precision': 'double', 'min': 0, 'max': 65535}, 'crs': 'EPSG:4326', 'crs_transform': [1, 0, 0, 0, 1, 0]}]}\n"
     ]
    }
   ],
   "source": [
    "# Select the red band of the image\n",
    "red = select_bands(mean_image, 'RED', 'Sentinel-2')\n",
    "print(red.getInfo())"
   ]
  },
  {
   "cell_type": "code",
   "execution_count": 51,
   "id": "bdd4557d-186d-4715-93ca-c0c71debedb4",
   "metadata": {},
   "outputs": [
    {
     "name": "stdout",
     "output_type": "stream",
     "text": [
      "{'type': 'Image', 'bands': [{'id': 'B8', 'data_type': {'type': 'PixelType', 'precision': 'double', 'min': 0, 'max': 65535}, 'crs': 'EPSG:4326', 'crs_transform': [1, 0, 0, 0, 1, 0]}]}\n"
     ]
    }
   ],
   "source": [
    "# Select the nir band of the image\n",
    "nir = select_bands(mean_image, 'NIR', 'Sentinel-2')\n",
    "print(nir.getInfo())"
   ]
  },
  {
   "cell_type": "code",
   "execution_count": 52,
   "id": "96486b73-bef6-46a3-a38f-6f00d8b9cef4",
   "metadata": {
    "scrolled": true
   },
   "outputs": [
    {
     "data": {
      "text/plain": [
       "\"\\n# Create a time series of NDVI for Sentinel-2\\nndvi_time_series = map_time_series(collection, start_date, end_date, 'NDVI')\\n\""
      ]
     },
     "execution_count": 52,
     "metadata": {},
     "output_type": "execute_result"
    }
   ],
   "source": [
    "'''\n",
    "# Create a time series of NDVI for Sentinel-2\n",
    "ndvi_time_series = map_time_series(collection, start_date, end_date, 'NDVI')\n",
    "'''"
   ]
  },
  {
   "cell_type": "code",
   "execution_count": 53,
   "id": "b82b2b29-57a7-4c4b-9733-b8574d469aaa",
   "metadata": {},
   "outputs": [
    {
     "data": {
      "text/plain": [
       "'\\nprint(ndvi_time_series.getInfo())\\n'"
      ]
     },
     "execution_count": 53,
     "metadata": {},
     "output_type": "execute_result"
    }
   ],
   "source": [
    "'''\n",
    "print(ndvi_time_series.getInfo())\n",
    "'''"
   ]
  },
  {
   "cell_type": "code",
   "execution_count": null,
   "id": "ab38881e-6605-41b4-88ac-f39a8b575149",
   "metadata": {},
   "outputs": [],
   "source": []
  },
  {
   "cell_type": "code",
   "execution_count": null,
   "id": "d8bd68cc-4f81-453d-a660-1db193b13c74",
   "metadata": {},
   "outputs": [],
   "source": []
  },
  {
   "cell_type": "code",
   "execution_count": null,
   "id": "5043a377-3bf9-4679-95bd-7bdfdb7fae45",
   "metadata": {},
   "outputs": [],
   "source": []
  }
 ],
 "metadata": {
  "kernelspec": {
   "display_name": "Python 3 (ipykernel)",
   "language": "python",
   "name": "python3"
  },
  "language_info": {
   "codemirror_mode": {
    "name": "ipython",
    "version": 3
   },
   "file_extension": ".py",
   "mimetype": "text/x-python",
   "name": "python",
   "nbconvert_exporter": "python",
   "pygments_lexer": "ipython3",
   "version": "3.12.3"
  }
 },
 "nbformat": 4,
 "nbformat_minor": 5
}
