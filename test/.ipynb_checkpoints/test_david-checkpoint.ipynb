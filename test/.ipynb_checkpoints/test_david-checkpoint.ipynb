{
 "cells": [
  {
   "cell_type": "code",
   "execution_count": 2,
   "id": "80a59db0-a7f7-4aff-aa41-893addd32d3b",
   "metadata": {},
   "outputs": [],
   "source": [
    "import ee"
   ]
  },
  {
   "cell_type": "code",
   "execution_count": 3,
   "id": "b7b12582-c7f9-4366-891e-26f9aef1a28f",
   "metadata": {},
   "outputs": [],
   "source": [
    "# In order to use GEE (its EO data collections AND computing resources) we have to authentificate\n",
    "# and to initialize the project we want to work in. \n",
    "ee.Authenticate()\n",
    "ee.Initialize(project='ee-davidhansen896')"
   ]
  },
  {
   "cell_type": "code",
   "execution_count": 103,
   "id": "eebdbdfa-c0f8-4a04-8c18-46c376e55fa6",
   "metadata": {},
   "outputs": [],
   "source": [
    "class time_series:\n",
    "    \"\"\"\n",
    "    The core geoindexity time series object. \n",
    "    ...\n",
    "\n",
    "    Attributes\n",
    "    ----------\n",
    "    aoi : list\n",
    "        [xmin, ymin, xmax, ymax]\n",
    "    startdate : str\n",
    "        'yyyy-mm-dd'\n",
    "    enddate : str\n",
    "        'yyyy-mm-dd'\n",
    "    product: str \n",
    "        GEE data set: 'S1', 'S2_TOA', 'S2_SR' \n",
    "    cloudcover: int \n",
    "        percentage cloudcover threshold for series\n",
    "\n",
    "    Methods\n",
    "    -------\n",
    "    fetch_data(self):\n",
    "        Fetches GEE Image collection based on the following time_series attributes:\n",
    "        product, aoi, startdate, enddate, cloudcover\n",
    "\n",
    "    \"\"\"\n",
    "\n",
    "    data_dict = {'S1': 'COPERNICUS/S1_GRD', \n",
    "             'S2_TOA': 'COPERNICUS/S2_HARMONIZED',\n",
    "             'S2_SR': 'COPERNICUS/S2_SR_HARMONIZED'}\n",
    "    \n",
    "    def __init__(self, aoi, startdate, enddate, product, cloudcover):\n",
    "        self.aoi = ee.Geometry.Rectangle(aoi)\n",
    "        self.startdate = startdate\n",
    "        self.enddate = enddate\n",
    "        self.product = data_dict[product] \n",
    "        self.cloudcover = cloudcover\n",
    "        self.collection = None\n",
    "\n",
    "    def __len__(self): \n",
    "        if self.collection != None:\n",
    "            return self.collection.size().getInfo()\n",
    "        else: \n",
    "            return 0\n",
    "\n",
    "    def fetch_data(self): \n",
    "        \"\"\"\n",
    "        Fetches GEE Image collection based on the following time_series attributes:\n",
    "        product, aoi, startdate, enddate, cloudcover\n",
    "        ...\n",
    "        Images with cloud percentage <= cloudcover are used for the collection\n",
    "        \"\"\"\n",
    "        ee_collection = ee.ImageCollection(self.product)\n",
    "        self.collection = ee_collection.filterBounds(self.aoi).filterDate(self.startdate, self.enddate).filter(ee.Filter.lte('CLOUDY_PIXEL_PERCENTAGE', self.cloudcover))    "
   ]
  },
  {
   "cell_type": "code",
   "execution_count": 104,
   "id": "45d77eba-307f-415b-b4a0-c8e51110cf21",
   "metadata": {},
   "outputs": [],
   "source": [
    "aoi = [-2.9,\n",
    "       47.48,\n",
    "       -2.6,\n",
    "       47.63\n",
    "      ]\n",
    "\n",
    "ts = time_series(aoi,\n",
    "            startdate='2023-06-01',\n",
    "            enddate='2023-08-30', \n",
    "            product= 'S2_SR', \n",
    "            cloudcover=10)"
   ]
  },
  {
   "cell_type": "code",
   "execution_count": 105,
   "id": "aa2aae27-197a-4084-a18f-2230043782e1",
   "metadata": {},
   "outputs": [
    {
     "data": {
      "text/plain": [
       "0"
      ]
     },
     "execution_count": 105,
     "metadata": {},
     "output_type": "execute_result"
    }
   ],
   "source": [
    "len(ts) "
   ]
  },
  {
   "cell_type": "code",
   "execution_count": 106,
   "id": "398d85eb-2c4f-4769-8d56-5919b5308480",
   "metadata": {},
   "outputs": [],
   "source": [
    "ts.fetch_data()"
   ]
  },
  {
   "cell_type": "code",
   "execution_count": 107,
   "id": "d6ad2f51-3b3f-47ad-b682-23729b4fc25b",
   "metadata": {},
   "outputs": [
    {
     "data": {
      "text/plain": [
       "7"
      ]
     },
     "execution_count": 107,
     "metadata": {},
     "output_type": "execute_result"
    }
   ],
   "source": [
    "len(ts)"
   ]
  }
 ],
 "metadata": {
  "kernelspec": {
   "display_name": "Python 3 (ipykernel)",
   "language": "python",
   "name": "python3"
  },
  "language_info": {
   "codemirror_mode": {
    "name": "ipython",
    "version": 3
   },
   "file_extension": ".py",
   "mimetype": "text/x-python",
   "name": "python",
   "nbconvert_exporter": "python",
   "pygments_lexer": "ipython3",
   "version": "3.12.3"
  }
 },
 "nbformat": 4,
 "nbformat_minor": 5
}
